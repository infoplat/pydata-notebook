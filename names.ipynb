{
 "metadata": {
  "name": "names"
 }, 
 "nbformat": 2, 
 "worksheets": [
  {
   "cells": [
    {
     "cell_type": "code", 
     "collapsed": true, 
     "input": [
      "#1880-2010\u5e74\u95f4\u5168\u7f8e\u5a74\u513f\u59d3\u540d"
     ], 
     "language": "python", 
     "outputs": [], 
     "prompt_number": 47
    }, 
    {
     "cell_type": "code", 
     "collapsed": true, 
     "input": [
      "import pandas as pd"
     ], 
     "language": "python", 
     "outputs": [], 
     "prompt_number": 48
    }, 
    {
     "cell_type": "code", 
     "collapsed": true, 
     "input": [
      "path =  'E:/git/pydata-book/ch02/names/'", 
      "file1880 = 'yob1880.txt'", 
      "# \u59d3\u540d\uff0c\u6027\u522b\uff0c\u51fa\u751f\u6570", 
      "names=['name', 'sex', 'births']"
     ], 
     "language": "python", 
     "outputs": [], 
     "prompt_number": 49
    }, 
    {
     "cell_type": "code", 
     "collapsed": true, 
     "input": [
      "names1880 = pd.read_csv(path + file1880, names=names)"
     ], 
     "language": "python", 
     "outputs": [], 
     "prompt_number": 50
    }, 
    {
     "cell_type": "code", 
     "collapsed": false, 
     "input": [
      "names1880"
     ], 
     "language": "python", 
     "outputs": [
      {
       "output_type": "pyout", 
       "prompt_number": 51, 
       "text": [
        "<class 'pandas.core.frame.DataFrame'>", 
        "Int64Index: 2000 entries, 0 to 1999", 
        "Data columns:", 
        "name      2000  non-null values", 
        "sex       2000  non-null values", 
        "births    2000  non-null values", 
        "dtypes: int64(1), object(2)"
       ]
      }
     ], 
     "prompt_number": 51
    }, 
    {
     "cell_type": "code", 
     "collapsed": false, 
     "input": [
      "names1880.groupby('sex').births.sum()"
     ], 
     "language": "python", 
     "outputs": [
      {
       "output_type": "pyout", 
       "prompt_number": 52, 
       "text": [
        "sex", 
        "F       90993", 
        "M      110493", 
        "Name: births"
       ]
      }
     ], 
     "prompt_number": 52
    }, 
    {
     "cell_type": "code", 
     "collapsed": true, 
     "input": [
      "#\u5c061880\u5e74\u81f32010\u5e74\u6240\u6709\u6570\u636e\u90fd\u7ec4\u88c5\u5230\u4e00\u4e2aDataFrame\u91cc,\u5e76\u52a0\u4e0a\u4e00\u4e2ayear\u5b57\u6bb5", 
      "#2010\u662f\u76ee\u524d\u6700\u540e\u4e00\u4e2a\u6709\u6548\u7edf\u8ba1\u5e74\u5ea6", 
      "years = range(1880, 2011)", 
      "", 
      "pieces = []", 
      "columns = ['name', 'sex', 'births']", 
      "", 
      "for year in years:", 
      "    filename = 'yob%d.txt' % year", 
      "    frame = pd.read_csv(path + filename, names=columns)", 
      "    frame['year'] = year", 
      "    pieces.append(frame)", 
      "", 
      "#\u5c06\u6240\u6709\u7684\u6570\u636e\u6574\u5408\u5230\u5355\u4e2aDataFrame\u4e2d", 
      "names = pd.concat(pieces, ignore_index=True)"
     ], 
     "language": "python", 
     "outputs": [], 
     "prompt_number": 53
    }, 
    {
     "cell_type": "code", 
     "collapsed": false, 
     "input": [
      "names"
     ], 
     "language": "python", 
     "outputs": [
      {
       "output_type": "pyout", 
       "prompt_number": 54, 
       "text": [
        "<class 'pandas.core.frame.DataFrame'>", 
        "Int64Index: 1690784 entries, 0 to 1690783", 
        "Data columns:", 
        "name      1690784  non-null values", 
        "sex       1690784  non-null values", 
        "births    1690784  non-null values", 
        "year      1690784  non-null values", 
        "dtypes: int64(2), object(2)"
       ]
      }
     ], 
     "prompt_number": 54
    }, 
    {
     "cell_type": "code", 
     "collapsed": true, 
     "input": [
      "total_births = names.pivot_table('births', rows='year', cols='sex', aggfunc=sum)"
     ], 
     "language": "python", 
     "outputs": [], 
     "prompt_number": 57
    }, 
    {
     "cell_type": "code", 
     "collapsed": false, 
     "input": [
      "total_births.tail()"
     ], 
     "language": "python", 
     "outputs": [
      {
       "html": [
        "<div style=\"max-height:1000px;max-width:1500px;overflow:auto;\">", 
        "<table border=\"1\" class=\"dataframe\">", 
        "  <thead>", 
        "    <tr style=\"text-align: right;\">", 
        "      <th>sex</th>", 
        "      <th>F</th>", 
        "      <th>M</th>", 
        "    </tr>", 
        "    <tr>", 
        "      <th>year</th>", 
        "      <th></th>", 
        "      <th></th>", 
        "    </tr>", 
        "  </thead>", 
        "  <tbody>", 
        "    <tr>", 
        "      <td><strong>2006</strong></td>", 
        "      <td> 1896468</td>", 
        "      <td> 2050234</td>", 
        "    </tr>", 
        "    <tr>", 
        "      <td><strong>2007</strong></td>", 
        "      <td> 1916888</td>", 
        "      <td> 2069242</td>", 
        "    </tr>", 
        "    <tr>", 
        "      <td><strong>2008</strong></td>", 
        "      <td> 1883645</td>", 
        "      <td> 2032310</td>", 
        "    </tr>", 
        "    <tr>", 
        "      <td><strong>2009</strong></td>", 
        "      <td> 1827643</td>", 
        "      <td> 1973359</td>", 
        "    </tr>", 
        "    <tr>", 
        "      <td><strong>2010</strong></td>", 
        "      <td> 1759010</td>", 
        "      <td> 1898382</td>", 
        "    </tr>", 
        "  </tbody>", 
        "</table>", 
        "</div>"
       ], 
       "output_type": "pyout", 
       "prompt_number": 61, 
       "text": [
        "sex         F        M", 
        "year                  ", 
        "2006  1896468  2050234", 
        "2007  1916888  2069242", 
        "2008  1883645  2032310", 
        "2009  1827643  1973359", 
        "2010  1759010  1898382"
       ]
      }
     ], 
     "prompt_number": 61
    }, 
    {
     "cell_type": "code", 
     "collapsed": false, 
     "input": [
      "total_births.plot(title='Total births by sex and year')"
     ], 
     "language": "python", 
     "outputs": [
      {
       "output_type": "pyout", 
       "prompt_number": 103, 
       "text": [
        "<matplotlib.axes.AxesSubplot at 0x1580c4d0>"
       ]
      }, 
      {
       "output_type": "display_data", 
       "png": "[encoded data removed]"
      }
     ], 
     "prompt_number": 103
    }, 
    {
     "cell_type": "code", 
     "collapsed": true, 
     "input": [], 
     "language": "python", 
     "outputs": []
    }
   ]
  }
 ]
}