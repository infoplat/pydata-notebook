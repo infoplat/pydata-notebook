{
 "metadata": {
  "name": "MovieLens1M"
 }, 
 "nbformat": 2, 
 "worksheets": [
  {
   "cells": [
    {
     "cell_type": "code", 
     "collapsed": false, 
     "input": [
      "import pandas as pd", 
      "path = 'E:/git/pydata-book/ch02/movielens/'"
     ], 
     "language": "python", 
     "outputs": [], 
     "prompt_number": 4
    }, 
    {
     "cell_type": "code", 
     "collapsed": true, 
     "input": [
      "user_names = ['user_id', 'gender', 'age', 'occupation', 'zip']", 
      "users = pd.read_table(path + 'users.dat', sep='::', header=None, names=user_names)"
     ], 
     "language": "python", 
     "outputs": [], 
     "prompt_number": 6
    }, 
    {
     "cell_type": "code", 
     "collapsed": true, 
     "input": [
      "rating_names = ['user_id', 'movie_id', 'rating', 'timestamp']"
     ], 
     "language": "python", 
     "outputs": [], 
     "prompt_number": 7
    }, 
    {
     "cell_type": "code", 
     "collapsed": true, 
     "input": [
      "ratings = pd.read_table(path + 'ratings.dat', '::', header=None, names=rating_names)"
     ], 
     "language": "python", 
     "outputs": [], 
     "prompt_number": 8
    }, 
    {
     "cell_type": "code", 
     "collapsed": true, 
     "input": [
      "movie_names = ['movie_id', 'title', 'genres']"
     ], 
     "language": "python", 
     "outputs": [], 
     "prompt_number": 9
    }, 
    {
     "cell_type": "code", 
     "collapsed": true, 
     "input": [
      "movies = pd.read_table(path + 'movies.dat', '::', header=None, names=movie_names)"
     ], 
     "language": "python", 
     "outputs": [], 
     "prompt_number": 10
    }, 
    {
     "cell_type": "code", 
     "collapsed": false, 
     "input": [
      "users[:5]"
     ], 
     "language": "python", 
     "outputs": [
      {
       "html": [
        "<div style=\"max-height:1000px;max-width:1500px;overflow:auto;\">", 
        "<table border=\"1\" class=\"dataframe\">", 
        "  <thead>", 
        "    <tr style=\"text-align: right;\">", 
        "      <th></th>", 
        "      <th>user_id</th>", 
        "      <th>gender</th>", 
        "      <th>age</th>", 
        "      <th>occupation</th>", 
        "      <th>zip</th>", 
        "    </tr>", 
        "  </thead>", 
        "  <tbody>", 
        "    <tr>", 
        "      <td><strong>0</strong></td>", 
        "      <td> 1</td>", 
        "      <td> F</td>", 
        "      <td>  1</td>", 
        "      <td> 10</td>", 
        "      <td> 48067</td>", 
        "    </tr>", 
        "    <tr>", 
        "      <td><strong>1</strong></td>", 
        "      <td> 2</td>", 
        "      <td> M</td>", 
        "      <td> 56</td>", 
        "      <td> 16</td>", 
        "      <td> 70072</td>", 
        "    </tr>", 
        "    <tr>", 
        "      <td><strong>2</strong></td>", 
        "      <td> 3</td>", 
        "      <td> M</td>", 
        "      <td> 25</td>", 
        "      <td> 15</td>", 
        "      <td> 55117</td>", 
        "    </tr>", 
        "    <tr>", 
        "      <td><strong>3</strong></td>", 
        "      <td> 4</td>", 
        "      <td> M</td>", 
        "      <td> 45</td>", 
        "      <td>  7</td>", 
        "      <td> 02460</td>", 
        "    </tr>", 
        "    <tr>", 
        "      <td><strong>4</strong></td>", 
        "      <td> 5</td>", 
        "      <td> M</td>", 
        "      <td> 25</td>", 
        "      <td> 20</td>", 
        "      <td> 55455</td>", 
        "    </tr>", 
        "  </tbody>", 
        "</table>", 
        "</div>"
       ], 
       "output_type": "pyout", 
       "prompt_number": 11, 
       "text": [
        "   user_id gender  age  occupation    zip", 
        "0        1      F    1          10  48067", 
        "1        2      M   56          16  70072", 
        "2        3      M   25          15  55117", 
        "3        4      M   45           7  02460", 
        "4        5      M   25          20  55455"
       ]
      }
     ], 
     "prompt_number": 11
    }, 
    {
     "cell_type": "code", 
     "collapsed": false, 
     "input": [
      "ratings[:5]"
     ], 
     "language": "python", 
     "outputs": [
      {
       "html": [
        "<div style=\"max-height:1000px;max-width:1500px;overflow:auto;\">", 
        "<table border=\"1\" class=\"dataframe\">", 
        "  <thead>", 
        "    <tr style=\"text-align: right;\">", 
        "      <th></th>", 
        "      <th>user_id</th>", 
        "      <th>movie_id</th>", 
        "      <th>rating</th>", 
        "      <th>timestamp</th>", 
        "    </tr>", 
        "  </thead>", 
        "  <tbody>", 
        "    <tr>", 
        "      <td><strong>0</strong></td>", 
        "      <td> 1</td>", 
        "      <td> 1193</td>", 
        "      <td> 5</td>", 
        "      <td> 978300760</td>", 
        "    </tr>", 
        "    <tr>", 
        "      <td><strong>1</strong></td>", 
        "      <td> 1</td>", 
        "      <td>  661</td>", 
        "      <td> 3</td>", 
        "      <td> 978302109</td>", 
        "    </tr>", 
        "    <tr>", 
        "      <td><strong>2</strong></td>", 
        "      <td> 1</td>", 
        "      <td>  914</td>", 
        "      <td> 3</td>", 
        "      <td> 978301968</td>", 
        "    </tr>", 
        "    <tr>", 
        "      <td><strong>3</strong></td>", 
        "      <td> 1</td>", 
        "      <td> 3408</td>", 
        "      <td> 4</td>", 
        "      <td> 978300275</td>", 
        "    </tr>", 
        "    <tr>", 
        "      <td><strong>4</strong></td>", 
        "      <td> 1</td>", 
        "      <td> 2355</td>", 
        "      <td> 5</td>", 
        "      <td> 978824291</td>", 
        "    </tr>", 
        "  </tbody>", 
        "</table>", 
        "</div>"
       ], 
       "output_type": "pyout", 
       "prompt_number": 13, 
       "text": [
        "   user_id  movie_id  rating  timestamp", 
        "0        1      1193       5  978300760", 
        "1        1       661       3  978302109", 
        "2        1       914       3  978301968", 
        "3        1      3408       4  978300275", 
        "4        1      2355       5  978824291"
       ]
      }
     ], 
     "prompt_number": 13
    }, 
    {
     "cell_type": "code", 
     "collapsed": false, 
     "input": [
      "movies[:5]"
     ], 
     "language": "python", 
     "outputs": [
      {
       "html": [
        "<div style=\"max-height:1000px;max-width:1500px;overflow:auto;\">", 
        "<table border=\"1\" class=\"dataframe\">", 
        "  <thead>", 
        "    <tr style=\"text-align: right;\">", 
        "      <th></th>", 
        "      <th>movie_id</th>", 
        "      <th>title</th>", 
        "      <th>genres</th>", 
        "    </tr>", 
        "  </thead>", 
        "  <tbody>", 
        "    <tr>", 
        "      <td><strong>0</strong></td>", 
        "      <td> 1</td>", 
        "      <td>                   Toy Story (1995)</td>", 
        "      <td>  Animation|Children's|Comedy</td>", 
        "    </tr>", 
        "    <tr>", 
        "      <td><strong>1</strong></td>", 
        "      <td> 2</td>", 
        "      <td>                     Jumanji (1995)</td>", 
        "      <td> Adventure|Children's|Fantasy</td>", 
        "    </tr>", 
        "    <tr>", 
        "      <td><strong>2</strong></td>", 
        "      <td> 3</td>", 
        "      <td>            Grumpier Old Men (1995)</td>", 
        "      <td>               Comedy|Romance</td>", 
        "    </tr>", 
        "    <tr>", 
        "      <td><strong>3</strong></td>", 
        "      <td> 4</td>", 
        "      <td>           Waiting to Exhale (1995)</td>", 
        "      <td>                 Comedy|Drama</td>", 
        "    </tr>", 
        "    <tr>", 
        "      <td><strong>4</strong></td>", 
        "      <td> 5</td>", 
        "      <td> Father of the Bride Part II (1995)</td>", 
        "      <td>                       Comedy</td>", 
        "    </tr>", 
        "  </tbody>", 
        "</table>", 
        "</div>"
       ], 
       "output_type": "pyout", 
       "prompt_number": 14, 
       "text": [
        "   movie_id                               title                        genres", 
        "0         1                    Toy Story (1995)   Animation|Children's|Comedy", 
        "1         2                      Jumanji (1995)  Adventure|Children's|Fantasy", 
        "2         3             Grumpier Old Men (1995)                Comedy|Romance", 
        "3         4            Waiting to Exhale (1995)                  Comedy|Drama", 
        "4         5  Father of the Bride Part II (1995)                        Comedy"
       ]
      }
     ], 
     "prompt_number": 14
    }, 
    {
     "cell_type": "code", 
     "collapsed": false, 
     "input": [
      "ratings"
     ], 
     "language": "python", 
     "outputs": [
      {
       "output_type": "pyout", 
       "prompt_number": 15, 
       "text": [
        "<class 'pandas.core.frame.DataFrame'>", 
        "Int64Index: 1000209 entries, 0 to 1000208", 
        "Data columns:", 
        "user_id      1000209  non-null values", 
        "movie_id     1000209  non-null values", 
        "rating       1000209  non-null values", 
        "timestamp    1000209  non-null values", 
        "dtypes: int64(4)"
       ]
      }
     ], 
     "prompt_number": 15
    }, 
    {
     "cell_type": "code", 
     "collapsed": true, 
     "input": [
      "data = pd.merge(pd.merge(ratings, users), movies)"
     ], 
     "language": "python", 
     "outputs": [], 
     "prompt_number": 16
    }, 
    {
     "cell_type": "code", 
     "collapsed": false, 
     "input": [
      "data"
     ], 
     "language": "python", 
     "outputs": [
      {
       "output_type": "pyout", 
       "prompt_number": 17, 
       "text": [
        "<class 'pandas.core.frame.DataFrame'>", 
        "Int64Index: 1000209 entries, 0 to 1000208", 
        "Data columns:", 
        "user_id       1000209  non-null values", 
        "movie_id      1000209  non-null values", 
        "rating        1000209  non-null values", 
        "timestamp     1000209  non-null values", 
        "gender        1000209  non-null values", 
        "age           1000209  non-null values", 
        "occupation    1000209  non-null values", 
        "zip           1000209  non-null values", 
        "title         1000209  non-null values", 
        "genres        1000209  non-null values", 
        "dtypes: int64(6), object(4)"
       ]
      }
     ], 
     "prompt_number": 17
    }, 
    {
     "cell_type": "code", 
     "collapsed": false, 
     "input": [
      "data.ix[0]"
     ], 
     "language": "python", 
     "outputs": [
      {
       "output_type": "pyout", 
       "prompt_number": 19, 
       "text": [
        "user_id                                 1", 
        "movie_id                                1", 
        "rating                                  5", 
        "timestamp                       978824268", 
        "gender                                  F", 
        "age                                     1", 
        "occupation                             10", 
        "zip                                 48067", 
        "title                    Toy Story (1995)", 
        "genres        Animation|Children's|Comedy", 
        "Name: 0"
       ]
      }
     ], 
     "prompt_number": 19
    }, 
    {
     "cell_type": "code", 
     "collapsed": false, 
     "input": [
      "#\u6309\u6027\u522b\u8ba1\u7b97\u6bcf\u90e8\u7535\u5f71\u7684\u5e73\u5747\u5f97\u5206", 
      "mean_ratings = data.pivot_table('rating', rows='title', cols='gender', aggfunc='mean')"
     ], 
     "language": "python", 
     "outputs": [], 
     "prompt_number": 25
    }, 
    {
     "cell_type": "code", 
     "collapsed": false, 
     "input": [
      "mean_ratings[:5]"
     ], 
     "language": "python", 
     "outputs": [
      {
       "html": [
        "<div style=\"max-height:1000px;max-width:1500px;overflow:auto;\">", 
        "<table border=\"1\" class=\"dataframe\">", 
        "  <thead>", 
        "    <tr style=\"text-align: right;\">", 
        "      <th>gender</th>", 
        "      <th>F</th>", 
        "      <th>M</th>", 
        "    </tr>", 
        "    <tr>", 
        "      <th>title</th>", 
        "      <th></th>", 
        "      <th></th>", 
        "    </tr>", 
        "  </thead>", 
        "  <tbody>", 
        "    <tr>", 
        "      <td><strong>$1,000,000 Duck (1971)</strong></td>", 
        "      <td> 3.375000</td>", 
        "      <td> 2.761905</td>", 
        "    </tr>", 
        "    <tr>", 
        "      <td><strong>'Night Mother (1986)</strong></td>", 
        "      <td> 3.388889</td>", 
        "      <td> 3.352941</td>", 
        "    </tr>", 
        "    <tr>", 
        "      <td><strong>'Til There Was You (1997)</strong></td>", 
        "      <td> 2.675676</td>", 
        "      <td> 2.733333</td>", 
        "    </tr>", 
        "    <tr>", 
        "      <td><strong>'burbs, The (1989)</strong></td>", 
        "      <td> 2.793478</td>", 
        "      <td> 2.962085</td>", 
        "    </tr>", 
        "    <tr>", 
        "      <td><strong>...And Justice for All (1979)</strong></td>", 
        "      <td> 3.828571</td>", 
        "      <td> 3.689024</td>", 
        "    </tr>", 
        "  </tbody>", 
        "</table>", 
        "</div>"
       ], 
       "output_type": "pyout", 
       "prompt_number": 27, 
       "text": [
        "gender                                F         M", 
        "title                                            ", 
        "$1,000,000 Duck (1971)         3.375000  2.761905", 
        "'Night Mother (1986)           3.388889  3.352941", 
        "'Til There Was You (1997)      2.675676  2.733333", 
        "'burbs, The (1989)             2.793478  2.962085", 
        "...And Justice for All (1979)  3.828571  3.689024"
       ]
      }
     ], 
     "prompt_number": 27
    }, 
    {
     "cell_type": "code", 
     "collapsed": true, 
     "input": [
      "ratings_by_title = data.groupby('title').size()"
     ], 
     "language": "python", 
     "outputs": [], 
     "prompt_number": 28
    }, 
    {
     "cell_type": "code", 
     "collapsed": false, 
     "input": [
      "ratings_by_title[:10]"
     ], 
     "language": "python", 
     "outputs": [
      {
       "output_type": "pyout", 
       "prompt_number": 29, 
       "text": [
        "title", 
        "$1,000,000 Duck (1971)                37", 
        "'Night Mother (1986)                  70", 
        "'Til There Was You (1997)             52", 
        "'burbs, The (1989)                   303", 
        "...And Justice for All (1979)        199", 
        "1-900 (1994)                           2", 
        "10 Things I Hate About You (1999)    700", 
        "101 Dalmatians (1961)                565", 
        "101 Dalmatians (1996)                364", 
        "12 Angry Men (1957)                  616"
       ]
      }
     ], 
     "prompt_number": 29
    }, 
    {
     "cell_type": "code", 
     "collapsed": false, 
     "input": [
      "active_titles = ratings_by_title.index[ratings_by_title >=250]"
     ], 
     "language": "python", 
     "outputs": [], 
     "prompt_number": 38
    }, 
    {
     "cell_type": "code", 
     "collapsed": false, 
     "input": [
      "active_titles"
     ], 
     "language": "python", 
     "outputs": [
      {
       "output_type": "pyout", 
       "prompt_number": 43, 
       "text": [
        "Index(['burbs, The (1989), 10 Things I Hate About You (1999),", 
        "       101 Dalmatians (1961), ..., Young Sherlock Holmes (1985),", 
        "       Zero Effect (1998), eXistenZ (1999)], dtype=object)"
       ]
      }
     ], 
     "prompt_number": 43
    }, 
    {
     "cell_type": "code", 
     "collapsed": true, 
     "input": [
      "mean_ratings = mean_ratings.ix[active_titles]"
     ], 
     "language": "python", 
     "outputs": [], 
     "prompt_number": 44
    }, 
    {
     "cell_type": "code", 
     "collapsed": false, 
     "input": [
      "mean_ratings"
     ], 
     "language": "python", 
     "outputs": [
      {
       "output_type": "pyout", 
       "prompt_number": 51, 
       "text": [
        "<class 'pandas.core.frame.DataFrame'>", 
        "Index: 1216 entries, 'burbs, The (1989) to eXistenZ (1999)", 
        "Data columns:", 
        "F    1216  non-null values", 
        "M    1216  non-null values", 
        "dtypes: float64(2)"
       ]
      }
     ], 
     "prompt_number": 51
    }, 
    {
     "cell_type": "code", 
     "collapsed": true, 
     "input": [
      "top_female_ratings = mean_ratings.sort_index(by='F', ascending=False)"
     ], 
     "language": "python", 
     "outputs": [], 
     "prompt_number": 55
    }, 
    {
     "cell_type": "code", 
     "collapsed": false, 
     "input": [
      "top_female_ratings[:10]"
     ], 
     "language": "python", 
     "outputs": [
      {
       "html": [
        "<div style=\"max-height:1000px;max-width:1500px;overflow:auto;\">", 
        "<table border=\"1\" class=\"dataframe\">", 
        "  <thead>", 
        "    <tr style=\"text-align: right;\">", 
        "      <th>gender</th>", 
        "      <th>F</th>", 
        "      <th>M</th>", 
        "    </tr>", 
        "    <tr>", 
        "      <th>title</th>", 
        "      <th></th>", 
        "      <th></th>", 
        "    </tr>", 
        "  </thead>", 
        "  <tbody>", 
        "    <tr>", 
        "      <td><strong>Close Shave, A (1995)</strong></td>", 
        "      <td> 4.644444</td>", 
        "      <td> 4.473795</td>", 
        "    </tr>", 
        "    <tr>", 
        "      <td><strong>Wrong Trousers, The (1993)</strong></td>", 
        "      <td> 4.588235</td>", 
        "      <td> 4.478261</td>", 
        "    </tr>", 
        "    <tr>", 
        "      <td><strong>Sunset Blvd. (a.k.a. Sunset Boulevard) (1950)</strong></td>", 
        "      <td> 4.572650</td>", 
        "      <td> 4.464589</td>", 
        "    </tr>", 
        "    <tr>", 
        "      <td><strong>Wallace & Gromit: The Best of Aardman Animation (1996)</strong></td>", 
        "      <td> 4.563107</td>", 
        "      <td> 4.385075</td>", 
        "    </tr>", 
        "    <tr>", 
        "      <td><strong>Schindler's List (1993)</strong></td>", 
        "      <td> 4.562602</td>", 
        "      <td> 4.491415</td>", 
        "    </tr>", 
        "    <tr>", 
        "      <td><strong>Shawshank Redemption, The (1994)</strong></td>", 
        "      <td> 4.539075</td>", 
        "      <td> 4.560625</td>", 
        "    </tr>", 
        "    <tr>", 
        "      <td><strong>Grand Day Out, A (1992)</strong></td>", 
        "      <td> 4.537879</td>", 
        "      <td> 4.293255</td>", 
        "    </tr>", 
        "    <tr>", 
        "      <td><strong>To Kill a Mockingbird (1962)</strong></td>", 
        "      <td> 4.536667</td>", 
        "      <td> 4.372611</td>", 
        "    </tr>", 
        "    <tr>", 
        "      <td><strong>Creature Comforts (1990)</strong></td>", 
        "      <td> 4.513889</td>", 
        "      <td> 4.272277</td>", 
        "    </tr>", 
        "    <tr>", 
        "      <td><strong>Usual Suspects, The (1995)</strong></td>", 
        "      <td> 4.513317</td>", 
        "      <td> 4.518248</td>", 
        "    </tr>", 
        "  </tbody>", 
        "</table>", 
        "</div>"
       ], 
       "output_type": "pyout", 
       "prompt_number": 56, 
       "text": [
        "gender                                                         F         M", 
        "title                                                                     ", 
        "Close Shave, A (1995)                                   4.644444  4.473795", 
        "Wrong Trousers, The (1993)                              4.588235  4.478261", 
        "Sunset Blvd. (a.k.a. Sunset Boulevard) (1950)           4.572650  4.464589", 
        "Wallace & Gromit: The Best of Aardman Animation (1996)  4.563107  4.385075", 
        "Schindler's List (1993)                                 4.562602  4.491415", 
        "Shawshank Redemption, The (1994)                        4.539075  4.560625", 
        "Grand Day Out, A (1992)                                 4.537879  4.293255", 
        "To Kill a Mockingbird (1962)                            4.536667  4.372611", 
        "Creature Comforts (1990)                                4.513889  4.272277", 
        "Usual Suspects, The (1995)                              4.513317  4.518248"
       ]
      }
     ], 
     "prompt_number": 56
    }, 
    {
     "cell_type": "code", 
     "collapsed": false, 
     "input": [
      "mean_ratings['diff'] = mean_ratings['M'] - mean_ratings['F']"
     ], 
     "language": "python", 
     "outputs": [], 
     "prompt_number": 59
    }, 
    {
     "cell_type": "code", 
     "collapsed": false, 
     "input": [
      "sorted_by_diff = mean_ratings.sort_index(by='diff')"
     ], 
     "language": "python", 
     "outputs": [], 
     "prompt_number": 61
    }, 
    {
     "cell_type": "code", 
     "collapsed": false, 
     "input": [
      "#\u5206\u6b67\u6700\u5927\u4e14\u5973\u6027\u89c2\u4f17\u66f4\u559c\u6b22\u7684\u7535\u5f71", 
      "sorted_by_diff[:15]"
     ], 
     "language": "python", 
     "outputs": [
      {
       "html": [
        "<div style=\"max-height:1000px;max-width:1500px;overflow:auto;\">", 
        "<table border=\"1\" class=\"dataframe\">", 
        "  <thead>", 
        "    <tr style=\"text-align: right;\">", 
        "      <th>gender</th>", 
        "      <th>F</th>", 
        "      <th>M</th>", 
        "      <th>diff</th>", 
        "    </tr>", 
        "    <tr>", 
        "      <th>title</th>", 
        "      <th></th>", 
        "      <th></th>", 
        "      <th></th>", 
        "    </tr>", 
        "  </thead>", 
        "  <tbody>", 
        "    <tr>", 
        "      <td><strong>Dirty Dancing (1987)</strong></td>", 
        "      <td> 3.790378</td>", 
        "      <td> 2.959596</td>", 
        "      <td>-0.830782</td>", 
        "    </tr>", 
        "    <tr>", 
        "      <td><strong>Jumpin' Jack Flash (1986)</strong></td>", 
        "      <td> 3.254717</td>", 
        "      <td> 2.578358</td>", 
        "      <td>-0.676359</td>", 
        "    </tr>", 
        "    <tr>", 
        "      <td><strong>Grease (1978)</strong></td>", 
        "      <td> 3.975265</td>", 
        "      <td> 3.367041</td>", 
        "      <td>-0.608224</td>", 
        "    </tr>", 
        "    <tr>", 
        "      <td><strong>Little Women (1994)</strong></td>", 
        "      <td> 3.870588</td>", 
        "      <td> 3.321739</td>", 
        "      <td>-0.548849</td>", 
        "    </tr>", 
        "    <tr>", 
        "      <td><strong>Steel Magnolias (1989)</strong></td>", 
        "      <td> 3.901734</td>", 
        "      <td> 3.365957</td>", 
        "      <td>-0.535777</td>", 
        "    </tr>", 
        "    <tr>", 
        "      <td><strong>Anastasia (1997)</strong></td>", 
        "      <td> 3.800000</td>", 
        "      <td> 3.281609</td>", 
        "      <td>-0.518391</td>", 
        "    </tr>", 
        "    <tr>", 
        "      <td><strong>Rocky Horror Picture Show, The (1975)</strong></td>", 
        "      <td> 3.673016</td>", 
        "      <td> 3.160131</td>", 
        "      <td>-0.512885</td>", 
        "    </tr>", 
        "    <tr>", 
        "      <td><strong>Color Purple, The (1985)</strong></td>", 
        "      <td> 4.158192</td>", 
        "      <td> 3.659341</td>", 
        "      <td>-0.498851</td>", 
        "    </tr>", 
        "    <tr>", 
        "      <td><strong>Age of Innocence, The (1993)</strong></td>", 
        "      <td> 3.827068</td>", 
        "      <td> 3.339506</td>", 
        "      <td>-0.487561</td>", 
        "    </tr>", 
        "    <tr>", 
        "      <td><strong>Free Willy (1993)</strong></td>", 
        "      <td> 2.921348</td>", 
        "      <td> 2.438776</td>", 
        "      <td>-0.482573</td>", 
        "    </tr>", 
        "    <tr>", 
        "      <td><strong>French Kiss (1995)</strong></td>", 
        "      <td> 3.535714</td>", 
        "      <td> 3.056962</td>", 
        "      <td>-0.478752</td>", 
        "    </tr>", 
        "    <tr>", 
        "      <td><strong>Little Shop of Horrors, The (1960)</strong></td>", 
        "      <td> 3.650000</td>", 
        "      <td> 3.179688</td>", 
        "      <td>-0.470312</td>", 
        "    </tr>", 
        "    <tr>", 
        "      <td><strong>Guys and Dolls (1955)</strong></td>", 
        "      <td> 4.051724</td>", 
        "      <td> 3.583333</td>", 
        "      <td>-0.468391</td>", 
        "    </tr>", 
        "    <tr>", 
        "      <td><strong>Mary Poppins (1964)</strong></td>", 
        "      <td> 4.197740</td>", 
        "      <td> 3.730594</td>", 
        "      <td>-0.467147</td>", 
        "    </tr>", 
        "    <tr>", 
        "      <td><strong>Patch Adams (1998)</strong></td>", 
        "      <td> 3.473282</td>", 
        "      <td> 3.008746</td>", 
        "      <td>-0.464536</td>", 
        "    </tr>", 
        "  </tbody>", 
        "</table>", 
        "</div>"
       ], 
       "output_type": "pyout", 
       "prompt_number": 62, 
       "text": [
        "gender                                        F         M      diff", 
        "title                                                              ", 
        "Dirty Dancing (1987)                   3.790378  2.959596 -0.830782", 
        "Jumpin' Jack Flash (1986)              3.254717  2.578358 -0.676359", 
        "Grease (1978)                          3.975265  3.367041 -0.608224", 
        "Little Women (1994)                    3.870588  3.321739 -0.548849", 
        "Steel Magnolias (1989)                 3.901734  3.365957 -0.535777", 
        "Anastasia (1997)                       3.800000  3.281609 -0.518391", 
        "Rocky Horror Picture Show, The (1975)  3.673016  3.160131 -0.512885", 
        "Color Purple, The (1985)               4.158192  3.659341 -0.498851", 
        "Age of Innocence, The (1993)           3.827068  3.339506 -0.487561", 
        "Free Willy (1993)                      2.921348  2.438776 -0.482573", 
        "French Kiss (1995)                     3.535714  3.056962 -0.478752", 
        "Little Shop of Horrors, The (1960)     3.650000  3.179688 -0.470312", 
        "Guys and Dolls (1955)                  4.051724  3.583333 -0.468391", 
        "Mary Poppins (1964)                    4.197740  3.730594 -0.467147", 
        "Patch Adams (1998)                     3.473282  3.008746 -0.464536"
       ]
      }
     ], 
     "prompt_number": 62
    }, 
    {
     "cell_type": "code", 
     "collapsed": false, 
     "input": [
      "#\u5206\u6b67\u6700\u5927\u4e14\u7537\u6027\u89c2\u4f17\u66f4\u559c\u6b22\u7684\u7535\u5f71", 
      "sorted_by_diff[::-1][:15]"
     ], 
     "language": "python", 
     "outputs": [
      {
       "html": [
        "<div style=\"max-height:1000px;max-width:1500px;overflow:auto;\">", 
        "<table border=\"1\" class=\"dataframe\">", 
        "  <thead>", 
        "    <tr style=\"text-align: right;\">", 
        "      <th>gender</th>", 
        "      <th>F</th>", 
        "      <th>M</th>", 
        "      <th>diff</th>", 
        "    </tr>", 
        "    <tr>", 
        "      <th>title</th>", 
        "      <th></th>", 
        "      <th></th>", 
        "      <th></th>", 
        "    </tr>", 
        "  </thead>", 
        "  <tbody>", 
        "    <tr>", 
        "      <td><strong>Good, The Bad and The Ugly, The (1966)</strong></td>", 
        "      <td> 3.494949</td>", 
        "      <td> 4.221300</td>", 
        "      <td> 0.726351</td>", 
        "    </tr>", 
        "    <tr>", 
        "      <td><strong>Kentucky Fried Movie, The (1977)</strong></td>", 
        "      <td> 2.878788</td>", 
        "      <td> 3.555147</td>", 
        "      <td> 0.676359</td>", 
        "    </tr>", 
        "    <tr>", 
        "      <td><strong>Dumb & Dumber (1994)</strong></td>", 
        "      <td> 2.697987</td>", 
        "      <td> 3.336595</td>", 
        "      <td> 0.638608</td>", 
        "    </tr>", 
        "    <tr>", 
        "      <td><strong>Longest Day, The (1962)</strong></td>", 
        "      <td> 3.411765</td>", 
        "      <td> 4.031447</td>", 
        "      <td> 0.619682</td>", 
        "    </tr>", 
        "    <tr>", 
        "      <td><strong>Cable Guy, The (1996)</strong></td>", 
        "      <td> 2.250000</td>", 
        "      <td> 2.863787</td>", 
        "      <td> 0.613787</td>", 
        "    </tr>", 
        "    <tr>", 
        "      <td><strong>Evil Dead II (Dead By Dawn) (1987)</strong></td>", 
        "      <td> 3.297297</td>", 
        "      <td> 3.909283</td>", 
        "      <td> 0.611985</td>", 
        "    </tr>", 
        "    <tr>", 
        "      <td><strong>Hidden, The (1987)</strong></td>", 
        "      <td> 3.137931</td>", 
        "      <td> 3.745098</td>", 
        "      <td> 0.607167</td>", 
        "    </tr>", 
        "    <tr>", 
        "      <td><strong>Rocky III (1982)</strong></td>", 
        "      <td> 2.361702</td>", 
        "      <td> 2.943503</td>", 
        "      <td> 0.581801</td>", 
        "    </tr>", 
        "    <tr>", 
        "      <td><strong>Caddyshack (1980)</strong></td>", 
        "      <td> 3.396135</td>", 
        "      <td> 3.969737</td>", 
        "      <td> 0.573602</td>", 
        "    </tr>", 
        "    <tr>", 
        "      <td><strong>For a Few Dollars More (1965)</strong></td>", 
        "      <td> 3.409091</td>", 
        "      <td> 3.953795</td>", 
        "      <td> 0.544704</td>", 
        "    </tr>", 
        "    <tr>", 
        "      <td><strong>Porky's (1981)</strong></td>", 
        "      <td> 2.296875</td>", 
        "      <td> 2.836364</td>", 
        "      <td> 0.539489</td>", 
        "    </tr>", 
        "    <tr>", 
        "      <td><strong>Animal House (1978)</strong></td>", 
        "      <td> 3.628906</td>", 
        "      <td> 4.167192</td>", 
        "      <td> 0.538286</td>", 
        "    </tr>", 
        "    <tr>", 
        "      <td><strong>Exorcist, The (1973)</strong></td>", 
        "      <td> 3.537634</td>", 
        "      <td> 4.067239</td>", 
        "      <td> 0.529605</td>", 
        "    </tr>", 
        "    <tr>", 
        "      <td><strong>Fright Night (1985)</strong></td>", 
        "      <td> 2.973684</td>", 
        "      <td> 3.500000</td>", 
        "      <td> 0.526316</td>", 
        "    </tr>", 
        "    <tr>", 
        "      <td><strong>Barb Wire (1996)</strong></td>", 
        "      <td> 1.585366</td>", 
        "      <td> 2.100386</td>", 
        "      <td> 0.515020</td>", 
        "    </tr>", 
        "  </tbody>", 
        "</table>", 
        "</div>"
       ], 
       "output_type": "pyout", 
       "prompt_number": 63, 
       "text": [
        "gender                                         F         M      diff", 
        "title                                                               ", 
        "Good, The Bad and The Ugly, The (1966)  3.494949  4.221300  0.726351", 
        "Kentucky Fried Movie, The (1977)        2.878788  3.555147  0.676359", 
        "Dumb & Dumber (1994)                    2.697987  3.336595  0.638608", 
        "Longest Day, The (1962)                 3.411765  4.031447  0.619682", 
        "Cable Guy, The (1996)                   2.250000  2.863787  0.613787", 
        "Evil Dead II (Dead By Dawn) (1987)      3.297297  3.909283  0.611985", 
        "Hidden, The (1987)                      3.137931  3.745098  0.607167", 
        "Rocky III (1982)                        2.361702  2.943503  0.581801", 
        "Caddyshack (1980)                       3.396135  3.969737  0.573602", 
        "For a Few Dollars More (1965)           3.409091  3.953795  0.544704", 
        "Porky's (1981)                          2.296875  2.836364  0.539489", 
        "Animal House (1978)                     3.628906  4.167192  0.538286", 
        "Exorcist, The (1973)                    3.537634  4.067239  0.529605", 
        "Fright Night (1985)                     2.973684  3.500000  0.526316", 
        "Barb Wire (1996)                        1.585366  2.100386  0.515020"
       ]
      }
     ], 
     "prompt_number": 63
    }, 
    {
     "cell_type": "code", 
     "collapsed": false, 
     "input": [
      "#\u6839\u636e\u7535\u5f71\u540d\u79f0\u5206\u7ec4\u7684\u5f97\u5206\u6570\u636e\u7684\u6807\u51c6\u5dee", 
      "rating_std_by_title = data.groupby('title')['rating'].std()"
     ], 
     "language": "python", 
     "outputs": [], 
     "prompt_number": 65
    }, 
    {
     "cell_type": "code", 
     "collapsed": true, 
     "input": [
      "#\u6839\u636eactive_titles\u8fdb\u884c\u8fc7\u6ee4", 
      "rating_std_by_title = rating_std_by_title.ix[active_titles]"
     ], 
     "language": "python", 
     "outputs": [], 
     "prompt_number": 66
    }, 
    {
     "cell_type": "code", 
     "collapsed": false, 
     "input": [
      "#\u6839\u636e\u503c\u5bf9Series\u8fdb\u884c\u964d\u5e8f\u6392\u5e8f", 
      "#\u627e\u51fa\u5206\u6b67\u6700\u5927\u7684\u7535\u5f71(\u4e0d\u8003\u8651\u6027\u522b\u56e0\u7d20)", 
      "rating_std_by_title.order(ascending=False)[:10]"
     ], 
     "language": "python", 
     "outputs": [
      {
       "output_type": "pyout", 
       "prompt_number": 67, 
       "text": [
        "title", 
        "Dumb & Dumber (1994)                     1.321333", 
        "Blair Witch Project, The (1999)          1.316368", 
        "Natural Born Killers (1994)              1.307198", 
        "Tank Girl (1995)                         1.277695", 
        "Rocky Horror Picture Show, The (1975)    1.260177", 
        "Eyes Wide Shut (1999)                    1.259624", 
        "Evita (1996)                             1.253631", 
        "Billy Madison (1995)                     1.249970", 
        "Fear and Loathing in Las Vegas (1998)    1.246408", 
        "Bicentennial Man (1999)                  1.245533", 
        "Name: rating"
       ]
      }
     ], 
     "prompt_number": 67
    }
   ]
  }
 ]
}