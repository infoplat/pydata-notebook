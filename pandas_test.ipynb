{
 "metadata": {
  "name": "pandas_test"
 }, 
 "nbformat": 2, 
 "worksheets": [
  {
   "cells": [
    {
     "cell_type": "code", 
     "collapsed": true, 
     "input": [
      "from pandas import Series, DataFrame", 
      "import pandas as pd"
     ], 
     "language": "python", 
     "outputs": [], 
     "prompt_number": 105
    }, 
    {
     "cell_type": "code", 
     "collapsed": true, 
     "input": [
      "s = Series([1,2,3.0,'abc'])"
     ], 
     "language": "python", 
     "outputs": [], 
     "prompt_number": 106
    }, 
    {
     "cell_type": "code", 
     "collapsed": false, 
     "input": [
      "s"
     ], 
     "language": "python", 
     "outputs": [
      {
       "output_type": "pyout", 
       "prompt_number": 107, 
       "text": [
        "0      1", 
        "1      2", 
        "2      3", 
        "3    abc"
       ]
      }
     ], 
     "prompt_number": 107
    }, 
    {
     "cell_type": "code", 
     "collapsed": false, 
     "input": [
      "s[3]"
     ], 
     "language": "python", 
     "outputs": [
      {
       "output_type": "pyout", 
       "prompt_number": 108, 
       "text": [
        "'abc'"
       ]
      }
     ], 
     "prompt_number": 108
    }, 
    {
     "cell_type": "code", 
     "collapsed": true, 
     "input": [
      "s2 = Series(data=[1,3,5,7], index=['a','b','x','y'])"
     ], 
     "language": "python", 
     "outputs": [], 
     "prompt_number": 109
    }, 
    {
     "cell_type": "code", 
     "collapsed": false, 
     "input": [
      "s2"
     ], 
     "language": "python", 
     "outputs": [
      {
       "output_type": "pyout", 
       "prompt_number": 110, 
       "text": [
        "a    1", 
        "b    3", 
        "x    5", 
        "y    7"
       ]
      }
     ], 
     "prompt_number": 110
    }, 
    {
     "cell_type": "code", 
     "collapsed": false, 
     "input": [
      "s2.index"
     ], 
     "language": "python", 
     "outputs": [
      {
       "output_type": "pyout", 
       "prompt_number": 111, 
       "text": [
        "Index([a, b, x, y], dtype=object)"
       ]
      }
     ], 
     "prompt_number": 111
    }, 
    {
     "cell_type": "code", 
     "collapsed": true, 
     "input": [
      "s2.name = 'a_series'"
     ], 
     "language": "python", 
     "outputs": [], 
     "prompt_number": 112
    }, 
    {
     "cell_type": "code", 
     "collapsed": true, 
     "input": [
      "s2.index.name = 'the_index'"
     ], 
     "language": "python", 
     "outputs": [], 
     "prompt_number": 113
    }, 
    {
     "cell_type": "code", 
     "collapsed": false, 
     "input": [
      "s2"
     ], 
     "language": "python", 
     "outputs": [
      {
       "output_type": "pyout", 
       "prompt_number": 114, 
       "text": [
        "the_index", 
        "a            1", 
        "b            3", 
        "x            5", 
        "y            7", 
        "Name: a_series"
       ]
      }
     ], 
     "prompt_number": 114
    }, 
    {
     "cell_type": "code", 
     "collapsed": true, 
     "input": [
      "data = {'state':['Ohino','Ohino','Ohino','Nevada','Nevada'],", 
      "        'year':[2000,2001,2002,2001,2002],", 
      "        'pop':[1.5,1.7,3.6,2.4,2.9]}"
     ], 
     "language": "python", 
     "outputs": [], 
     "prompt_number": 115
    }, 
    {
     "cell_type": "code", 
     "collapsed": true, 
     "input": [
      "df = DataFrame(data)"
     ], 
     "language": "python", 
     "outputs": [], 
     "prompt_number": 116
    }, 
    {
     "cell_type": "code", 
     "collapsed": false, 
     "input": [
      "df"
     ], 
     "language": "python", 
     "outputs": [
      {
       "html": [
        "<div style=\"max-height:1000px;max-width:1500px;overflow:auto;\">", 
        "<table border=\"1\" class=\"dataframe\">", 
        "  <thead>", 
        "    <tr style=\"text-align: right;\">", 
        "      <th></th>", 
        "      <th>pop</th>", 
        "      <th>state</th>", 
        "      <th>year</th>", 
        "    </tr>", 
        "  </thead>", 
        "  <tbody>", 
        "    <tr>", 
        "      <td><strong>0</strong></td>", 
        "      <td> 1.5</td>", 
        "      <td>  Ohino</td>", 
        "      <td> 2000</td>", 
        "    </tr>", 
        "    <tr>", 
        "      <td><strong>1</strong></td>", 
        "      <td> 1.7</td>", 
        "      <td>  Ohino</td>", 
        "      <td> 2001</td>", 
        "    </tr>", 
        "    <tr>", 
        "      <td><strong>2</strong></td>", 
        "      <td> 3.6</td>", 
        "      <td>  Ohino</td>", 
        "      <td> 2002</td>", 
        "    </tr>", 
        "    <tr>", 
        "      <td><strong>3</strong></td>", 
        "      <td> 2.4</td>", 
        "      <td> Nevada</td>", 
        "      <td> 2001</td>", 
        "    </tr>", 
        "    <tr>", 
        "      <td><strong>4</strong></td>", 
        "      <td> 2.9</td>", 
        "      <td> Nevada</td>", 
        "      <td> 2002</td>", 
        "    </tr>", 
        "  </tbody>", 
        "</table>", 
        "</div>"
       ], 
       "output_type": "pyout", 
       "prompt_number": 117, 
       "text": [
        "   pop   state  year", 
        "0  1.5   Ohino  2000", 
        "1  1.7   Ohino  2001", 
        "2  3.6   Ohino  2002", 
        "3  2.4  Nevada  2001", 
        "4  2.9  Nevada  2002"
       ]
      }
     ], 
     "prompt_number": 117
    }, 
    {
     "cell_type": "code", 
     "collapsed": true, 
     "input": [
      "df2 = DataFrame(data,index=['one', 'two','three','four','five'],", 
      "               columns=['year','state','pop','debt'])"
     ], 
     "language": "python", 
     "outputs": [], 
     "prompt_number": 129
    }, 
    {
     "cell_type": "code", 
     "collapsed": false, 
     "input": [
      "df2"
     ], 
     "language": "python", 
     "outputs": [
      {
       "html": [
        "<div style=\"max-height:1000px;max-width:1500px;overflow:auto;\">", 
        "<table border=\"1\" class=\"dataframe\">", 
        "  <thead>", 
        "    <tr style=\"text-align: right;\">", 
        "      <th></th>", 
        "      <th>year</th>", 
        "      <th>state</th>", 
        "      <th>pop</th>", 
        "      <th>debt</th>", 
        "    </tr>", 
        "  </thead>", 
        "  <tbody>", 
        "    <tr>", 
        "      <td><strong>one</strong></td>", 
        "      <td> 2000</td>", 
        "      <td>  Ohino</td>", 
        "      <td> 1.5</td>", 
        "      <td> NaN</td>", 
        "    </tr>", 
        "    <tr>", 
        "      <td><strong>two</strong></td>", 
        "      <td> 2001</td>", 
        "      <td>  Ohino</td>", 
        "      <td> 1.7</td>", 
        "      <td> NaN</td>", 
        "    </tr>", 
        "    <tr>", 
        "      <td><strong>three</strong></td>", 
        "      <td> 2002</td>", 
        "      <td>  Ohino</td>", 
        "      <td> 3.6</td>", 
        "      <td> NaN</td>", 
        "    </tr>", 
        "    <tr>", 
        "      <td><strong>four</strong></td>", 
        "      <td> 2001</td>", 
        "      <td> Nevada</td>", 
        "      <td> 2.4</td>", 
        "      <td> NaN</td>", 
        "    </tr>", 
        "    <tr>", 
        "      <td><strong>five</strong></td>", 
        "      <td> 2002</td>", 
        "      <td> Nevada</td>", 
        "      <td> 2.9</td>", 
        "      <td> NaN</td>", 
        "    </tr>", 
        "  </tbody>", 
        "</table>", 
        "</div>"
       ], 
       "output_type": "pyout", 
       "prompt_number": 130, 
       "text": [
        "       year   state  pop debt", 
        "one    2000   Ohino  1.5  NaN", 
        "two    2001   Ohino  1.7  NaN", 
        "three  2002   Ohino  3.6  NaN", 
        "four   2001  Nevada  2.4  NaN", 
        "five   2002  Nevada  2.9  NaN"
       ]
      }
     ], 
     "prompt_number": 130
    }, 
    {
     "cell_type": "code", 
     "collapsed": false, 
     "input": [
      "df2.index"
     ], 
     "language": "python", 
     "outputs": [
      {
       "output_type": "pyout", 
       "prompt_number": 120, 
       "text": [
        "Index([\u4e00, o, three, four, five], dtype=object)"
       ]
      }
     ], 
     "prompt_number": 120
    }, 
    {
     "cell_type": "code", 
     "collapsed": false, 
     "input": [
      "df2.columns"
     ], 
     "language": "python", 
     "outputs": [
      {
       "output_type": "pyout", 
       "prompt_number": 121, 
       "text": [
        "Index([year, state, pop, debt], dtype=object)"
       ]
      }
     ], 
     "prompt_number": 121
    }, 
    {
     "cell_type": "code", 
     "collapsed": false, 
     "input": [
      "type(df2['debt'])"
     ], 
     "language": "python", 
     "outputs": [
      {
       "output_type": "pyout", 
       "prompt_number": 122, 
       "text": [
        "pandas.core.series.Series"
       ]
      }
     ], 
     "prompt_number": 122
    }, 
    {
     "cell_type": "code", 
     "collapsed": true, 
     "input": [
      "ser = Series([4.5,7.2,-5.3,3.6],index=['d','b','a','c'])"
     ], 
     "language": "python", 
     "outputs": [], 
     "prompt_number": 123
    }, 
    {
     "cell_type": "code", 
     "collapsed": false, 
     "input": [
      "ser"
     ], 
     "language": "python", 
     "outputs": [
      {
       "output_type": "pyout", 
       "prompt_number": 124, 
       "text": [
        "d    4.5", 
        "b    7.2", 
        "a   -5.3", 
        "c    3.6"
       ]
      }
     ], 
     "prompt_number": 124
    }, 
    {
     "cell_type": "code", 
     "collapsed": true, 
     "input": [
      "a = ['a','b','c','d','e']"
     ], 
     "language": "python", 
     "outputs": [], 
     "prompt_number": 125
    }, 
    {
     "cell_type": "code", 
     "collapsed": false, 
     "input": [
      "ser.reindex(a)"
     ], 
     "language": "python", 
     "outputs": [
      {
       "output_type": "pyout", 
       "prompt_number": 126, 
       "text": [
        "a   -5.3", 
        "b    7.2", 
        "c    3.6", 
        "d    4.5", 
        "e    NaN"
       ]
      }
     ], 
     "prompt_number": 126
    }, 
    {
     "cell_type": "code", 
     "collapsed": false, 
     "input": [
      "ser.reindex(a,fill_value=0)"
     ], 
     "language": "python", 
     "outputs": [
      {
       "output_type": "pyout", 
       "prompt_number": 127, 
       "text": [
        "a   -5.3", 
        "b    7.2", 
        "c    3.6", 
        "d    4.5", 
        "e    0.0"
       ]
      }
     ], 
     "prompt_number": 127
    }, 
    {
     "cell_type": "code", 
     "collapsed": false, 
     "input": [
      "ser.reindex(a,method='ffill')"
     ], 
     "language": "python", 
     "outputs": [
      {
       "ename": "AssertionError", 
       "evalue": "", 
       "output_type": "pyerr", 
       "traceback": [
        "\u001b[1;31m---------------------------------------------------------------------------\u001b[0m\n\u001b[1;31mAssertionError\u001b[0m                            Traceback (most recent call last)", 
        "\u001b[1;32mC:\\Users\\zhang\\<ipython-input-128-ace8a241f043>\u001b[0m in \u001b[0;36m<module>\u001b[1;34m()\u001b[0m\n\u001b[1;32m----> 1\u001b[1;33m \u001b[0mser\u001b[0m\u001b[1;33m.\u001b[0m\u001b[0mreindex\u001b[0m\u001b[1;33m(\u001b[0m\u001b[0ma\u001b[0m\u001b[1;33m,\u001b[0m\u001b[0mmethod\u001b[0m\u001b[1;33m=\u001b[0m\u001b[1;34m'ffill'\u001b[0m\u001b[1;33m)\u001b[0m\u001b[1;33m\u001b[0m\u001b[0m\n\u001b[0m", 
        "\u001b[1;32mD:\\Python27\\lib\\site-packages\\pandas\\core\\series.pyc\u001b[0m in \u001b[0;36mreindex\u001b[1;34m(self, index, method, level, fill_value, limit, copy)\u001b[0m\n\u001b[0;32m   2142\u001b[0m \u001b[1;33m\u001b[0m\u001b[0m\n\u001b[0;32m   2143\u001b[0m         new_index, indexer = self.index.reindex(index, method=method,\n\u001b[1;32m-> 2144\u001b[1;33m                                                  level=level, limit=limit)\n\u001b[0m\u001b[0;32m   2145\u001b[0m         \u001b[0mnew_values\u001b[0m \u001b[1;33m=\u001b[0m \u001b[0mcom\u001b[0m\u001b[1;33m.\u001b[0m\u001b[0mtake_1d\u001b[0m\u001b[1;33m(\u001b[0m\u001b[0mself\u001b[0m\u001b[1;33m.\u001b[0m\u001b[0mvalues\u001b[0m\u001b[1;33m,\u001b[0m \u001b[0mindexer\u001b[0m\u001b[1;33m,\u001b[0m \u001b[0mfill_value\u001b[0m\u001b[1;33m=\u001b[0m\u001b[0mfill_value\u001b[0m\u001b[1;33m)\u001b[0m\u001b[1;33m\u001b[0m\u001b[0m\n\u001b[0;32m   2146\u001b[0m         \u001b[1;32mreturn\u001b[0m \u001b[0mSeries\u001b[0m\u001b[1;33m(\u001b[0m\u001b[0mnew_values\u001b[0m\u001b[1;33m,\u001b[0m \u001b[0mindex\u001b[0m\u001b[1;33m=\u001b[0m\u001b[0mnew_index\u001b[0m\u001b[1;33m,\u001b[0m \u001b[0mname\u001b[0m\u001b[1;33m=\u001b[0m\u001b[0mself\u001b[0m\u001b[1;33m.\u001b[0m\u001b[0mname\u001b[0m\u001b[1;33m)\u001b[0m\u001b[1;33m\u001b[0m\u001b[0m\n", 
        "\u001b[1;32mD:\\Python27\\lib\\site-packages\\pandas\\core\\index.pyc\u001b[0m in \u001b[0;36mreindex\u001b[1;34m(self, target, method, level, limit)\u001b[0m\n\u001b[0;32m    825\u001b[0m             \u001b[1;32melse\u001b[0m\u001b[1;33m:\u001b[0m\u001b[1;33m\u001b[0m\u001b[0m\n\u001b[0;32m    826\u001b[0m                 indexer = self.get_indexer(target, method=method,\n\u001b[1;32m--> 827\u001b[1;33m                                            limit=limit)\n\u001b[0m\u001b[0;32m    828\u001b[0m         \u001b[1;32mreturn\u001b[0m \u001b[0mtarget\u001b[0m\u001b[1;33m,\u001b[0m \u001b[0mindexer\u001b[0m\u001b[1;33m\u001b[0m\u001b[0m\n\u001b[0;32m    829\u001b[0m \u001b[1;33m\u001b[0m\u001b[0m\n", 
        "\u001b[1;32mD:\\Python27\\lib\\site-packages\\pandas\\core\\index.pyc\u001b[0m in \u001b[0;36mget_indexer\u001b[1;34m(self, target, method, limit)\u001b[0m\n\u001b[0;32m    750\u001b[0m \u001b[1;33m\u001b[0m\u001b[0m\n\u001b[0;32m    751\u001b[0m         \u001b[1;32mif\u001b[0m \u001b[0mmethod\u001b[0m \u001b[1;33m==\u001b[0m \u001b[1;34m'pad'\u001b[0m\u001b[1;33m:\u001b[0m\u001b[1;33m\u001b[0m\u001b[0m\n\u001b[1;32m--> 752\u001b[1;33m             \u001b[1;32massert\u001b[0m\u001b[1;33m(\u001b[0m\u001b[0mself\u001b[0m\u001b[1;33m.\u001b[0m\u001b[0mis_monotonic\u001b[0m\u001b[1;33m)\u001b[0m\u001b[1;33m\u001b[0m\u001b[0m\n\u001b[0m\u001b[0;32m    753\u001b[0m             \u001b[0mindexer\u001b[0m \u001b[1;33m=\u001b[0m \u001b[0mself\u001b[0m\u001b[1;33m.\u001b[0m\u001b[0m_engine\u001b[0m\u001b[1;33m.\u001b[0m\u001b[0mget_pad_indexer\u001b[0m\u001b[1;33m(\u001b[0m\u001b[0mtarget\u001b[0m\u001b[1;33m.\u001b[0m\u001b[0mvalues\u001b[0m\u001b[1;33m,\u001b[0m \u001b[0mlimit\u001b[0m\u001b[1;33m)\u001b[0m\u001b[1;33m\u001b[0m\u001b[0m\n\u001b[0;32m    754\u001b[0m         \u001b[1;32melif\u001b[0m \u001b[0mmethod\u001b[0m \u001b[1;33m==\u001b[0m \u001b[1;34m'backfill'\u001b[0m\u001b[1;33m:\u001b[0m\u001b[1;33m\u001b[0m\u001b[0m\n", 
        "\u001b[1;31mAssertionError\u001b[0m: "
       ]
      }
     ], 
     "prompt_number": 128
    }, 
    {
     "cell_type": "code", 
     "collapsed": false, 
     "input": [
      "state = ['Texas','Utha','California']", 
      "df2.reindex(columns=state,method='ffill')"
     ], 
     "language": "python", 
     "outputs": [
      {
       "html": [
        "<div style=\"max-height:1000px;max-width:1500px;overflow:auto;\">", 
        "<table border=\"1\" class=\"dataframe\">", 
        "  <thead>", 
        "    <tr style=\"text-align: right;\">", 
        "      <th></th>", 
        "      <th>Texas</th>", 
        "      <th>Utha</th>", 
        "      <th>California</th>", 
        "    </tr>", 
        "  </thead>", 
        "  <tbody>", 
        "    <tr>", 
        "      <td><strong>one</strong></td>", 
        "      <td>NaN</td>", 
        "      <td>NaN</td>", 
        "      <td>NaN</td>", 
        "    </tr>", 
        "    <tr>", 
        "      <td><strong>two</strong></td>", 
        "      <td>NaN</td>", 
        "      <td>NaN</td>", 
        "      <td>NaN</td>", 
        "    </tr>", 
        "    <tr>", 
        "      <td><strong>three</strong></td>", 
        "      <td>NaN</td>", 
        "      <td>NaN</td>", 
        "      <td>NaN</td>", 
        "    </tr>", 
        "    <tr>", 
        "      <td><strong>four</strong></td>", 
        "      <td>NaN</td>", 
        "      <td>NaN</td>", 
        "      <td>NaN</td>", 
        "    </tr>", 
        "    <tr>", 
        "      <td><strong>five</strong></td>", 
        "      <td>NaN</td>", 
        "      <td>NaN</td>", 
        "      <td>NaN</td>", 
        "    </tr>", 
        "  </tbody>", 
        "</table>", 
        "</div>"
       ], 
       "output_type": "pyout", 
       "prompt_number": 133, 
       "text": [
        "       Texas  Utha  California", 
        "one      NaN   NaN         NaN", 
        "two      NaN   NaN         NaN", 
        "three    NaN   NaN         NaN", 
        "four     NaN   NaN         NaN", 
        "five     NaN   NaN         NaN"
       ]
      }
     ], 
     "prompt_number": 133
    }, 
    {
     "cell_type": "code", 
     "collapsed": false, 
     "input": [
      "df2.reindex(index=['a','b','c','d'],columns=state,method='ffill')"
     ], 
     "language": "python", 
     "outputs": [
      {
       "ename": "AssertionError", 
       "evalue": "", 
       "output_type": "pyerr", 
       "traceback": [
        "\u001b[1;31m---------------------------------------------------------------------------\u001b[0m\n\u001b[1;31mAssertionError\u001b[0m                            Traceback (most recent call last)", 
        "\u001b[1;32mC:\\Users\\zhang\\<ipython-input-132-bc3d09094479>\u001b[0m in \u001b[0;36m<module>\u001b[1;34m()\u001b[0m\n\u001b[1;32m----> 1\u001b[1;33m \u001b[0mdf2\u001b[0m\u001b[1;33m.\u001b[0m\u001b[0mreindex\u001b[0m\u001b[1;33m(\u001b[0m\u001b[0mindex\u001b[0m\u001b[1;33m=\u001b[0m\u001b[1;33m[\u001b[0m\u001b[1;34m'a'\u001b[0m\u001b[1;33m,\u001b[0m\u001b[1;34m'b'\u001b[0m\u001b[1;33m,\u001b[0m\u001b[1;34m'c'\u001b[0m\u001b[1;33m,\u001b[0m\u001b[1;34m'd'\u001b[0m\u001b[1;33m]\u001b[0m\u001b[1;33m,\u001b[0m\u001b[0mcolumns\u001b[0m\u001b[1;33m=\u001b[0m\u001b[0mstate\u001b[0m\u001b[1;33m,\u001b[0m\u001b[0mmethod\u001b[0m\u001b[1;33m=\u001b[0m\u001b[1;34m'ffill'\u001b[0m\u001b[1;33m)\u001b[0m\u001b[1;33m\u001b[0m\u001b[0m\n\u001b[0m", 
        "\u001b[1;32mD:\\Python27\\lib\\site-packages\\pandas\\core\\frame.pyc\u001b[0m in \u001b[0;36mreindex\u001b[1;34m(self, index, columns, method, level, fill_value, limit, copy)\u001b[0m\n\u001b[0;32m   2244\u001b[0m         \u001b[1;32mif\u001b[0m \u001b[0mindex\u001b[0m \u001b[1;32mis\u001b[0m \u001b[1;32mnot\u001b[0m \u001b[0mNone\u001b[0m\u001b[1;33m:\u001b[0m\u001b[1;33m\u001b[0m\u001b[0m\n\u001b[0;32m   2245\u001b[0m             frame = frame._reindex_index(index, method, copy, level,\n\u001b[1;32m-> 2246\u001b[1;33m                                          fill_value, limit)\n\u001b[0m\u001b[0;32m   2247\u001b[0m \u001b[1;33m\u001b[0m\u001b[0m\n\u001b[0;32m   2248\u001b[0m         \u001b[1;32mreturn\u001b[0m \u001b[0mframe\u001b[0m\u001b[1;33m\u001b[0m\u001b[0m\n", 
        "\u001b[1;32mD:\\Python27\\lib\\site-packages\\pandas\\core\\frame.pyc\u001b[0m in \u001b[0;36m_reindex_index\u001b[1;34m(self, new_index, method, copy, level, fill_value, limit)\u001b[0m\n\u001b[0;32m   2320\u001b[0m                        limit=None):\n\u001b[0;32m   2321\u001b[0m         new_index, indexer = self.index.reindex(new_index, method, level,\n\u001b[1;32m-> 2322\u001b[1;33m                                                 limit=limit)\n\u001b[0m\u001b[0;32m   2323\u001b[0m         return self._reindex_with_indexers(new_index, indexer, None, None,\n\u001b[0;32m   2324\u001b[0m                                            copy, fill_value)\n", 
        "\u001b[1;32mD:\\Python27\\lib\\site-packages\\pandas\\core\\index.pyc\u001b[0m in \u001b[0;36mreindex\u001b[1;34m(self, target, method, level, limit)\u001b[0m\n\u001b[0;32m    825\u001b[0m             \u001b[1;32melse\u001b[0m\u001b[1;33m:\u001b[0m\u001b[1;33m\u001b[0m\u001b[0m\n\u001b[0;32m    826\u001b[0m                 indexer = self.get_indexer(target, method=method,\n\u001b[1;32m--> 827\u001b[1;33m                                            limit=limit)\n\u001b[0m\u001b[0;32m    828\u001b[0m         \u001b[1;32mreturn\u001b[0m \u001b[0mtarget\u001b[0m\u001b[1;33m,\u001b[0m \u001b[0mindexer\u001b[0m\u001b[1;33m\u001b[0m\u001b[0m\n\u001b[0;32m    829\u001b[0m \u001b[1;33m\u001b[0m\u001b[0m\n", 
        "\u001b[1;32mD:\\Python27\\lib\\site-packages\\pandas\\core\\index.pyc\u001b[0m in \u001b[0;36mget_indexer\u001b[1;34m(self, target, method, limit)\u001b[0m\n\u001b[0;32m    750\u001b[0m \u001b[1;33m\u001b[0m\u001b[0m\n\u001b[0;32m    751\u001b[0m         \u001b[1;32mif\u001b[0m \u001b[0mmethod\u001b[0m \u001b[1;33m==\u001b[0m \u001b[1;34m'pad'\u001b[0m\u001b[1;33m:\u001b[0m\u001b[1;33m\u001b[0m\u001b[0m\n\u001b[1;32m--> 752\u001b[1;33m             \u001b[1;32massert\u001b[0m\u001b[1;33m(\u001b[0m\u001b[0mself\u001b[0m\u001b[1;33m.\u001b[0m\u001b[0mis_monotonic\u001b[0m\u001b[1;33m)\u001b[0m\u001b[1;33m\u001b[0m\u001b[0m\n\u001b[0m\u001b[0;32m    753\u001b[0m             \u001b[0mindexer\u001b[0m \u001b[1;33m=\u001b[0m \u001b[0mself\u001b[0m\u001b[1;33m.\u001b[0m\u001b[0m_engine\u001b[0m\u001b[1;33m.\u001b[0m\u001b[0mget_pad_indexer\u001b[0m\u001b[1;33m(\u001b[0m\u001b[0mtarget\u001b[0m\u001b[1;33m.\u001b[0m\u001b[0mvalues\u001b[0m\u001b[1;33m,\u001b[0m \u001b[0mlimit\u001b[0m\u001b[1;33m)\u001b[0m\u001b[1;33m\u001b[0m\u001b[0m\n\u001b[0;32m    754\u001b[0m         \u001b[1;32melif\u001b[0m \u001b[0mmethod\u001b[0m \u001b[1;33m==\u001b[0m \u001b[1;34m'backfill'\u001b[0m\u001b[1;33m:\u001b[0m\u001b[1;33m\u001b[0m\u001b[0m\n", 
        "\u001b[1;31mAssertionError\u001b[0m: "
       ]
      }
     ], 
     "prompt_number": 132
    }, 
    {
     "cell_type": "code", 
     "collapsed": false, 
     "input": [
      "ser"
     ], 
     "language": "python", 
     "outputs": [
      {
       "output_type": "pyout", 
       "prompt_number": 138, 
       "text": [
        "d    4.5", 
        "b    7.2", 
        "a   -5.3", 
        "c    3.6"
       ]
      }
     ], 
     "prompt_number": 138
    }, 
    {
     "cell_type": "code", 
     "collapsed": false, 
     "input": [
      "df"
     ], 
     "language": "python", 
     "outputs": [
      {
       "html": [
        "<div style=\"max-height:1000px;max-width:1500px;overflow:auto;\">", 
        "<table border=\"1\" class=\"dataframe\">", 
        "  <thead>", 
        "    <tr style=\"text-align: right;\">", 
        "      <th></th>", 
        "      <th>pop</th>", 
        "      <th>state</th>", 
        "      <th>year</th>", 
        "    </tr>", 
        "  </thead>", 
        "  <tbody>", 
        "    <tr>", 
        "      <td><strong>0</strong></td>", 
        "      <td> 1.5</td>", 
        "      <td>  Ohino</td>", 
        "      <td> 2000</td>", 
        "    </tr>", 
        "    <tr>", 
        "      <td><strong>1</strong></td>", 
        "      <td> 1.7</td>", 
        "      <td>  Ohino</td>", 
        "      <td> 2001</td>", 
        "    </tr>", 
        "    <tr>", 
        "      <td><strong>2</strong></td>", 
        "      <td> 3.6</td>", 
        "      <td>  Ohino</td>", 
        "      <td> 2002</td>", 
        "    </tr>", 
        "    <tr>", 
        "      <td><strong>3</strong></td>", 
        "      <td> 2.4</td>", 
        "      <td> Nevada</td>", 
        "      <td> 2001</td>", 
        "    </tr>", 
        "    <tr>", 
        "      <td><strong>4</strong></td>", 
        "      <td> 2.9</td>", 
        "      <td> Nevada</td>", 
        "      <td> 2002</td>", 
        "    </tr>", 
        "  </tbody>", 
        "</table>", 
        "</div>"
       ], 
       "output_type": "pyout", 
       "prompt_number": 139, 
       "text": [
        "   pop   state  year", 
        "0  1.5   Ohino  2000", 
        "1  1.7   Ohino  2001", 
        "2  3.6   Ohino  2002", 
        "3  2.4  Nevada  2001", 
        "4  2.9  Nevada  2002"
       ]
      }
     ], 
     "prompt_number": 139
    }, 
    {
     "cell_type": "code", 
     "collapsed": false, 
     "input": [
      "ser.drop('c')"
     ], 
     "language": "python", 
     "outputs": [
      {
       "output_type": "pyout", 
       "prompt_number": 140, 
       "text": [
        "d    4.5", 
        "b    7.2", 
        "a   -5.3"
       ]
      }
     ], 
     "prompt_number": 140
    }, 
    {
     "cell_type": "code", 
     "collapsed": false, 
     "input": [
      "df.drop(2)"
     ], 
     "language": "python", 
     "outputs": [
      {
       "html": [
        "<div style=\"max-height:1000px;max-width:1500px;overflow:auto;\">", 
        "<table border=\"1\" class=\"dataframe\">", 
        "  <thead>", 
        "    <tr style=\"text-align: right;\">", 
        "      <th></th>", 
        "      <th>pop</th>", 
        "      <th>state</th>", 
        "      <th>year</th>", 
        "    </tr>", 
        "  </thead>", 
        "  <tbody>", 
        "    <tr>", 
        "      <td><strong>0</strong></td>", 
        "      <td> 1.5</td>", 
        "      <td>  Ohino</td>", 
        "      <td> 2000</td>", 
        "    </tr>", 
        "    <tr>", 
        "      <td><strong>1</strong></td>", 
        "      <td> 1.7</td>", 
        "      <td>  Ohino</td>", 
        "      <td> 2001</td>", 
        "    </tr>", 
        "    <tr>", 
        "      <td><strong>3</strong></td>", 
        "      <td> 2.4</td>", 
        "      <td> Nevada</td>", 
        "      <td> 2001</td>", 
        "    </tr>", 
        "    <tr>", 
        "      <td><strong>4</strong></td>", 
        "      <td> 2.9</td>", 
        "      <td> Nevada</td>", 
        "      <td> 2002</td>", 
        "    </tr>", 
        "  </tbody>", 
        "</table>", 
        "</div>"
       ], 
       "output_type": "pyout", 
       "prompt_number": 142, 
       "text": [
        "   pop   state  year", 
        "0  1.5   Ohino  2000", 
        "1  1.7   Ohino  2001", 
        "3  2.4  Nevada  2001", 
        "4  2.9  Nevada  2002"
       ]
      }
     ], 
     "prompt_number": 142
    }, 
    {
     "cell_type": "code", 
     "collapsed": false, 
     "input": [
      "df.drop(['state','pop'],axis=1)"
     ], 
     "language": "python", 
     "outputs": [
      {
       "html": [
        "<div style=\"max-height:1000px;max-width:1500px;overflow:auto;\">", 
        "<table border=\"1\" class=\"dataframe\">", 
        "  <thead>", 
        "    <tr style=\"text-align: right;\">", 
        "      <th></th>", 
        "      <th>year</th>", 
        "    </tr>", 
        "  </thead>", 
        "  <tbody>", 
        "    <tr>", 
        "      <td><strong>0</strong></td>", 
        "      <td> 2000</td>", 
        "    </tr>", 
        "    <tr>", 
        "      <td><strong>1</strong></td>", 
        "      <td> 2001</td>", 
        "    </tr>", 
        "    <tr>", 
        "      <td><strong>2</strong></td>", 
        "      <td> 2002</td>", 
        "    </tr>", 
        "    <tr>", 
        "      <td><strong>3</strong></td>", 
        "      <td> 2001</td>", 
        "    </tr>", 
        "    <tr>", 
        "      <td><strong>4</strong></td>", 
        "      <td> 2002</td>", 
        "    </tr>", 
        "  </tbody>", 
        "</table>", 
        "</div>"
       ], 
       "output_type": "pyout", 
       "prompt_number": 146, 
       "text": [
        "   year", 
        "0  2000", 
        "1  2001", 
        "2  2002", 
        "3  2001", 
        "4  2002"
       ]
      }
     ], 
     "prompt_number": 146
    }, 
    {
     "cell_type": "code", 
     "collapsed": false, 
     "input": [
      "foo = Series(data=[4.5,7.2,-5.3,3.6],index=['a','b','c','d'])", 
      "foo"
     ], 
     "language": "python", 
     "outputs": [
      {
       "output_type": "pyout", 
       "prompt_number": 155, 
       "text": [
        "a    4.5", 
        "b    7.2", 
        "c   -5.3", 
        "d    3.6"
       ]
      }
     ], 
     "prompt_number": 155
    }, 
    {
     "cell_type": "code", 
     "collapsed": false, 
     "input": [
      "bar = Series(data=[4.5,7.2,-5.3,3.6])", 
      "bar"
     ], 
     "language": "python", 
     "outputs": [
      {
       "output_type": "pyout", 
       "prompt_number": 157, 
       "text": [
        "0    4.5", 
        "1    7.2", 
        "2   -5.3", 
        "3    3.6"
       ]
      }
     ], 
     "prompt_number": 157
    }, 
    {
     "cell_type": "code", 
     "collapsed": false, 
     "input": [
      "foo[:2]"
     ], 
     "language": "python", 
     "outputs": [
      {
       "output_type": "pyout", 
       "prompt_number": 159, 
       "text": [
        "a    4.5", 
        "b    7.2"
       ]
      }
     ], 
     "prompt_number": 159
    }, 
    {
     "cell_type": "code", 
     "collapsed": false, 
     "input": [
      "bar[:2]"
     ], 
     "language": "python", 
     "outputs": [
      {
       "output_type": "pyout", 
       "prompt_number": 160, 
       "text": [
        "0    4.5", 
        "1    7.2"
       ]
      }
     ], 
     "prompt_number": 160
    }, 
    {
     "cell_type": "code", 
     "collapsed": false, 
     "input": [
      "foo[:'c']"
     ], 
     "language": "python", 
     "outputs": [
      {
       "output_type": "pyout", 
       "prompt_number": 166, 
       "text": [
        "a    4.5", 
        "b    7.2", 
        "c   -5.3"
       ]
      }
     ], 
     "prompt_number": 166
    }, 
    {
     "cell_type": "code", 
     "collapsed": false, 
     "input": [
      "df"
     ], 
     "language": "python", 
     "outputs": [
      {
       "html": [
        "<div style=\"max-height:1000px;max-width:1500px;overflow:auto;\">", 
        "<table border=\"1\" class=\"dataframe\">", 
        "  <thead>", 
        "    <tr style=\"text-align: right;\">", 
        "      <th></th>", 
        "      <th>pop</th>", 
        "      <th>state</th>", 
        "      <th>year</th>", 
        "    </tr>", 
        "  </thead>", 
        "  <tbody>", 
        "    <tr>", 
        "      <td><strong>0</strong></td>", 
        "      <td> 1.5</td>", 
        "      <td>  Ohino</td>", 
        "      <td> 2000</td>", 
        "    </tr>", 
        "    <tr>", 
        "      <td><strong>1</strong></td>", 
        "      <td> 1.7</td>", 
        "      <td>  Ohino</td>", 
        "      <td> 2001</td>", 
        "    </tr>", 
        "    <tr>", 
        "      <td><strong>2</strong></td>", 
        "      <td> 3.6</td>", 
        "      <td>  Ohino</td>", 
        "      <td> 2002</td>", 
        "    </tr>", 
        "    <tr>", 
        "      <td><strong>3</strong></td>", 
        "      <td> 2.4</td>", 
        "      <td> Nevada</td>", 
        "      <td> 2001</td>", 
        "    </tr>", 
        "    <tr>", 
        "      <td><strong>4</strong></td>", 
        "      <td> 2.9</td>", 
        "      <td> Nevada</td>", 
        "      <td> 2002</td>", 
        "    </tr>", 
        "  </tbody>", 
        "</table>", 
        "</div>"
       ], 
       "output_type": "pyout", 
       "prompt_number": 169, 
       "text": [
        "   pop   state  year", 
        "0  1.5   Ohino  2000", 
        "1  1.7   Ohino  2001", 
        "2  3.6   Ohino  2002", 
        "3  2.4  Nevada  2001", 
        "4  2.9  Nevada  2002"
       ]
      }
     ], 
     "prompt_number": 169
    }, 
    {
     "cell_type": "code", 
     "collapsed": false, 
     "input": [
      "df.ix[:2,:2]"
     ], 
     "language": "python", 
     "outputs": [
      {
       "html": [
        "<div style=\"max-height:1000px;max-width:1500px;overflow:auto;\">", 
        "<table border=\"1\" class=\"dataframe\">", 
        "  <thead>", 
        "    <tr style=\"text-align: right;\">", 
        "      <th></th>", 
        "      <th>pop</th>", 
        "      <th>state</th>", 
        "    </tr>", 
        "  </thead>", 
        "  <tbody>", 
        "    <tr>", 
        "      <td><strong>0</strong></td>", 
        "      <td> 1.5</td>", 
        "      <td> Ohino</td>", 
        "    </tr>", 
        "    <tr>", 
        "      <td><strong>1</strong></td>", 
        "      <td> 1.7</td>", 
        "      <td> Ohino</td>", 
        "    </tr>", 
        "    <tr>", 
        "      <td><strong>2</strong></td>", 
        "      <td> 3.6</td>", 
        "      <td> Ohino</td>", 
        "    </tr>", 
        "  </tbody>", 
        "</table>", 
        "</div>"
       ], 
       "output_type": "pyout", 
       "prompt_number": 174, 
       "text": [
        "   pop  state", 
        "0  1.5  Ohino", 
        "1  1.7  Ohino", 
        "2  3.6  Ohino"
       ]
      }
     ], 
     "prompt_number": 174
    }, 
    {
     "cell_type": "code", 
     "collapsed": false, 
     "input": [
      "df.reindex(index=['a','b','c','d','e'])"
     ], 
     "language": "python", 
     "outputs": [
      {
       "html": [
        "<div style=\"max-height:1000px;max-width:1500px;overflow:auto;\">", 
        "<table border=\"1\" class=\"dataframe\">", 
        "  <thead>", 
        "    <tr style=\"text-align: right;\">", 
        "      <th></th>", 
        "      <th>pop</th>", 
        "      <th>state</th>", 
        "      <th>year</th>", 
        "    </tr>", 
        "  </thead>", 
        "  <tbody>", 
        "    <tr>", 
        "      <td><strong>a</strong></td>", 
        "      <td>NaN</td>", 
        "      <td> NaN</td>", 
        "      <td>NaN</td>", 
        "    </tr>", 
        "    <tr>", 
        "      <td><strong>b</strong></td>", 
        "      <td>NaN</td>", 
        "      <td> NaN</td>", 
        "      <td>NaN</td>", 
        "    </tr>", 
        "    <tr>", 
        "      <td><strong>c</strong></td>", 
        "      <td>NaN</td>", 
        "      <td> NaN</td>", 
        "      <td>NaN</td>", 
        "    </tr>", 
        "    <tr>", 
        "      <td><strong>d</strong></td>", 
        "      <td>NaN</td>", 
        "      <td> NaN</td>", 
        "      <td>NaN</td>", 
        "    </tr>", 
        "    <tr>", 
        "      <td><strong>e</strong></td>", 
        "      <td>NaN</td>", 
        "      <td> NaN</td>", 
        "      <td>NaN</td>", 
        "    </tr>", 
        "  </tbody>", 
        "</table>", 
        "</div>"
       ], 
       "output_type": "pyout", 
       "prompt_number": 176, 
       "text": [
        "   pop state  year", 
        "a  NaN   NaN   NaN", 
        "b  NaN   NaN   NaN", 
        "c  NaN   NaN   NaN", 
        "d  NaN   NaN   NaN", 
        "e  NaN   NaN   NaN"
       ]
      }
     ], 
     "prompt_number": 176
    }, 
    {
     "cell_type": "code", 
     "collapsed": false, 
     "input": [
      "df"
     ], 
     "language": "python", 
     "outputs": [
      {
       "html": [
        "<div style=\"max-height:1000px;max-width:1500px;overflow:auto;\">", 
        "<table border=\"1\" class=\"dataframe\">", 
        "  <thead>", 
        "    <tr style=\"text-align: right;\">", 
        "      <th></th>", 
        "      <th>pop</th>", 
        "      <th>state</th>", 
        "      <th>year</th>", 
        "    </tr>", 
        "  </thead>", 
        "  <tbody>", 
        "    <tr>", 
        "      <td><strong>0</strong></td>", 
        "      <td> 1.5</td>", 
        "      <td>  Ohino</td>", 
        "      <td> 2000</td>", 
        "    </tr>", 
        "    <tr>", 
        "      <td><strong>1</strong></td>", 
        "      <td> 1.7</td>", 
        "      <td>  Ohino</td>", 
        "      <td> 2001</td>", 
        "    </tr>", 
        "    <tr>", 
        "      <td><strong>2</strong></td>", 
        "      <td> 3.6</td>", 
        "      <td>  Ohino</td>", 
        "      <td> 2002</td>", 
        "    </tr>", 
        "    <tr>", 
        "      <td><strong>3</strong></td>", 
        "      <td> 2.4</td>", 
        "      <td> Nevada</td>", 
        "      <td> 2001</td>", 
        "    </tr>", 
        "    <tr>", 
        "      <td><strong>4</strong></td>", 
        "      <td> 2.9</td>", 
        "      <td> Nevada</td>", 
        "      <td> 2002</td>", 
        "    </tr>", 
        "  </tbody>", 
        "</table>", 
        "</div>"
       ], 
       "output_type": "pyout", 
       "prompt_number": 177, 
       "text": [
        "   pop   state  year", 
        "0  1.5   Ohino  2000", 
        "1  1.7   Ohino  2001", 
        "2  3.6   Ohino  2002", 
        "3  2.4  Nevada  2001", 
        "4  2.9  Nevada  2002"
       ]
      }
     ], 
     "prompt_number": 177
    }, 
    {
     "cell_type": "code", 
     "collapsed": true, 
     "input": [], 
     "language": "python", 
     "outputs": []
    }
   ]
  }
 ]
}