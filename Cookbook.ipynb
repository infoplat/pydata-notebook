{
 "metadata": {
  "name": "Cookbook"
 }, 
 "nbformat": 2, 
 "worksheets": [
  {
   "cells": [
    {
     "cell_type": "code", 
     "collapsed": false, 
     "input": [
      "#http://pandas.pydata.org/pandas-docs/stable/cookbook.html", 
      "import pandas as pd"
     ], 
     "language": "python", 
     "outputs": [], 
     "prompt_number": 19
    }, 
    {
     "cell_type": "code", 
     "collapsed": false, 
     "input": [
      "df = pd.DataFrame({'AAA' : [4,5,6,7], 'BBB' : [10,20,30,40],'CCC' : [100,50,-30,-50]}); df"
     ], 
     "language": "python", 
     "outputs": [
      {
       "html": [
        "<div style=\"max-height:1000px;max-width:1500px;overflow:auto;\">", 
        "<table border=\"1\" class=\"dataframe\">", 
        "  <thead>", 
        "    <tr style=\"text-align: right;\">", 
        "      <th></th>", 
        "      <th>AAA</th>", 
        "      <th>BBB</th>", 
        "      <th>CCC</th>", 
        "    </tr>", 
        "  </thead>", 
        "  <tbody>", 
        "    <tr>", 
        "      <td><strong>0</strong></td>", 
        "      <td> 4</td>", 
        "      <td> 10</td>", 
        "      <td> 100</td>", 
        "    </tr>", 
        "    <tr>", 
        "      <td><strong>1</strong></td>", 
        "      <td> 5</td>", 
        "      <td> 20</td>", 
        "      <td>  50</td>", 
        "    </tr>", 
        "    <tr>", 
        "      <td><strong>2</strong></td>", 
        "      <td> 6</td>", 
        "      <td> 30</td>", 
        "      <td> -30</td>", 
        "    </tr>", 
        "    <tr>", 
        "      <td><strong>3</strong></td>", 
        "      <td> 7</td>", 
        "      <td> 40</td>", 
        "      <td> -50</td>", 
        "    </tr>", 
        "  </tbody>", 
        "</table>", 
        "</div>"
       ], 
       "output_type": "pyout", 
       "prompt_number": 20, 
       "text": [
        "   AAA  BBB  CCC", 
        "0    4   10  100", 
        "1    5   20   50", 
        "2    6   30  -30", 
        "3    7   40  -50"
       ]
      }
     ], 
     "prompt_number": 20
    }, 
    {
     "cell_type": "code", 
     "collapsed": false, 
     "input": [
      "#if-then...", 
      "#An if-then on one column", 
      "df.ix[df.AAA >= 5,'BBB'] = -1; df"
     ], 
     "language": "python", 
     "outputs": [
      {
       "html": [
        "<div style=\"max-height:1000px;max-width:1500px;overflow:auto;\">", 
        "<table border=\"1\" class=\"dataframe\">", 
        "  <thead>", 
        "    <tr style=\"text-align: right;\">", 
        "      <th></th>", 
        "      <th>AAA</th>", 
        "      <th>BBB</th>", 
        "      <th>CCC</th>", 
        "    </tr>", 
        "  </thead>", 
        "  <tbody>", 
        "    <tr>", 
        "      <td><strong>0</strong></td>", 
        "      <td> 4</td>", 
        "      <td> 10</td>", 
        "      <td> 100</td>", 
        "    </tr>", 
        "    <tr>", 
        "      <td><strong>1</strong></td>", 
        "      <td> 5</td>", 
        "      <td> -1</td>", 
        "      <td>  50</td>", 
        "    </tr>", 
        "    <tr>", 
        "      <td><strong>2</strong></td>", 
        "      <td> 6</td>", 
        "      <td> -1</td>", 
        "      <td> -30</td>", 
        "    </tr>", 
        "    <tr>", 
        "      <td><strong>3</strong></td>", 
        "      <td> 7</td>", 
        "      <td> -1</td>", 
        "      <td> -50</td>", 
        "    </tr>", 
        "  </tbody>", 
        "</table>", 
        "</div>"
       ], 
       "output_type": "pyout", 
       "prompt_number": 21, 
       "text": [
        "   AAA  BBB  CCC", 
        "0    4   10  100", 
        "1    5   -1   50", 
        "2    6   -1  -30", 
        "3    7   -1  -50"
       ]
      }
     ], 
     "prompt_number": 21
    }, 
    {
     "cell_type": "code", 
     "collapsed": false, 
     "input": [
      "#An if-then with assignment to 2 columns:", 
      "df.ix[df.AAA >= 5,['BBB','CCC']] = 555; df"
     ], 
     "language": "python", 
     "outputs": [
      {
       "html": [
        "<div style=\"max-height:1000px;max-width:1500px;overflow:auto;\">", 
        "<table border=\"1\" class=\"dataframe\">", 
        "  <thead>", 
        "    <tr style=\"text-align: right;\">", 
        "      <th></th>", 
        "      <th>AAA</th>", 
        "      <th>BBB</th>", 
        "      <th>CCC</th>", 
        "    </tr>", 
        "  </thead>", 
        "  <tbody>", 
        "    <tr>", 
        "      <td><strong>0</strong></td>", 
        "      <td> 4</td>", 
        "      <td>  10</td>", 
        "      <td> 100</td>", 
        "    </tr>", 
        "    <tr>", 
        "      <td><strong>1</strong></td>", 
        "      <td> 5</td>", 
        "      <td> 555</td>", 
        "      <td> 555</td>", 
        "    </tr>", 
        "    <tr>", 
        "      <td><strong>2</strong></td>", 
        "      <td> 6</td>", 
        "      <td> 555</td>", 
        "      <td> 555</td>", 
        "    </tr>", 
        "    <tr>", 
        "      <td><strong>3</strong></td>", 
        "      <td> 7</td>", 
        "      <td> 555</td>", 
        "      <td> 555</td>", 
        "    </tr>", 
        "  </tbody>", 
        "</table>", 
        "</div>"
       ], 
       "output_type": "pyout", 
       "prompt_number": 22, 
       "text": [
        "   AAA  BBB  CCC", 
        "0    4   10  100", 
        "1    5  555  555", 
        "2    6  555  555", 
        "3    7  555  555"
       ]
      }
     ], 
     "prompt_number": 22
    }, 
    {
     "cell_type": "code", 
     "collapsed": false, 
     "input": [
      "#Add another line with different logic, to do the -else", 
      "df.ix[df.AAA < 5,['BBB','CCC']] = 2000; df"
     ], 
     "language": "python", 
     "outputs": [
      {
       "html": [
        "<div style=\"max-height:1000px;max-width:1500px;overflow:auto;\">", 
        "<table border=\"1\" class=\"dataframe\">", 
        "  <thead>", 
        "    <tr style=\"text-align: right;\">", 
        "      <th></th>", 
        "      <th>AAA</th>", 
        "      <th>BBB</th>", 
        "      <th>CCC</th>", 
        "    </tr>", 
        "  </thead>", 
        "  <tbody>", 
        "    <tr>", 
        "      <td><strong>0</strong></td>", 
        "      <td> 4</td>", 
        "      <td> 2000</td>", 
        "      <td> 2000</td>", 
        "    </tr>", 
        "    <tr>", 
        "      <td><strong>1</strong></td>", 
        "      <td> 5</td>", 
        "      <td>  555</td>", 
        "      <td>  555</td>", 
        "    </tr>", 
        "    <tr>", 
        "      <td><strong>2</strong></td>", 
        "      <td> 6</td>", 
        "      <td>  555</td>", 
        "      <td>  555</td>", 
        "    </tr>", 
        "    <tr>", 
        "      <td><strong>3</strong></td>", 
        "      <td> 7</td>", 
        "      <td>  555</td>", 
        "      <td>  555</td>", 
        "    </tr>", 
        "  </tbody>", 
        "</table>", 
        "</div>"
       ], 
       "output_type": "pyout", 
       "prompt_number": 23, 
       "text": [
        "   AAA   BBB   CCC", 
        "0    4  2000  2000", 
        "1    5   555   555", 
        "2    6   555   555", 
        "3    7   555   555"
       ]
      }
     ], 
     "prompt_number": 23
    }, 
    {
     "cell_type": "code", 
     "collapsed": true, 
     "input": [], 
     "language": "python", 
     "outputs": [], 
     "prompt_number": 23
    }
   ]
  }
 ]
}