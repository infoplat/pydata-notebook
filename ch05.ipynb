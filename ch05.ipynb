{
 "metadata": {
  "name": "ch05"
 }, 
 "nbformat": 2, 
 "worksheets": [
  {
   "cells": [
    {
     "cell_type": "code", 
     "collapsed": true, 
     "input": [
      "#\u7b2c5\u7ae0 pandas\u5165\u95e8", 
      "from pandas import Series, DataFrame", 
      "import pandas as pd"
     ], 
     "language": "python", 
     "outputs": [], 
     "prompt_number": 1
    }, 
    {
     "cell_type": "code", 
     "collapsed": true, 
     "input": [
      "##pandas\u7684\u6570\u636e\u7ed3\u6784\u4ecb\u7ecd"
     ], 
     "language": "python", 
     "outputs": [], 
     "prompt_number": 2
    }, 
    {
     "cell_type": "code", 
     "collapsed": true, 
     "input": [
      "###Series"
     ], 
     "language": "python", 
     "outputs": [], 
     "prompt_number": 3
    }, 
    {
     "cell_type": "code", 
     "collapsed": true, 
     "input": [
      "obj = Series([4,7,-5,3])"
     ], 
     "language": "python", 
     "outputs": [], 
     "prompt_number": 4
    }, 
    {
     "cell_type": "code", 
     "collapsed": false, 
     "input": [
      "obj"
     ], 
     "language": "python", 
     "outputs": [
      {
       "output_type": "pyout", 
       "prompt_number": 5, 
       "text": [
        "0    4", 
        "1    7", 
        "2   -5", 
        "3    3"
       ]
      }
     ], 
     "prompt_number": 5
    }, 
    {
     "cell_type": "code", 
     "collapsed": false, 
     "input": [
      "obj.values"
     ], 
     "language": "python", 
     "outputs": [
      {
       "output_type": "pyout", 
       "prompt_number": 6, 
       "text": [
        "array([ 4,  7, -5,  3], dtype=int64)"
       ]
      }
     ], 
     "prompt_number": 6
    }, 
    {
     "cell_type": "code", 
     "collapsed": false, 
     "input": [
      "obj.index"
     ], 
     "language": "python", 
     "outputs": [
      {
       "output_type": "stream", 
       "stream": "stdout", 
       "text": [
        "The history saving thread hit an unexpected error (OperationalError('database is locked',)).History will not be written to the database."
       ]
      }, 
      {
       "output_type": "pyout", 
       "prompt_number": 7, 
       "text": [
        "Int64Index([0, 1, 2, 3], dtype=int64)"
       ]
      }
     ], 
     "prompt_number": 7
    }, 
    {
     "cell_type": "code", 
     "collapsed": true, 
     "input": [
      "obj2 = Series([4,7,-5,3], index=['d','b','a','c'])"
     ], 
     "language": "python", 
     "outputs": [], 
     "prompt_number": 8
    }, 
    {
     "cell_type": "code", 
     "collapsed": false, 
     "input": [
      "obj2"
     ], 
     "language": "python", 
     "outputs": [
      {
       "output_type": "pyout", 
       "prompt_number": 9, 
       "text": [
        "d    4", 
        "b    7", 
        "a   -5", 
        "c    3"
       ]
      }
     ], 
     "prompt_number": 9
    }, 
    {
     "cell_type": "code", 
     "collapsed": false, 
     "input": [
      "obj2.index"
     ], 
     "language": "python", 
     "outputs": [
      {
       "output_type": "pyout", 
       "prompt_number": 10, 
       "text": [
        "Index([d, b, a, c], dtype=object)"
       ]
      }
     ], 
     "prompt_number": 10
    }, 
    {
     "cell_type": "code", 
     "collapsed": true, 
     "input": [
      "obj2['d'] = 6"
     ], 
     "language": "python", 
     "outputs": [], 
     "prompt_number": 11
    }, 
    {
     "cell_type": "code", 
     "collapsed": false, 
     "input": [
      "obj2"
     ], 
     "language": "python", 
     "outputs": [
      {
       "output_type": "pyout", 
       "prompt_number": 12, 
       "text": [
        "d    6", 
        "b    7", 
        "a   -5", 
        "c    3"
       ]
      }
     ], 
     "prompt_number": 12
    }, 
    {
     "cell_type": "code", 
     "collapsed": false, 
     "input": [
      "obj2[['c','a','d']]"
     ], 
     "language": "python", 
     "outputs": [
      {
       "output_type": "pyout", 
       "prompt_number": 13, 
       "text": [
        "c    3", 
        "a   -5", 
        "d    6"
       ]
      }
     ], 
     "prompt_number": 13
    }, 
    {
     "cell_type": "code", 
     "collapsed": false, 
     "input": [
      "obj2[obj2>0]"
     ], 
     "language": "python", 
     "outputs": [
      {
       "output_type": "pyout", 
       "prompt_number": 14, 
       "text": [
        "d    6", 
        "b    7", 
        "c    3"
       ]
      }
     ], 
     "prompt_number": 14
    }, 
    {
     "cell_type": "code", 
     "collapsed": false, 
     "input": [
      "obj2*2"
     ], 
     "language": "python", 
     "outputs": [
      {
       "output_type": "pyout", 
       "prompt_number": 15, 
       "text": [
        "d    12", 
        "b    14", 
        "a   -10", 
        "c     6"
       ]
      }
     ], 
     "prompt_number": 15
    }, 
    {
     "cell_type": "code", 
     "collapsed": false, 
     "input": [
      "np.exp(obj2)"
     ], 
     "language": "python", 
     "outputs": [
      {
       "output_type": "pyout", 
       "prompt_number": 16, 
       "text": [
        "d     403.428793", 
        "b    1096.633158", 
        "a       0.006738", 
        "c      20.085537"
       ]
      }
     ], 
     "prompt_number": 16
    }, 
    {
     "cell_type": "code", 
     "collapsed": false, 
     "input": [
      "'b' in obj2"
     ], 
     "language": "python", 
     "outputs": [
      {
       "output_type": "pyout", 
       "prompt_number": 17, 
       "text": [
        "True"
       ]
      }
     ], 
     "prompt_number": 17
    }, 
    {
     "cell_type": "code", 
     "collapsed": false, 
     "input": [
      "'e' in obj2"
     ], 
     "language": "python", 
     "outputs": [
      {
       "output_type": "pyout", 
       "prompt_number": 18, 
       "text": [
        "False"
       ]
      }
     ], 
     "prompt_number": 18
    }, 
    {
     "cell_type": "code", 
     "collapsed": true, 
     "input": [
      "sdata = {'Ohio':35000, 'Texas':71000, 'Oregon':16000, 'Utah':5000}"
     ], 
     "language": "python", 
     "outputs": [], 
     "prompt_number": 19
    }, 
    {
     "cell_type": "code", 
     "collapsed": true, 
     "input": [
      "obj3 = Series(sdata)"
     ], 
     "language": "python", 
     "outputs": [], 
     "prompt_number": 20
    }, 
    {
     "cell_type": "code", 
     "collapsed": false, 
     "input": [
      "obj3"
     ], 
     "language": "python", 
     "outputs": [
      {
       "output_type": "pyout", 
       "prompt_number": 21, 
       "text": [
        "Ohio      35000", 
        "Oregon    16000", 
        "Texas     71000", 
        "Utah       5000"
       ]
      }
     ], 
     "prompt_number": 21
    }, 
    {
     "cell_type": "code", 
     "collapsed": false, 
     "input": [
      "obj3.index"
     ], 
     "language": "python", 
     "outputs": [
      {
       "output_type": "pyout", 
       "prompt_number": 22, 
       "text": [
        "Index([Ohio, Oregon, Texas, Utah], dtype=object)"
       ]
      }
     ], 
     "prompt_number": 22
    }, 
    {
     "cell_type": "code", 
     "collapsed": false, 
     "input": [
      "obj3.values"
     ], 
     "language": "python", 
     "outputs": [
      {
       "output_type": "pyout", 
       "prompt_number": 23, 
       "text": [
        "array([35000, 16000, 71000,  5000], dtype=int64)"
       ]
      }
     ], 
     "prompt_number": 23
    }, 
    {
     "cell_type": "code", 
     "collapsed": true, 
     "input": [
      "states = ['California','Ohio','Oregon','Texas']"
     ], 
     "language": "python", 
     "outputs": [], 
     "prompt_number": 24
    }, 
    {
     "cell_type": "code", 
     "collapsed": true, 
     "input": [
      "obj4 = Series(sdata, index=states)"
     ], 
     "language": "python", 
     "outputs": [], 
     "prompt_number": 25
    }, 
    {
     "cell_type": "code", 
     "collapsed": false, 
     "input": [
      "obj4"
     ], 
     "language": "python", 
     "outputs": [
      {
       "output_type": "pyout", 
       "prompt_number": 26, 
       "text": [
        "California      NaN", 
        "Ohio          35000", 
        "Oregon        16000", 
        "Texas         71000"
       ]
      }
     ], 
     "prompt_number": 26
    }, 
    {
     "cell_type": "code", 
     "collapsed": false, 
     "input": [
      "pd.isnull(obj4)"
     ], 
     "language": "python", 
     "outputs": [
      {
       "output_type": "pyout", 
       "prompt_number": 27, 
       "text": [
        "California     True", 
        "Ohio          False", 
        "Oregon        False", 
        "Texas         False"
       ]
      }
     ], 
     "prompt_number": 27
    }, 
    {
     "cell_type": "code", 
     "collapsed": false, 
     "input": [
      "pd.notnull(obj4)"
     ], 
     "language": "python", 
     "outputs": [
      {
       "output_type": "pyout", 
       "prompt_number": 28, 
       "text": [
        "California    False", 
        "Ohio           True", 
        "Oregon         True", 
        "Texas          True"
       ]
      }
     ], 
     "prompt_number": 28
    }, 
    {
     "cell_type": "code", 
     "collapsed": false, 
     "input": [
      "obj4.isnull()"
     ], 
     "language": "python", 
     "outputs": [
      {
       "output_type": "pyout", 
       "prompt_number": 29, 
       "text": [
        "California     True", 
        "Ohio          False", 
        "Oregon        False", 
        "Texas         False"
       ]
      }
     ], 
     "prompt_number": 29
    }, 
    {
     "cell_type": "code", 
     "collapsed": false, 
     "input": [
      "obj3 + obj4"
     ], 
     "language": "python", 
     "outputs": [
      {
       "output_type": "pyout", 
       "prompt_number": 30, 
       "text": [
        "California       NaN", 
        "Ohio           70000", 
        "Oregon         32000", 
        "Texas         142000", 
        "Utah             NaN"
       ]
      }
     ], 
     "prompt_number": 30
    }, 
    {
     "cell_type": "code", 
     "collapsed": true, 
     "input": [
      "obj4.name = 'population'"
     ], 
     "language": "python", 
     "outputs": [], 
     "prompt_number": 31
    }, 
    {
     "cell_type": "code", 
     "collapsed": true, 
     "input": [
      "obj4.index.name = 'state'"
     ], 
     "language": "python", 
     "outputs": [], 
     "prompt_number": 32
    }, 
    {
     "cell_type": "code", 
     "collapsed": false, 
     "input": [
      "obj4"
     ], 
     "language": "python", 
     "outputs": [
      {
       "output_type": "pyout", 
       "prompt_number": 33, 
       "text": [
        "state", 
        "California      NaN", 
        "Ohio          35000", 
        "Oregon        16000", 
        "Texas         71000", 
        "Name: population"
       ]
      }
     ], 
     "prompt_number": 33
    }, 
    {
     "cell_type": "code", 
     "collapsed": true, 
     "input": [
      "###Series\u7684\u7d22\u5f15\u53ef\u4ee5\u901a\u8fc7\u8d4b\u503c\u7684\u65b9\u5f0f\u5c31\u5730\u4fee\u6539"
     ], 
     "language": "python", 
     "outputs": [], 
     "prompt_number": 38
    }, 
    {
     "cell_type": "code", 
     "collapsed": true, 
     "input": [
      "obj.index = ['Bob', 'Steve', 'Jeff', 'Ryan']"
     ], 
     "language": "python", 
     "outputs": [], 
     "prompt_number": 39
    }, 
    {
     "cell_type": "code", 
     "collapsed": false, 
     "input": [
      "obj"
     ], 
     "language": "python", 
     "outputs": [
      {
       "output_type": "pyout", 
       "prompt_number": 40, 
       "text": [
        "Bob      4", 
        "Steve    7", 
        "Jeff    -5", 
        "Ryan     3"
       ]
      }
     ], 
     "prompt_number": 40
    }, 
    {
     "cell_type": "code", 
     "collapsed": true, 
     "input": [
      "#DataFrame"
     ], 
     "language": "python", 
     "outputs": [], 
     "prompt_number": 41
    }, 
    {
     "cell_type": "code", 
     "collapsed": true, 
     "input": [
      "data = {'state':['Ohio', 'Ohio', 'Ohio', 'Nevada', 'Nevada'],", 
      "        'year':[2000, 2001, 2002, 2001, 2002],", 
      "        'pop':[1.5, 1.7, 3.6, 2.4, 2.9]}"
     ], 
     "language": "python", 
     "outputs": [], 
     "prompt_number": 44
    }, 
    {
     "cell_type": "code", 
     "collapsed": false, 
     "input": [
      "frame = DataFrame(data)"
     ], 
     "language": "python", 
     "outputs": [], 
     "prompt_number": 45
    }, 
    {
     "cell_type": "code", 
     "collapsed": false, 
     "input": [
      "frame"
     ], 
     "language": "python", 
     "outputs": [
      {
       "html": [
        "<div style=\"max-height:1000px;max-width:1500px;overflow:auto;\">", 
        "<table border=\"1\" class=\"dataframe\">", 
        "  <thead>", 
        "    <tr style=\"text-align: right;\">", 
        "      <th></th>", 
        "      <th>pop</th>", 
        "      <th>state</th>", 
        "      <th>year</th>", 
        "    </tr>", 
        "  </thead>", 
        "  <tbody>", 
        "    <tr>", 
        "      <td><strong>0</strong></td>", 
        "      <td> 1.5</td>", 
        "      <td>   Ohio</td>", 
        "      <td> 2000</td>", 
        "    </tr>", 
        "    <tr>", 
        "      <td><strong>1</strong></td>", 
        "      <td> 1.7</td>", 
        "      <td>   Ohio</td>", 
        "      <td> 2001</td>", 
        "    </tr>", 
        "    <tr>", 
        "      <td><strong>2</strong></td>", 
        "      <td> 3.6</td>", 
        "      <td>   Ohio</td>", 
        "      <td> 2002</td>", 
        "    </tr>", 
        "    <tr>", 
        "      <td><strong>3</strong></td>", 
        "      <td> 2.4</td>", 
        "      <td> Nevada</td>", 
        "      <td> 2001</td>", 
        "    </tr>", 
        "    <tr>", 
        "      <td><strong>4</strong></td>", 
        "      <td> 2.9</td>", 
        "      <td> Nevada</td>", 
        "      <td> 2002</td>", 
        "    </tr>", 
        "  </tbody>", 
        "</table>", 
        "</div>"
       ], 
       "output_type": "pyout", 
       "prompt_number": 47, 
       "text": [
        "   pop   state  year", 
        "0  1.5    Ohio  2000", 
        "1  1.7    Ohio  2001", 
        "2  3.6    Ohio  2002", 
        "3  2.4  Nevada  2001", 
        "4  2.9  Nevada  2002"
       ]
      }
     ], 
     "prompt_number": 47
    }, 
    {
     "cell_type": "code", 
     "collapsed": false, 
     "input": [
      "DataFrame(data, columns=['year', 'state', 'pop'])"
     ], 
     "language": "python", 
     "outputs": [
      {
       "html": [
        "<div style=\"max-height:1000px;max-width:1500px;overflow:auto;\">", 
        "<table border=\"1\" class=\"dataframe\">", 
        "  <thead>", 
        "    <tr style=\"text-align: right;\">", 
        "      <th></th>", 
        "      <th>year</th>", 
        "      <th>state</th>", 
        "      <th>pop</th>", 
        "    </tr>", 
        "  </thead>", 
        "  <tbody>", 
        "    <tr>", 
        "      <td><strong>0</strong></td>", 
        "      <td> 2000</td>", 
        "      <td>   Ohio</td>", 
        "      <td> 1.5</td>", 
        "    </tr>", 
        "    <tr>", 
        "      <td><strong>1</strong></td>", 
        "      <td> 2001</td>", 
        "      <td>   Ohio</td>", 
        "      <td> 1.7</td>", 
        "    </tr>", 
        "    <tr>", 
        "      <td><strong>2</strong></td>", 
        "      <td> 2002</td>", 
        "      <td>   Ohio</td>", 
        "      <td> 3.6</td>", 
        "    </tr>", 
        "    <tr>", 
        "      <td><strong>3</strong></td>", 
        "      <td> 2001</td>", 
        "      <td> Nevada</td>", 
        "      <td> 2.4</td>", 
        "    </tr>", 
        "    <tr>", 
        "      <td><strong>4</strong></td>", 
        "      <td> 2002</td>", 
        "      <td> Nevada</td>", 
        "      <td> 2.9</td>", 
        "    </tr>", 
        "  </tbody>", 
        "</table>", 
        "</div>"
       ], 
       "output_type": "pyout", 
       "prompt_number": 48, 
       "text": [
        "   year   state  pop", 
        "0  2000    Ohio  1.5", 
        "1  2001    Ohio  1.7", 
        "2  2002    Ohio  3.6", 
        "3  2001  Nevada  2.4", 
        "4  2002  Nevada  2.9"
       ]
      }
     ], 
     "prompt_number": 48
    }, 
    {
     "cell_type": "code", 
     "collapsed": true, 
     "input": [
      "frame2 = DataFrame(data, columns=['year', 'state', 'pop', 'debt'],", 
      "                   index=['one', 'two', 'three', 'four', 'five'])"
     ], 
     "language": "python", 
     "outputs": [], 
     "prompt_number": 63
    }, 
    {
     "cell_type": "code", 
     "collapsed": false, 
     "input": [
      "frame2"
     ], 
     "language": "python", 
     "outputs": [
      {
       "html": [
        "<div style=\"max-height:1000px;max-width:1500px;overflow:auto;\">", 
        "<table border=\"1\" class=\"dataframe\">", 
        "  <thead>", 
        "    <tr style=\"text-align: right;\">", 
        "      <th></th>", 
        "      <th>year</th>", 
        "      <th>state</th>", 
        "      <th>pop</th>", 
        "      <th>debt</th>", 
        "    </tr>", 
        "  </thead>", 
        "  <tbody>", 
        "    <tr>", 
        "      <td><strong>one</strong></td>", 
        "      <td> 2000</td>", 
        "      <td>   Ohio</td>", 
        "      <td> 1.5</td>", 
        "      <td> NaN</td>", 
        "    </tr>", 
        "    <tr>", 
        "      <td><strong>two</strong></td>", 
        "      <td> 2001</td>", 
        "      <td>   Ohio</td>", 
        "      <td> 1.7</td>", 
        "      <td> NaN</td>", 
        "    </tr>", 
        "    <tr>", 
        "      <td><strong>three</strong></td>", 
        "      <td> 2002</td>", 
        "      <td>   Ohio</td>", 
        "      <td> 3.6</td>", 
        "      <td> NaN</td>", 
        "    </tr>", 
        "    <tr>", 
        "      <td><strong>four</strong></td>", 
        "      <td> 2001</td>", 
        "      <td> Nevada</td>", 
        "      <td> 2.4</td>", 
        "      <td> NaN</td>", 
        "    </tr>", 
        "    <tr>", 
        "      <td><strong>five</strong></td>", 
        "      <td> 2002</td>", 
        "      <td> Nevada</td>", 
        "      <td> 2.9</td>", 
        "      <td> NaN</td>", 
        "    </tr>", 
        "  </tbody>", 
        "</table>", 
        "</div>"
       ], 
       "output_type": "pyout", 
       "prompt_number": 64, 
       "text": [
        "       year   state  pop debt", 
        "one    2000    Ohio  1.5  NaN", 
        "two    2001    Ohio  1.7  NaN", 
        "three  2002    Ohio  3.6  NaN", 
        "four   2001  Nevada  2.4  NaN", 
        "five   2002  Nevada  2.9  NaN"
       ]
      }
     ], 
     "prompt_number": 64
    }, 
    {
     "cell_type": "code", 
     "collapsed": false, 
     "input": [
      "frame2.columns"
     ], 
     "language": "python", 
     "outputs": [
      {
       "output_type": "pyout", 
       "prompt_number": 65, 
       "text": [
        "Index([year, state, pop, debt], dtype=object)"
       ]
      }
     ], 
     "prompt_number": 65
    }, 
    {
     "cell_type": "code", 
     "collapsed": false, 
     "input": [
      "frame2['state']"
     ], 
     "language": "python", 
     "outputs": [
      {
       "output_type": "pyout", 
       "prompt_number": 66, 
       "text": [
        "one        Ohio", 
        "two        Ohio", 
        "three      Ohio", 
        "four     Nevada", 
        "five     Nevada", 
        "Name: state"
       ]
      }
     ], 
     "prompt_number": 66
    }, 
    {
     "cell_type": "code", 
     "collapsed": false, 
     "input": [
      "frame2.year"
     ], 
     "language": "python", 
     "outputs": [
      {
       "output_type": "pyout", 
       "prompt_number": 67, 
       "text": [
        "one      2000", 
        "two      2001", 
        "three    2002", 
        "four     2001", 
        "five     2002", 
        "Name: year"
       ]
      }
     ], 
     "prompt_number": 67
    }, 
    {
     "cell_type": "code", 
     "collapsed": false, 
     "input": [
      "frame2.ix['three']"
     ], 
     "language": "python", 
     "outputs": [
      {
       "output_type": "pyout", 
       "prompt_number": 68, 
       "text": [
        "year     2002", 
        "state    Ohio", 
        "pop       3.6", 
        "debt      NaN", 
        "Name: three"
       ]
      }
     ], 
     "prompt_number": 68
    }, 
    {
     "cell_type": "code", 
     "collapsed": true, 
     "input": [
      "frame2.debt = 16.5"
     ], 
     "language": "python", 
     "outputs": [], 
     "prompt_number": 69
    }, 
    {
     "cell_type": "code", 
     "collapsed": false, 
     "input": [
      "frame2"
     ], 
     "language": "python", 
     "outputs": [
      {
       "html": [
        "<div style=\"max-height:1000px;max-width:1500px;overflow:auto;\">", 
        "<table border=\"1\" class=\"dataframe\">", 
        "  <thead>", 
        "    <tr style=\"text-align: right;\">", 
        "      <th></th>", 
        "      <th>year</th>", 
        "      <th>state</th>", 
        "      <th>pop</th>", 
        "      <th>debt</th>", 
        "    </tr>", 
        "  </thead>", 
        "  <tbody>", 
        "    <tr>", 
        "      <td><strong>one</strong></td>", 
        "      <td> 2000</td>", 
        "      <td>   Ohio</td>", 
        "      <td> 1.5</td>", 
        "      <td> 16.5</td>", 
        "    </tr>", 
        "    <tr>", 
        "      <td><strong>two</strong></td>", 
        "      <td> 2001</td>", 
        "      <td>   Ohio</td>", 
        "      <td> 1.7</td>", 
        "      <td> 16.5</td>", 
        "    </tr>", 
        "    <tr>", 
        "      <td><strong>three</strong></td>", 
        "      <td> 2002</td>", 
        "      <td>   Ohio</td>", 
        "      <td> 3.6</td>", 
        "      <td> 16.5</td>", 
        "    </tr>", 
        "    <tr>", 
        "      <td><strong>four</strong></td>", 
        "      <td> 2001</td>", 
        "      <td> Nevada</td>", 
        "      <td> 2.4</td>", 
        "      <td> 16.5</td>", 
        "    </tr>", 
        "    <tr>", 
        "      <td><strong>five</strong></td>", 
        "      <td> 2002</td>", 
        "      <td> Nevada</td>", 
        "      <td> 2.9</td>", 
        "      <td> 16.5</td>", 
        "    </tr>", 
        "  </tbody>", 
        "</table>", 
        "</div>"
       ], 
       "output_type": "pyout", 
       "prompt_number": 70, 
       "text": [
        "       year   state  pop  debt", 
        "one    2000    Ohio  1.5  16.5", 
        "two    2001    Ohio  1.7  16.5", 
        "three  2002    Ohio  3.6  16.5", 
        "four   2001  Nevada  2.4  16.5", 
        "five   2002  Nevada  2.9  16.5"
       ]
      }
     ], 
     "prompt_number": 70
    }, 
    {
     "cell_type": "code", 
     "collapsed": true, 
     "input": [
      "frame2['debt'] = np.arange(5.)"
     ], 
     "language": "python", 
     "outputs": [], 
     "prompt_number": 71
    }, 
    {
     "cell_type": "code", 
     "collapsed": false, 
     "input": [
      "frame2"
     ], 
     "language": "python", 
     "outputs": [
      {
       "html": [
        "<div style=\"max-height:1000px;max-width:1500px;overflow:auto;\">", 
        "<table border=\"1\" class=\"dataframe\">", 
        "  <thead>", 
        "    <tr style=\"text-align: right;\">", 
        "      <th></th>", 
        "      <th>year</th>", 
        "      <th>state</th>", 
        "      <th>pop</th>", 
        "      <th>debt</th>", 
        "    </tr>", 
        "  </thead>", 
        "  <tbody>", 
        "    <tr>", 
        "      <td><strong>one</strong></td>", 
        "      <td> 2000</td>", 
        "      <td>   Ohio</td>", 
        "      <td> 1.5</td>", 
        "      <td> 0</td>", 
        "    </tr>", 
        "    <tr>", 
        "      <td><strong>two</strong></td>", 
        "      <td> 2001</td>", 
        "      <td>   Ohio</td>", 
        "      <td> 1.7</td>", 
        "      <td> 1</td>", 
        "    </tr>", 
        "    <tr>", 
        "      <td><strong>three</strong></td>", 
        "      <td> 2002</td>", 
        "      <td>   Ohio</td>", 
        "      <td> 3.6</td>", 
        "      <td> 2</td>", 
        "    </tr>", 
        "    <tr>", 
        "      <td><strong>four</strong></td>", 
        "      <td> 2001</td>", 
        "      <td> Nevada</td>", 
        "      <td> 2.4</td>", 
        "      <td> 3</td>", 
        "    </tr>", 
        "    <tr>", 
        "      <td><strong>five</strong></td>", 
        "      <td> 2002</td>", 
        "      <td> Nevada</td>", 
        "      <td> 2.9</td>", 
        "      <td> 4</td>", 
        "    </tr>", 
        "  </tbody>", 
        "</table>", 
        "</div>"
       ], 
       "output_type": "pyout", 
       "prompt_number": 72, 
       "text": [
        "       year   state  pop  debt", 
        "one    2000    Ohio  1.5     0", 
        "two    2001    Ohio  1.7     1", 
        "three  2002    Ohio  3.6     2", 
        "four   2001  Nevada  2.4     3", 
        "five   2002  Nevada  2.9     4"
       ]
      }
     ], 
     "prompt_number": 72
    }, 
    {
     "cell_type": "code", 
     "collapsed": true, 
     "input": [
      "val = Series([-1.2, -1.5, -1.7], index=['two', 'four', 'five'])"
     ], 
     "language": "python", 
     "outputs": [], 
     "prompt_number": 73
    }, 
    {
     "cell_type": "code", 
     "collapsed": true, 
     "input": [
      "frame2.debt = val"
     ], 
     "language": "python", 
     "outputs": [], 
     "prompt_number": 74
    }, 
    {
     "cell_type": "code", 
     "collapsed": false, 
     "input": [
      "frame2"
     ], 
     "language": "python", 
     "outputs": [
      {
       "html": [
        "<div style=\"max-height:1000px;max-width:1500px;overflow:auto;\">", 
        "<table border=\"1\" class=\"dataframe\">", 
        "  <thead>", 
        "    <tr style=\"text-align: right;\">", 
        "      <th></th>", 
        "      <th>year</th>", 
        "      <th>state</th>", 
        "      <th>pop</th>", 
        "      <th>debt</th>", 
        "    </tr>", 
        "  </thead>", 
        "  <tbody>", 
        "    <tr>", 
        "      <td><strong>one</strong></td>", 
        "      <td> 2000</td>", 
        "      <td>   Ohio</td>", 
        "      <td> 1.5</td>", 
        "      <td> NaN</td>", 
        "    </tr>", 
        "    <tr>", 
        "      <td><strong>two</strong></td>", 
        "      <td> 2001</td>", 
        "      <td>   Ohio</td>", 
        "      <td> 1.7</td>", 
        "      <td>-1.2</td>", 
        "    </tr>", 
        "    <tr>", 
        "      <td><strong>three</strong></td>", 
        "      <td> 2002</td>", 
        "      <td>   Ohio</td>", 
        "      <td> 3.6</td>", 
        "      <td> NaN</td>", 
        "    </tr>", 
        "    <tr>", 
        "      <td><strong>four</strong></td>", 
        "      <td> 2001</td>", 
        "      <td> Nevada</td>", 
        "      <td> 2.4</td>", 
        "      <td>-1.5</td>", 
        "    </tr>", 
        "    <tr>", 
        "      <td><strong>five</strong></td>", 
        "      <td> 2002</td>", 
        "      <td> Nevada</td>", 
        "      <td> 2.9</td>", 
        "      <td>-1.7</td>", 
        "    </tr>", 
        "  </tbody>", 
        "</table>", 
        "</div>"
       ], 
       "output_type": "pyout", 
       "prompt_number": 75, 
       "text": [
        "       year   state  pop  debt", 
        "one    2000    Ohio  1.5   NaN", 
        "two    2001    Ohio  1.7  -1.2", 
        "three  2002    Ohio  3.6   NaN", 
        "four   2001  Nevada  2.4  -1.5", 
        "five   2002  Nevada  2.9  -1.7"
       ]
      }
     ], 
     "prompt_number": 75
    }, 
    {
     "cell_type": "code", 
     "collapsed": true, 
     "input": [
      "frame2['eastern'] = frame2.state == 'Ohio'"
     ], 
     "language": "python", 
     "outputs": [], 
     "prompt_number": 76
    }, 
    {
     "cell_type": "code", 
     "collapsed": false, 
     "input": [
      "frame2"
     ], 
     "language": "python", 
     "outputs": [
      {
       "html": [
        "<div style=\"max-height:1000px;max-width:1500px;overflow:auto;\">", 
        "<table border=\"1\" class=\"dataframe\">", 
        "  <thead>", 
        "    <tr style=\"text-align: right;\">", 
        "      <th></th>", 
        "      <th>year</th>", 
        "      <th>state</th>", 
        "      <th>pop</th>", 
        "      <th>debt</th>", 
        "      <th>eastern</th>", 
        "    </tr>", 
        "  </thead>", 
        "  <tbody>", 
        "    <tr>", 
        "      <td><strong>one</strong></td>", 
        "      <td> 2000</td>", 
        "      <td>   Ohio</td>", 
        "      <td> 1.5</td>", 
        "      <td> NaN</td>", 
        "      <td>  True</td>", 
        "    </tr>", 
        "    <tr>", 
        "      <td><strong>two</strong></td>", 
        "      <td> 2001</td>", 
        "      <td>   Ohio</td>", 
        "      <td> 1.7</td>", 
        "      <td>-1.2</td>", 
        "      <td>  True</td>", 
        "    </tr>", 
        "    <tr>", 
        "      <td><strong>three</strong></td>", 
        "      <td> 2002</td>", 
        "      <td>   Ohio</td>", 
        "      <td> 3.6</td>", 
        "      <td> NaN</td>", 
        "      <td>  True</td>", 
        "    </tr>", 
        "    <tr>", 
        "      <td><strong>four</strong></td>", 
        "      <td> 2001</td>", 
        "      <td> Nevada</td>", 
        "      <td> 2.4</td>", 
        "      <td>-1.5</td>", 
        "      <td> False</td>", 
        "    </tr>", 
        "    <tr>", 
        "      <td><strong>five</strong></td>", 
        "      <td> 2002</td>", 
        "      <td> Nevada</td>", 
        "      <td> 2.9</td>", 
        "      <td>-1.7</td>", 
        "      <td> False</td>", 
        "    </tr>", 
        "  </tbody>", 
        "</table>", 
        "</div>"
       ], 
       "output_type": "pyout", 
       "prompt_number": 77, 
       "text": [
        "       year   state  pop  debt eastern", 
        "one    2000    Ohio  1.5   NaN    True", 
        "two    2001    Ohio  1.7  -1.2    True", 
        "three  2002    Ohio  3.6   NaN    True", 
        "four   2001  Nevada  2.4  -1.5   False", 
        "five   2002  Nevada  2.9  -1.7   False"
       ]
      }
     ], 
     "prompt_number": 77
    }, 
    {
     "cell_type": "code", 
     "collapsed": false, 
     "input": [
      "frame2.columns"
     ], 
     "language": "python", 
     "outputs": [
      {
       "output_type": "pyout", 
       "prompt_number": 78, 
       "text": [
        "Index([year, state, pop, debt, eastern], dtype=object)"
       ]
      }
     ], 
     "prompt_number": 78
    }, 
    {
     "cell_type": "code", 
     "collapsed": false, 
     "input": [
      "del frame2['eastern']"
     ], 
     "language": "python", 
     "outputs": [], 
     "prompt_number": 81
    }, 
    {
     "cell_type": "code", 
     "collapsed": false, 
     "input": [
      "frame2.columns"
     ], 
     "language": "python", 
     "outputs": [
      {
       "output_type": "pyout", 
       "prompt_number": 82, 
       "text": [
        "Index([year, state, pop, debt], dtype=object)"
       ]
      }
     ], 
     "prompt_number": 82
    }, 
    {
     "cell_type": "code", 
     "collapsed": true, 
     "input": [
      "pop = {'Nevada':{2001:2.4, 2002:2.9},", 
      "       'Ohio':{2000:1.5, 2001:1.7, 2002:3.6}}"
     ], 
     "language": "python", 
     "outputs": [], 
     "prompt_number": 86
    }, 
    {
     "cell_type": "code", 
     "collapsed": true, 
     "input": [
      "frame3 = DataFrame(pop)"
     ], 
     "language": "python", 
     "outputs": [], 
     "prompt_number": 87
    }, 
    {
     "cell_type": "code", 
     "collapsed": false, 
     "input": [
      "frame3"
     ], 
     "language": "python", 
     "outputs": [
      {
       "html": [
        "<div style=\"max-height:1000px;max-width:1500px;overflow:auto;\">", 
        "<table border=\"1\" class=\"dataframe\">", 
        "  <thead>", 
        "    <tr style=\"text-align: right;\">", 
        "      <th></th>", 
        "      <th>Nevada</th>", 
        "      <th>Ohio</th>", 
        "    </tr>", 
        "  </thead>", 
        "  <tbody>", 
        "    <tr>", 
        "      <td><strong>2000</strong></td>", 
        "      <td> NaN</td>", 
        "      <td> 1.5</td>", 
        "    </tr>", 
        "    <tr>", 
        "      <td><strong>2001</strong></td>", 
        "      <td> 2.4</td>", 
        "      <td> 1.7</td>", 
        "    </tr>", 
        "    <tr>", 
        "      <td><strong>2002</strong></td>", 
        "      <td> 2.9</td>", 
        "      <td> 3.6</td>", 
        "    </tr>", 
        "  </tbody>", 
        "</table>", 
        "</div>"
       ], 
       "output_type": "pyout", 
       "prompt_number": 88, 
       "text": [
        "      Nevada  Ohio", 
        "2000     NaN   1.5", 
        "2001     2.4   1.7", 
        "2002     2.9   3.6"
       ]
      }
     ], 
     "prompt_number": 88
    }, 
    {
     "cell_type": "code", 
     "collapsed": false, 
     "input": [
      "frame3.T"
     ], 
     "language": "python", 
     "outputs": [
      {
       "html": [
        "<div style=\"max-height:1000px;max-width:1500px;overflow:auto;\">", 
        "<table border=\"1\" class=\"dataframe\">", 
        "  <thead>", 
        "    <tr style=\"text-align: right;\">", 
        "      <th></th>", 
        "      <th>2000</th>", 
        "      <th>2001</th>", 
        "      <th>2002</th>", 
        "    </tr>", 
        "  </thead>", 
        "  <tbody>", 
        "    <tr>", 
        "      <td><strong>Nevada</strong></td>", 
        "      <td> NaN</td>", 
        "      <td> 2.4</td>", 
        "      <td> 2.9</td>", 
        "    </tr>", 
        "    <tr>", 
        "      <td><strong>Ohio</strong></td>", 
        "      <td> 1.5</td>", 
        "      <td> 1.7</td>", 
        "      <td> 3.6</td>", 
        "    </tr>", 
        "  </tbody>", 
        "</table>", 
        "</div>"
       ], 
       "output_type": "pyout", 
       "prompt_number": 91, 
       "text": [
        "        2000  2001  2002", 
        "Nevada   NaN   2.4   2.9", 
        "Ohio     1.5   1.7   3.6"
       ]
      }
     ], 
     "prompt_number": 91
    }, 
    {
     "cell_type": "code", 
     "collapsed": false, 
     "input": [
      "DataFrame(pop, index=[2001, 2002, 2003])"
     ], 
     "language": "python", 
     "outputs": [
      {
       "html": [
        "<div style=\"max-height:1000px;max-width:1500px;overflow:auto;\">", 
        "<table border=\"1\" class=\"dataframe\">", 
        "  <thead>", 
        "    <tr style=\"text-align: right;\">", 
        "      <th></th>", 
        "      <th>Nevada</th>", 
        "      <th>Ohio</th>", 
        "    </tr>", 
        "  </thead>", 
        "  <tbody>", 
        "    <tr>", 
        "      <td><strong>2001</strong></td>", 
        "      <td> 2.4</td>", 
        "      <td> 1.7</td>", 
        "    </tr>", 
        "    <tr>", 
        "      <td><strong>2002</strong></td>", 
        "      <td> 2.9</td>", 
        "      <td> 3.6</td>", 
        "    </tr>", 
        "    <tr>", 
        "      <td><strong>2003</strong></td>", 
        "      <td> NaN</td>", 
        "      <td> NaN</td>", 
        "    </tr>", 
        "  </tbody>", 
        "</table>", 
        "</div>"
       ], 
       "output_type": "pyout", 
       "prompt_number": 92, 
       "text": [
        "      Nevada  Ohio", 
        "2001     2.4   1.7", 
        "2002     2.9   3.6", 
        "2003     NaN   NaN"
       ]
      }
     ], 
     "prompt_number": 92
    }, 
    {
     "cell_type": "code", 
     "collapsed": true, 
     "input": [
      "pdata = {'Ohio':frame3['Ohio'][:-1],", 
      "         'Nevada':frame3['Nevada'][:2]}"
     ], 
     "language": "python", 
     "outputs": [], 
     "prompt_number": 93
    }, 
    {
     "cell_type": "code", 
     "collapsed": false, 
     "input": [
      "DataFrame(pdata)"
     ], 
     "language": "python", 
     "outputs": [
      {
       "html": [
        "<div style=\"max-height:1000px;max-width:1500px;overflow:auto;\">", 
        "<table border=\"1\" class=\"dataframe\">", 
        "  <thead>", 
        "    <tr style=\"text-align: right;\">", 
        "      <th></th>", 
        "      <th>Nevada</th>", 
        "      <th>Ohio</th>", 
        "    </tr>", 
        "  </thead>", 
        "  <tbody>", 
        "    <tr>", 
        "      <td><strong>2000</strong></td>", 
        "      <td> NaN</td>", 
        "      <td> 1.5</td>", 
        "    </tr>", 
        "    <tr>", 
        "      <td><strong>2001</strong></td>", 
        "      <td> 2.4</td>", 
        "      <td> 1.7</td>", 
        "    </tr>", 
        "  </tbody>", 
        "</table>", 
        "</div>"
       ], 
       "output_type": "pyout", 
       "prompt_number": 94, 
       "text": [
        "      Nevada  Ohio", 
        "2000     NaN   1.5", 
        "2001     2.4   1.7"
       ]
      }
     ], 
     "prompt_number": 94
    }, 
    {
     "cell_type": "code", 
     "collapsed": true, 
     "input": [
      "frame3.index.name = 'year';frame3.columns.name = 'state'"
     ], 
     "language": "python", 
     "outputs": [], 
     "prompt_number": 95
    }, 
    {
     "cell_type": "code", 
     "collapsed": false, 
     "input": [
      "frame3"
     ], 
     "language": "python", 
     "outputs": [
      {
       "html": [
        "<div style=\"max-height:1000px;max-width:1500px;overflow:auto;\">", 
        "<table border=\"1\" class=\"dataframe\">", 
        "  <thead>", 
        "    <tr style=\"text-align: right;\">", 
        "      <th>state</th>", 
        "      <th>Nevada</th>", 
        "      <th>Ohio</th>", 
        "    </tr>", 
        "    <tr>", 
        "      <th>year</th>", 
        "      <th></th>", 
        "      <th></th>", 
        "    </tr>", 
        "  </thead>", 
        "  <tbody>", 
        "    <tr>", 
        "      <td><strong>2000</strong></td>", 
        "      <td> NaN</td>", 
        "      <td> 1.5</td>", 
        "    </tr>", 
        "    <tr>", 
        "      <td><strong>2001</strong></td>", 
        "      <td> 2.4</td>", 
        "      <td> 1.7</td>", 
        "    </tr>", 
        "    <tr>", 
        "      <td><strong>2002</strong></td>", 
        "      <td> 2.9</td>", 
        "      <td> 3.6</td>", 
        "    </tr>", 
        "  </tbody>", 
        "</table>", 
        "</div>"
       ], 
       "output_type": "pyout", 
       "prompt_number": 96, 
       "text": [
        "state  Nevada  Ohio", 
        "year               ", 
        "2000      NaN   1.5", 
        "2001      2.4   1.7", 
        "2002      2.9   3.6"
       ]
      }
     ], 
     "prompt_number": 96
    }, 
    {
     "cell_type": "code", 
     "collapsed": false, 
     "input": [
      "frame3.values"
     ], 
     "language": "python", 
     "outputs": [
      {
       "output_type": "pyout", 
       "prompt_number": 97, 
       "text": [
        "array([[ nan,  1.5],", 
        "       [ 2.4,  1.7],", 
        "       [ 2.9,  3.6]])"
       ]
      }
     ], 
     "prompt_number": 97
    }, 
    {
     "cell_type": "code", 
     "collapsed": false, 
     "input": [
      "frame2.values"
     ], 
     "language": "python", 
     "outputs": [
      {
       "output_type": "pyout", 
       "prompt_number": 98, 
       "text": [
        "array([[2000, Ohio, 1.5, nan],", 
        "       [2001, Ohio, 1.7, -1.2],", 
        "       [2002, Ohio, 3.6, nan],", 
        "       [2001, Nevada, 2.4, -1.5],", 
        "       [2002, Nevada, 2.9, -1.7]], dtype=object)"
       ]
      }
     ], 
     "prompt_number": 98
    }, 
    {
     "cell_type": "code", 
     "collapsed": false, 
     "input": [
      "frame2"
     ], 
     "language": "python", 
     "outputs": [
      {
       "html": [
        "<div style=\"max-height:1000px;max-width:1500px;overflow:auto;\">", 
        "<table border=\"1\" class=\"dataframe\">", 
        "  <thead>", 
        "    <tr style=\"text-align: right;\">", 
        "      <th></th>", 
        "      <th>year</th>", 
        "      <th>state</th>", 
        "      <th>pop</th>", 
        "      <th>debt</th>", 
        "    </tr>", 
        "  </thead>", 
        "  <tbody>", 
        "    <tr>", 
        "      <td><strong>one</strong></td>", 
        "      <td> 2000</td>", 
        "      <td>   Ohio</td>", 
        "      <td> 1.5</td>", 
        "      <td> NaN</td>", 
        "    </tr>", 
        "    <tr>", 
        "      <td><strong>two</strong></td>", 
        "      <td> 2001</td>", 
        "      <td>   Ohio</td>", 
        "      <td> 1.7</td>", 
        "      <td>-1.2</td>", 
        "    </tr>", 
        "    <tr>", 
        "      <td><strong>three</strong></td>", 
        "      <td> 2002</td>", 
        "      <td>   Ohio</td>", 
        "      <td> 3.6</td>", 
        "      <td> NaN</td>", 
        "    </tr>", 
        "    <tr>", 
        "      <td><strong>four</strong></td>", 
        "      <td> 2001</td>", 
        "      <td> Nevada</td>", 
        "      <td> 2.4</td>", 
        "      <td>-1.5</td>", 
        "    </tr>", 
        "    <tr>", 
        "      <td><strong>five</strong></td>", 
        "      <td> 2002</td>", 
        "      <td> Nevada</td>", 
        "      <td> 2.9</td>", 
        "      <td>-1.7</td>", 
        "    </tr>", 
        "  </tbody>", 
        "</table>", 
        "</div>"
       ], 
       "output_type": "pyout", 
       "prompt_number": 100, 
       "text": [
        "       year   state  pop  debt", 
        "one    2000    Ohio  1.5   NaN", 
        "two    2001    Ohio  1.7  -1.2", 
        "three  2002    Ohio  3.6   NaN", 
        "four   2001  Nevada  2.4  -1.5", 
        "five   2002  Nevada  2.9  -1.7"
       ]
      }
     ], 
     "prompt_number": 100
    }, 
    {
     "cell_type": "code", 
     "collapsed": true, 
     "input": [
      "#\u7d22\u5f15\u5bf9\u8c61"
     ], 
     "language": "python", 
     "outputs": [], 
     "prompt_number": 101
    }, 
    {
     "cell_type": "code", 
     "collapsed": true, 
     "input": [
      "obj = Series(range(3), index=['a', 'b','c'])"
     ], 
     "language": "python", 
     "outputs": [], 
     "prompt_number": 102
    }, 
    {
     "cell_type": "code", 
     "collapsed": false, 
     "input": [
      "obj"
     ], 
     "language": "python", 
     "outputs": [
      {
       "output_type": "pyout", 
       "prompt_number": 103, 
       "text": [
        "a    0", 
        "b    1", 
        "c    2"
       ]
      }
     ], 
     "prompt_number": 103
    }, 
    {
     "cell_type": "code", 
     "collapsed": true, 
     "input": [
      "index =  obj.index"
     ], 
     "language": "python", 
     "outputs": [], 
     "prompt_number": 104
    }, 
    {
     "cell_type": "code", 
     "collapsed": false, 
     "input": [
      "index"
     ], 
     "language": "python", 
     "outputs": [
      {
       "output_type": "pyout", 
       "prompt_number": 105, 
       "text": [
        "Index([a, b, c], dtype=object)"
       ]
      }
     ], 
     "prompt_number": 105
    }, 
    {
     "cell_type": "code", 
     "collapsed": false, 
     "input": [
      "index[1:]"
     ], 
     "language": "python", 
     "outputs": [
      {
       "output_type": "pyout", 
       "prompt_number": 106, 
       "text": [
        "Index([b, c], dtype=object)"
       ]
      }
     ], 
     "prompt_number": 106
    }, 
    {
     "cell_type": "code", 
     "collapsed": false, 
     "input": [
      "##Index\u5bf9\u8c61\u662f\u4e0d\u53ef\u4fee\u6539\u7684(immutable)", 
      "index[1] = 'd'"
     ], 
     "language": "python", 
     "outputs": [
      {
       "ename": "Exception", 
       "evalue": "<class 'pandas.core.index.Index'> object is immutable", 
       "output_type": "pyerr", 
       "traceback": [
        "\u001b[1;31m---------------------------------------------------------------------------\u001b[0m\n\u001b[1;31mException\u001b[0m                                 Traceback (most recent call last)", 
        "\u001b[1;32mE:\\git\\pydata-notebook\\<ipython-input-110-f9121b89597a>\u001b[0m in \u001b[0;36m<module>\u001b[1;34m()\u001b[0m\n\u001b[0;32m      1\u001b[0m \u001b[1;31m##Index\u7035\u7845\u8584\u93c4\ufffd\u7b09\u9359\ufffd\u6168\u93c0\u572d\u6b91(immutable)\u001b[0m\r\n\u001b[1;33m\u001b[0m\u001b[0m\n\u001b[1;32m----> 2\u001b[1;33m \u001b[0mindex\u001b[0m\u001b[1;33m[\u001b[0m\u001b[1;36m1\u001b[0m\u001b[1;33m]\u001b[0m \u001b[1;33m=\u001b[0m \u001b[1;34m'd'\u001b[0m\u001b[1;33m\u001b[0m\u001b[0m\n\u001b[0m", 
        "\u001b[1;32mC:\\Python27\\lib\\site-packages\\pandas\\core\\index.pyc\u001b[0m in \u001b[0;36m__setitem__\u001b[1;34m(self, key, value)\u001b[0m\n\u001b[0;32m    307\u001b[0m     \u001b[1;32mdef\u001b[0m \u001b[0m__setitem__\u001b[0m\u001b[1;33m(\u001b[0m\u001b[0mself\u001b[0m\u001b[1;33m,\u001b[0m \u001b[0mkey\u001b[0m\u001b[1;33m,\u001b[0m \u001b[0mvalue\u001b[0m\u001b[1;33m)\u001b[0m\u001b[1;33m:\u001b[0m\u001b[1;33m\u001b[0m\u001b[0m\n\u001b[0;32m    308\u001b[0m         \u001b[1;34m\"\"\"Disable the setting of values.\"\"\"\u001b[0m\u001b[1;33m\u001b[0m\u001b[0m\n\u001b[1;32m--> 309\u001b[1;33m         \u001b[1;32mraise\u001b[0m \u001b[0mException\u001b[0m\u001b[1;33m(\u001b[0m\u001b[0mstr\u001b[0m\u001b[1;33m(\u001b[0m\u001b[0mself\u001b[0m\u001b[1;33m.\u001b[0m\u001b[0m__class__\u001b[0m\u001b[1;33m)\u001b[0m \u001b[1;33m+\u001b[0m \u001b[1;34m' object is immutable'\u001b[0m\u001b[1;33m)\u001b[0m\u001b[1;33m\u001b[0m\u001b[0m\n\u001b[0m\u001b[0;32m    310\u001b[0m \u001b[1;33m\u001b[0m\u001b[0m\n\u001b[0;32m    311\u001b[0m     \u001b[1;32mdef\u001b[0m \u001b[0m__getitem__\u001b[0m\u001b[1;33m(\u001b[0m\u001b[0mself\u001b[0m\u001b[1;33m,\u001b[0m \u001b[0mkey\u001b[0m\u001b[1;33m)\u001b[0m\u001b[1;33m:\u001b[0m\u001b[1;33m\u001b[0m\u001b[0m\n", 
        "\u001b[1;31mException\u001b[0m: <class 'pandas.core.index.Index'> object is immutable"
       ]
      }
     ], 
     "prompt_number": 110
    }, 
    {
     "cell_type": "code", 
     "collapsed": true, 
     "input": [
      "index = pd.Index(np.arange(3))"
     ], 
     "language": "python", 
     "outputs": [], 
     "prompt_number": 111
    }, 
    {
     "cell_type": "code", 
     "collapsed": false, 
     "input": [
      "index"
     ], 
     "language": "python", 
     "outputs": [
      {
       "output_type": "pyout", 
       "prompt_number": 112, 
       "text": [
        "Int64Index([0, 1, 2], dtype=int64)"
       ]
      }
     ], 
     "prompt_number": 112
    }, 
    {
     "cell_type": "code", 
     "collapsed": true, 
     "input": [
      "obj2 = Series([1.2, -2.5, 0], index = index)"
     ], 
     "language": "python", 
     "outputs": [], 
     "prompt_number": 113
    }, 
    {
     "cell_type": "code", 
     "collapsed": false, 
     "input": [
      "obj2"
     ], 
     "language": "python", 
     "outputs": [
      {
       "output_type": "pyout", 
       "prompt_number": 114, 
       "text": [
        "0    1.2", 
        "1   -2.5", 
        "2    0.0"
       ]
      }
     ], 
     "prompt_number": 114
    }, 
    {
     "cell_type": "code", 
     "collapsed": false, 
     "input": [
      "frame3"
     ], 
     "language": "python", 
     "outputs": [
      {
       "html": [
        "<div style=\"max-height:1000px;max-width:1500px;overflow:auto;\">", 
        "<table border=\"1\" class=\"dataframe\">", 
        "  <thead>", 
        "    <tr style=\"text-align: right;\">", 
        "      <th>state</th>", 
        "      <th>Nevada</th>", 
        "      <th>Ohio</th>", 
        "    </tr>", 
        "    <tr>", 
        "      <th>year</th>", 
        "      <th></th>", 
        "      <th></th>", 
        "    </tr>", 
        "  </thead>", 
        "  <tbody>", 
        "    <tr>", 
        "      <td><strong>2000</strong></td>", 
        "      <td> NaN</td>", 
        "      <td> 1.5</td>", 
        "    </tr>", 
        "    <tr>", 
        "      <td><strong>2001</strong></td>", 
        "      <td> 2.4</td>", 
        "      <td> 1.7</td>", 
        "    </tr>", 
        "    <tr>", 
        "      <td><strong>2002</strong></td>", 
        "      <td> 2.9</td>", 
        "      <td> 3.6</td>", 
        "    </tr>", 
        "  </tbody>", 
        "</table>", 
        "</div>"
       ], 
       "output_type": "pyout", 
       "prompt_number": 116, 
       "text": [
        "state  Nevada  Ohio", 
        "year               ", 
        "2000      NaN   1.5", 
        "2001      2.4   1.7", 
        "2002      2.9   3.6"
       ]
      }
     ], 
     "prompt_number": 116
    }, 
    {
     "cell_type": "code", 
     "collapsed": false, 
     "input": [
      "'Ohio' in frame3.columns"
     ], 
     "language": "python", 
     "outputs": [
      {
       "output_type": "pyout", 
       "prompt_number": 117, 
       "text": [
        "True"
       ]
      }
     ], 
     "prompt_number": 117
    }, 
    {
     "cell_type": "code", 
     "collapsed": false, 
     "input": [
      "2003 in frame3.index"
     ], 
     "language": "python", 
     "outputs": [
      {
       "output_type": "pyout", 
       "prompt_number": 119, 
       "text": [
        "False"
       ]
      }
     ], 
     "prompt_number": 119
    }, 
    {
     "cell_type": "code", 
     "collapsed": true, 
     "input": [
      "##\u57fa\u672c\u529f\u80fd"
     ], 
     "language": "python", 
     "outputs": [], 
     "prompt_number": 120
    }, 
    {
     "cell_type": "code", 
     "collapsed": true, 
     "input": [
      "###\u91cd\u65b0\u7d22\u5f15"
     ], 
     "language": "python", 
     "outputs": [], 
     "prompt_number": 121
    }, 
    {
     "cell_type": "code", 
     "collapsed": true, 
     "input": [
      "obj = Series([4.5, 7.2, -5.3, 3.6], index=['d', 'b','a','c'])"
     ], 
     "language": "python", 
     "outputs": [], 
     "prompt_number": 122
    }, 
    {
     "cell_type": "code", 
     "collapsed": false, 
     "input": [
      "obj"
     ], 
     "language": "python", 
     "outputs": [
      {
       "output_type": "pyout", 
       "prompt_number": 123, 
       "text": [
        "d    4.5", 
        "b    7.2", 
        "a   -5.3", 
        "c    3.6"
       ]
      }
     ], 
     "prompt_number": 123
    }, 
    {
     "cell_type": "code", 
     "collapsed": true, 
     "input": [
      "obj2 = obj.reindex(['a', 'b', 'c', 'd', 'e'])"
     ], 
     "language": "python", 
     "outputs": [], 
     "prompt_number": 124
    }, 
    {
     "cell_type": "code", 
     "collapsed": false, 
     "input": [
      "obj2"
     ], 
     "language": "python", 
     "outputs": [
      {
       "output_type": "pyout", 
       "prompt_number": 125, 
       "text": [
        "a   -5.3", 
        "b    7.2", 
        "c    3.6", 
        "d    4.5", 
        "e    NaN"
       ]
      }
     ], 
     "prompt_number": 125
    }, 
    {
     "cell_type": "code", 
     "collapsed": true, 
     "input": [], 
     "language": "python", 
     "outputs": []
    }
   ]
  }
 ]
}