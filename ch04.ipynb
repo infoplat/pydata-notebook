{
 "metadata": {
  "name": "ch04"
 }, 
 "nbformat": 2, 
 "worksheets": [
  {
   "cells": [
    {
     "cell_type": "code", 
     "collapsed": true, 
     "input": [
      "#\u521b\u5efandarray", 
      "data1 = [6,7.5,8,0,1]", 
      "arr1 = np.array(data1)"
     ], 
     "language": "python", 
     "outputs": [], 
     "prompt_number": 68
    }, 
    {
     "cell_type": "code", 
     "collapsed": false, 
     "input": [
      "arr1"
     ], 
     "language": "python", 
     "outputs": [
      {
       "output_type": "pyout", 
       "prompt_number": 69, 
       "text": [
        "array([ 6. ,  7.5,  8. ,  0. ,  1. ])"
       ]
      }
     ], 
     "prompt_number": 69
    }, 
    {
     "cell_type": "code", 
     "collapsed": true, 
     "input": [
      "data2 = [[1,2,3,4], [5,6,7,8]]"
     ], 
     "language": "python", 
     "outputs": [], 
     "prompt_number": 70
    }, 
    {
     "cell_type": "code", 
     "collapsed": true, 
     "input": [
      "arr2 = np.array(data2)"
     ], 
     "language": "python", 
     "outputs": [], 
     "prompt_number": 71
    }, 
    {
     "cell_type": "code", 
     "collapsed": false, 
     "input": [
      "arr2"
     ], 
     "language": "python", 
     "outputs": [
      {
       "output_type": "pyout", 
       "prompt_number": 72, 
       "text": [
        "array([[1, 2, 3, 4],", 
        "       [5, 6, 7, 8]])"
       ]
      }
     ], 
     "prompt_number": 72
    }, 
    {
     "cell_type": "code", 
     "collapsed": false, 
     "input": [
      "arr2.ndim"
     ], 
     "language": "python", 
     "outputs": [
      {
       "output_type": "pyout", 
       "prompt_number": 73, 
       "text": [
        "2"
       ]
      }
     ], 
     "prompt_number": 73
    }, 
    {
     "cell_type": "code", 
     "collapsed": false, 
     "input": [
      "arr2.shape"
     ], 
     "language": "python", 
     "outputs": [
      {
       "output_type": "pyout", 
       "prompt_number": 74, 
       "text": [
        "(2, 4)"
       ]
      }
     ], 
     "prompt_number": 74
    }, 
    {
     "cell_type": "code", 
     "collapsed": false, 
     "input": [
      "arr1.dtype"
     ], 
     "language": "python", 
     "outputs": [
      {
       "output_type": "pyout", 
       "prompt_number": 75, 
       "text": [
        "dtype('float64')"
       ]
      }
     ], 
     "prompt_number": 75
    }, 
    {
     "cell_type": "code", 
     "collapsed": false, 
     "input": [
      "arr2.dtype"
     ], 
     "language": "python", 
     "outputs": [
      {
       "output_type": "pyout", 
       "prompt_number": 76, 
       "text": [
        "dtype('int32')"
       ]
      }
     ], 
     "prompt_number": 76
    }, 
    {
     "cell_type": "code", 
     "collapsed": false, 
     "input": [
      "np.zeros(10)"
     ], 
     "language": "python", 
     "outputs": [
      {
       "output_type": "pyout", 
       "prompt_number": 77, 
       "text": [
        "array([ 0.,  0.,  0.,  0.,  0.,  0.,  0.,  0.,  0.,  0.])"
       ]
      }
     ], 
     "prompt_number": 77
    }, 
    {
     "cell_type": "code", 
     "collapsed": false, 
     "input": [
      "np.zeros((3,6))"
     ], 
     "language": "python", 
     "outputs": [
      {
       "output_type": "pyout", 
       "prompt_number": 78, 
       "text": [
        "array([[ 0.,  0.,  0.,  0.,  0.,  0.],", 
        "       [ 0.,  0.,  0.,  0.,  0.,  0.],", 
        "       [ 0.,  0.,  0.,  0.,  0.,  0.]])"
       ]
      }
     ], 
     "prompt_number": 78
    }, 
    {
     "cell_type": "code", 
     "collapsed": false, 
     "input": [
      "np.empty((2,3,2))"
     ], 
     "language": "python", 
     "outputs": [
      {
       "output_type": "pyout", 
       "prompt_number": 79, 
       "text": [
        "array([[[  6.48284705e+121,  -2.85240835e+298],", 
        "        [ -7.93375926e+162,  -1.57829633e-282],", 
        "        [  1.50484342e+199,   2.04992151e-241]],", 
        "", 
        "       [[ -1.84387039e+240,  -3.66290200e-205],", 
        "        [  3.49366879e+276,   7.26457785e-169],", 
        "        [  1.32600507e-299,  -8.50080538e-128]]])"
       ]
      }
     ], 
     "prompt_number": 79
    }, 
    {
     "cell_type": "code", 
     "collapsed": true, 
     "input": [
      "#ndarray\u7684\u6570\u636e\u7c7b\u578b", 
      "arr1 = np.array([1,2,3], dtype=np.float64)", 
      "arr2 = np.array([1,2,3], dtype=np.int32)"
     ], 
     "language": "python", 
     "outputs": [], 
     "prompt_number": 80
    }, 
    {
     "cell_type": "code", 
     "collapsed": false, 
     "input": [
      "arr1.dtype"
     ], 
     "language": "python", 
     "outputs": [
      {
       "output_type": "pyout", 
       "prompt_number": 81, 
       "text": [
        "dtype('float64')"
       ]
      }
     ], 
     "prompt_number": 81
    }, 
    {
     "cell_type": "code", 
     "collapsed": false, 
     "input": [
      "arr2.dtype"
     ], 
     "language": "python", 
     "outputs": [
      {
       "output_type": "pyout", 
       "prompt_number": 82, 
       "text": [
        "dtype('int32')"
       ]
      }
     ], 
     "prompt_number": 82
    }, 
    {
     "cell_type": "code", 
     "collapsed": true, 
     "input": [
      "arr = np.array([1,2,3,4,5])"
     ], 
     "language": "python", 
     "outputs": [], 
     "prompt_number": 83
    }, 
    {
     "cell_type": "code", 
     "collapsed": false, 
     "input": [
      "arr"
     ], 
     "language": "python", 
     "outputs": [
      {
       "output_type": "pyout", 
       "prompt_number": 84, 
       "text": [
        "array([1, 2, 3, 4, 5])"
       ]
      }
     ], 
     "prompt_number": 84
    }, 
    {
     "cell_type": "code", 
     "collapsed": false, 
     "input": [
      "arr.dtype"
     ], 
     "language": "python", 
     "outputs": [
      {
       "output_type": "pyout", 
       "prompt_number": 85, 
       "text": [
        "dtype('int32')"
       ]
      }
     ], 
     "prompt_number": 85
    }, 
    {
     "cell_type": "code", 
     "collapsed": true, 
     "input": [
      "float_arr = arr.astype(np.float64)"
     ], 
     "language": "python", 
     "outputs": [], 
     "prompt_number": 86
    }, 
    {
     "cell_type": "code", 
     "collapsed": false, 
     "input": [
      "float_arr.dtype"
     ], 
     "language": "python", 
     "outputs": [
      {
       "output_type": "pyout", 
       "prompt_number": 87, 
       "text": [
        "dtype('float64')"
       ]
      }
     ], 
     "prompt_number": 87
    }, 
    {
     "cell_type": "code", 
     "collapsed": false, 
     "input": [
      "float_arr"
     ], 
     "language": "python", 
     "outputs": [
      {
       "output_type": "pyout", 
       "prompt_number": 88, 
       "text": [
        "array([ 1.,  2.,  3.,  4.,  5.])"
       ]
      }
     ], 
     "prompt_number": 88
    }, 
    {
     "cell_type": "code", 
     "collapsed": true, 
     "input": [
      "arr = np.array([3.7,-1.2,-2.6,0.5,12.9,10.1])"
     ], 
     "language": "python", 
     "outputs": [], 
     "prompt_number": 89
    }, 
    {
     "cell_type": "code", 
     "collapsed": false, 
     "input": [
      "arr"
     ], 
     "language": "python", 
     "outputs": [
      {
       "output_type": "pyout", 
       "prompt_number": 90, 
       "text": [
        "array([  3.7,  -1.2,  -2.6,   0.5,  12.9,  10.1])"
       ]
      }
     ], 
     "prompt_number": 90
    }, 
    {
     "cell_type": "code", 
     "collapsed": false, 
     "input": [
      "arr.astype(np.int32)"
     ], 
     "language": "python", 
     "outputs": [
      {
       "output_type": "pyout", 
       "prompt_number": 91, 
       "text": [
        "array([ 3, -1, -2,  0, 12, 10])"
       ]
      }
     ], 
     "prompt_number": 91
    }, 
    {
     "cell_type": "code", 
     "collapsed": true, 
     "input": [
      "numeric_strings = np.array(['1.25','-9.6','42'], dtype=np.string_)"
     ], 
     "language": "python", 
     "outputs": [], 
     "prompt_number": 92
    }, 
    {
     "cell_type": "code", 
     "collapsed": false, 
     "input": [
      "numeric_strings"
     ], 
     "language": "python", 
     "outputs": [
      {
       "output_type": "pyout", 
       "prompt_number": 93, 
       "text": [
        "array(['1.25', '-9.6', '42'], ", 
        "      dtype='|S4')"
       ]
      }
     ], 
     "prompt_number": 93
    }, 
    {
     "cell_type": "code", 
     "collapsed": false, 
     "input": [
      "numeric_strings.astype(float)"
     ], 
     "language": "python", 
     "outputs": [
      {
       "output_type": "pyout", 
       "prompt_number": 94, 
       "text": [
        "array([  1.25,  -9.6 ,  42.  ])"
       ]
      }
     ], 
     "prompt_number": 94
    }, 
    {
     "cell_type": "code", 
     "collapsed": false, 
     "input": [
      "numeric_strings.dtype"
     ], 
     "language": "python", 
     "outputs": [
      {
       "output_type": "pyout", 
       "prompt_number": 95, 
       "text": [
        "dtype('|S4')"
       ]
      }
     ], 
     "prompt_number": 95
    }, 
    {
     "cell_type": "code", 
     "collapsed": true, 
     "input": [
      "int_array = np.arange(10)"
     ], 
     "language": "python", 
     "outputs": [], 
     "prompt_number": 96
    }, 
    {
     "cell_type": "code", 
     "collapsed": false, 
     "input": [
      "int_array"
     ], 
     "language": "python", 
     "outputs": [
      {
       "output_type": "pyout", 
       "prompt_number": 97, 
       "text": [
        "array([0, 1, 2, 3, 4, 5, 6, 7, 8, 9])"
       ]
      }
     ], 
     "prompt_number": 97
    }, 
    {
     "cell_type": "code", 
     "collapsed": true, 
     "input": [
      "calibers = np.array([.22,.270,.357,.380,.44,.50], dtype=np.float64)"
     ], 
     "language": "python", 
     "outputs": [], 
     "prompt_number": 98
    }, 
    {
     "cell_type": "code", 
     "collapsed": false, 
     "input": [
      "int_array.astype(calibers.dtype)"
     ], 
     "language": "python", 
     "outputs": [
      {
       "output_type": "pyout", 
       "prompt_number": 99, 
       "text": [
        "array([ 0.,  1.,  2.,  3.,  4.,  5.,  6.,  7.,  8.,  9.])"
       ]
      }
     ], 
     "prompt_number": 99
    }, 
    {
     "cell_type": "code", 
     "collapsed": true, 
     "input": [
      "empty_unit32 = np.empty(8, dtype='u4')"
     ], 
     "language": "python", 
     "outputs": [], 
     "prompt_number": 100
    }, 
    {
     "cell_type": "code", 
     "collapsed": false, 
     "input": [
      "empty_unit32"
     ], 
     "language": "python", 
     "outputs": [
      {
       "output_type": "pyout", 
       "prompt_number": 101, 
       "text": [
        "array([82706549, 55061080, 52411328, 30951828, 43429280, 83341488,", 
        "       30426536, 83354024], dtype=uint32)"
       ]
      }
     ], 
     "prompt_number": 101
    }, 
    {
     "cell_type": "code", 
     "collapsed": true, 
     "input": [
      "#\u6570\u7ec4\u4e0e\u6807\u91cf\u4e4b\u95f4\u7684\u8fd0\u7b97", 
      "arr = np.array([[1.,2.,3.], [4.,5.,6.]])"
     ], 
     "language": "python", 
     "outputs": [], 
     "prompt_number": 102
    }, 
    {
     "cell_type": "code", 
     "collapsed": false, 
     "input": [
      "arr"
     ], 
     "language": "python", 
     "outputs": [
      {
       "output_type": "pyout", 
       "prompt_number": 103, 
       "text": [
        "array([[ 1.,  2.,  3.],", 
        "       [ 4.,  5.,  6.]])"
       ]
      }
     ], 
     "prompt_number": 103
    }, 
    {
     "cell_type": "code", 
     "collapsed": false, 
     "input": [
      "arr * arr"
     ], 
     "language": "python", 
     "outputs": [
      {
       "output_type": "pyout", 
       "prompt_number": 104, 
       "text": [
        "array([[  1.,   4.,   9.],", 
        "       [ 16.,  25.,  36.]])"
       ]
      }
     ], 
     "prompt_number": 104
    }, 
    {
     "cell_type": "code", 
     "collapsed": false, 
     "input": [
      "arr - arr"
     ], 
     "language": "python", 
     "outputs": [
      {
       "output_type": "pyout", 
       "prompt_number": 105, 
       "text": [
        "array([[ 0.,  0.,  0.],", 
        "       [ 0.,  0.,  0.]])"
       ]
      }
     ], 
     "prompt_number": 105
    }, 
    {
     "cell_type": "code", 
     "collapsed": false, 
     "input": [
      "1/arr"
     ], 
     "language": "python", 
     "outputs": [
      {
       "output_type": "pyout", 
       "prompt_number": 106, 
       "text": [
        "array([[ 1.        ,  0.5       ,  0.33333333],", 
        "       [ 0.25      ,  0.2       ,  0.16666667]])"
       ]
      }
     ], 
     "prompt_number": 106
    }, 
    {
     "cell_type": "code", 
     "collapsed": false, 
     "input": [
      "arr ** 0.5"
     ], 
     "language": "python", 
     "outputs": [
      {
       "output_type": "pyout", 
       "prompt_number": 107, 
       "text": [
        "array([[ 1.        ,  1.41421356,  1.73205081],", 
        "       [ 2.        ,  2.23606798,  2.44948974]])"
       ]
      }
     ], 
     "prompt_number": 107
    }, 
    {
     "cell_type": "code", 
     "collapsed": true, 
     "input": [
      "arr = np.arange(10)"
     ], 
     "language": "python", 
     "outputs": [], 
     "prompt_number": 108
    }, 
    {
     "cell_type": "code", 
     "collapsed": false, 
     "input": [
      "arr"
     ], 
     "language": "python", 
     "outputs": [
      {
       "output_type": "pyout", 
       "prompt_number": 109, 
       "text": [
        "array([0, 1, 2, 3, 4, 5, 6, 7, 8, 9])"
       ]
      }
     ], 
     "prompt_number": 109
    }, 
    {
     "cell_type": "code", 
     "collapsed": false, 
     "input": [
      "arr[5]"
     ], 
     "language": "python", 
     "outputs": [
      {
       "output_type": "pyout", 
       "prompt_number": 110, 
       "text": [
        "5"
       ]
      }
     ], 
     "prompt_number": 110
    }, 
    {
     "cell_type": "code", 
     "collapsed": false, 
     "input": [
      "arr[5:8]"
     ], 
     "language": "python", 
     "outputs": [
      {
       "output_type": "pyout", 
       "prompt_number": 111, 
       "text": [
        "array([5, 6, 7])"
       ]
      }
     ], 
     "prompt_number": 111
    }, 
    {
     "cell_type": "code", 
     "collapsed": true, 
     "input": [
      "arr[5:8] = 12"
     ], 
     "language": "python", 
     "outputs": [], 
     "prompt_number": 112
    }, 
    {
     "cell_type": "code", 
     "collapsed": false, 
     "input": [
      "arr"
     ], 
     "language": "python", 
     "outputs": [
      {
       "output_type": "pyout", 
       "prompt_number": 113, 
       "text": [
        "array([ 0,  1,  2,  3,  4, 12, 12, 12,  8,  9])"
       ]
      }
     ], 
     "prompt_number": 113
    }, 
    {
     "cell_type": "code", 
     "collapsed": true, 
     "input": [
      "arr_slice = arr[5:8]"
     ], 
     "language": "python", 
     "outputs": [], 
     "prompt_number": 114
    }, 
    {
     "cell_type": "code", 
     "collapsed": false, 
     "input": [
      "arr_slice"
     ], 
     "language": "python", 
     "outputs": [
      {
       "output_type": "pyout", 
       "prompt_number": 115, 
       "text": [
        "array([12, 12, 12])"
       ]
      }
     ], 
     "prompt_number": 115
    }, 
    {
     "cell_type": "code", 
     "collapsed": true, 
     "input": [
      "arr_slice[1] = 12345"
     ], 
     "language": "python", 
     "outputs": [], 
     "prompt_number": 116
    }, 
    {
     "cell_type": "code", 
     "collapsed": false, 
     "input": [
      "arr_slice"
     ], 
     "language": "python", 
     "outputs": [
      {
       "output_type": "pyout", 
       "prompt_number": 117, 
       "text": [
        "array([   12, 12345,    12])"
       ]
      }
     ], 
     "prompt_number": 117
    }, 
    {
     "cell_type": "code", 
     "collapsed": false, 
     "input": [
      "arr"
     ], 
     "language": "python", 
     "outputs": [
      {
       "output_type": "pyout", 
       "prompt_number": 118, 
       "text": [
        "array([    0,     1,     2,     3,     4,    12, 12345,    12,     8,     9])"
       ]
      }
     ], 
     "prompt_number": 118
    }, 
    {
     "cell_type": "code", 
     "collapsed": true, 
     "input": [
      "arr2d = np.array([[1,2,3],[4,5,6],[7,8,9]])"
     ], 
     "language": "python", 
     "outputs": [], 
     "prompt_number": 119
    }, 
    {
     "cell_type": "code", 
     "collapsed": false, 
     "input": [
      "arr2d"
     ], 
     "language": "python", 
     "outputs": [
      {
       "output_type": "pyout", 
       "prompt_number": 120, 
       "text": [
        "array([[1, 2, 3],", 
        "       [4, 5, 6],", 
        "       [7, 8, 9]])"
       ]
      }
     ], 
     "prompt_number": 120
    }, 
    {
     "cell_type": "code", 
     "collapsed": false, 
     "input": [
      "arr2d[2]"
     ], 
     "language": "python", 
     "outputs": [
      {
       "output_type": "pyout", 
       "prompt_number": 121, 
       "text": [
        "array([7, 8, 9])"
       ]
      }
     ], 
     "prompt_number": 121
    }, 
    {
     "cell_type": "code", 
     "collapsed": false, 
     "input": [
      "arr2d[0][2]"
     ], 
     "language": "python", 
     "outputs": [
      {
       "output_type": "pyout", 
       "prompt_number": 122, 
       "text": [
        "3"
       ]
      }
     ], 
     "prompt_number": 122
    }, 
    {
     "cell_type": "code", 
     "collapsed": false, 
     "input": [
      "arr2d[0,2]"
     ], 
     "language": "python", 
     "outputs": [
      {
       "output_type": "pyout", 
       "prompt_number": 123, 
       "text": [
        "3"
       ]
      }
     ], 
     "prompt_number": 123
    }, 
    {
     "cell_type": "code", 
     "collapsed": true, 
     "input": [
      "arr3d = np.array([[[1, 2, 3], [4, 5, 6]], [[7, 8, 9], [10, 11, 12]]])"
     ], 
     "language": "python", 
     "outputs": [], 
     "prompt_number": 124
    }, 
    {
     "cell_type": "code", 
     "collapsed": false, 
     "input": [
      "arr3d"
     ], 
     "language": "python", 
     "outputs": [
      {
       "output_type": "pyout", 
       "prompt_number": 125, 
       "text": [
        "array([[[ 1,  2,  3],", 
        "        [ 4,  5,  6]],", 
        "", 
        "       [[ 7,  8,  9],", 
        "        [10, 11, 12]]])"
       ]
      }
     ], 
     "prompt_number": 125
    }, 
    {
     "cell_type": "code", 
     "collapsed": false, 
     "input": [
      "arr3d[0]"
     ], 
     "language": "python", 
     "outputs": [
      {
       "output_type": "pyout", 
       "prompt_number": 126, 
       "text": [
        "array([[1, 2, 3],", 
        "       [4, 5, 6]])"
       ]
      }
     ], 
     "prompt_number": 126
    }, 
    {
     "cell_type": "code", 
     "collapsed": true, 
     "input": [
      "old_values = arr3d[0].copy()"
     ], 
     "language": "python", 
     "outputs": [], 
     "prompt_number": 127
    }, 
    {
     "cell_type": "code", 
     "collapsed": true, 
     "input": [
      "arr3d[0] = 42"
     ], 
     "language": "python", 
     "outputs": [], 
     "prompt_number": 128
    }, 
    {
     "cell_type": "code", 
     "collapsed": false, 
     "input": [
      "arr3d"
     ], 
     "language": "python", 
     "outputs": [
      {
       "output_type": "pyout", 
       "prompt_number": 129, 
       "text": [
        "array([[[42, 42, 42],", 
        "        [42, 42, 42]],", 
        "", 
        "       [[ 7,  8,  9],", 
        "        [10, 11, 12]]])"
       ]
      }
     ], 
     "prompt_number": 129
    }, 
    {
     "cell_type": "code", 
     "collapsed": true, 
     "input": [
      "arr3d[0] = old_values"
     ], 
     "language": "python", 
     "outputs": [], 
     "prompt_number": 130
    }, 
    {
     "cell_type": "code", 
     "collapsed": false, 
     "input": [
      "arr3d"
     ], 
     "language": "python", 
     "outputs": [
      {
       "output_type": "pyout", 
       "prompt_number": 131, 
       "text": [
        "array([[[ 1,  2,  3],", 
        "        [ 4,  5,  6]],", 
        "", 
        "       [[ 7,  8,  9],", 
        "        [10, 11, 12]]])"
       ]
      }
     ], 
     "prompt_number": 131
    }, 
    {
     "cell_type": "code", 
     "collapsed": false, 
     "input": [
      "arr3d[1,0]"
     ], 
     "language": "python", 
     "outputs": [
      {
       "output_type": "pyout", 
       "prompt_number": 132, 
       "text": [
        "array([7, 8, 9])"
       ]
      }
     ], 
     "prompt_number": 132
    }, 
    {
     "cell_type": "code", 
     "collapsed": false, 
     "input": [
      "arr[1:6]"
     ], 
     "language": "python", 
     "outputs": [
      {
       "output_type": "pyout", 
       "prompt_number": 133, 
       "text": [
        "array([ 1,  2,  3,  4, 12])"
       ]
      }
     ], 
     "prompt_number": 133
    }, 
    {
     "cell_type": "code", 
     "collapsed": false, 
     "input": [
      "arr2d"
     ], 
     "language": "python", 
     "outputs": [
      {
       "output_type": "pyout", 
       "prompt_number": 134, 
       "text": [
        "array([[1, 2, 3],", 
        "       [4, 5, 6],", 
        "       [7, 8, 9]])"
       ]
      }
     ], 
     "prompt_number": 134
    }, 
    {
     "cell_type": "code", 
     "collapsed": false, 
     "input": [
      "arr2d"
     ], 
     "language": "python", 
     "outputs": [
      {
       "output_type": "pyout", 
       "prompt_number": 135, 
       "text": [
        "array([[1, 2, 3],", 
        "       [4, 5, 6],", 
        "       [7, 8, 9]])"
       ]
      }
     ], 
     "prompt_number": 135
    }, 
    {
     "cell_type": "code", 
     "collapsed": false, 
     "input": [
      "arr2d[:2]"
     ], 
     "language": "python", 
     "outputs": [
      {
       "output_type": "pyout", 
       "prompt_number": 136, 
       "text": [
        "array([[1, 2, 3],", 
        "       [4, 5, 6]])"
       ]
      }
     ], 
     "prompt_number": 136
    }, 
    {
     "cell_type": "code", 
     "collapsed": false, 
     "input": [
      "arr2d[:2,:1]"
     ], 
     "language": "python", 
     "outputs": [
      {
       "output_type": "pyout", 
       "prompt_number": 137, 
       "text": [
        "array([[1],", 
        "       [4]])"
       ]
      }
     ], 
     "prompt_number": 137
    }, 
    {
     "cell_type": "code", 
     "collapsed": false, 
     "input": [
      "arr2d[1,:2]"
     ], 
     "language": "python", 
     "outputs": [
      {
       "output_type": "pyout", 
       "prompt_number": 138, 
       "text": [
        "array([4, 5])"
       ]
      }
     ], 
     "prompt_number": 138
    }, 
    {
     "cell_type": "code", 
     "collapsed": false, 
     "input": [
      "arr2d[2,:1]"
     ], 
     "language": "python", 
     "outputs": [
      {
       "output_type": "pyout", 
       "prompt_number": 139, 
       "text": [
        "array([7])"
       ]
      }
     ], 
     "prompt_number": 139
    }, 
    {
     "cell_type": "code", 
     "collapsed": false, 
     "input": [
      "arr2d[:, :1]"
     ], 
     "language": "python", 
     "outputs": [
      {
       "output_type": "pyout", 
       "prompt_number": 140, 
       "text": [
        "array([[1],", 
        "       [4],", 
        "       [7]])"
       ]
      }
     ], 
     "prompt_number": 140
    }, 
    {
     "cell_type": "code", 
     "collapsed": false, 
     "input": [
      "arr2d[:2,1:]"
     ], 
     "language": "python", 
     "outputs": [
      {
       "output_type": "pyout", 
       "prompt_number": 141, 
       "text": [
        "array([[2, 3],", 
        "       [5, 6]])"
       ]
      }
     ], 
     "prompt_number": 141
    }, 
    {
     "cell_type": "code", 
     "collapsed": true, 
     "input": [
      "arr2d[:2,1:] = 0"
     ], 
     "language": "python", 
     "outputs": [], 
     "prompt_number": 142
    }, 
    {
     "cell_type": "code", 
     "collapsed": false, 
     "input": [
      "arr2d"
     ], 
     "language": "python", 
     "outputs": [
      {
       "output_type": "pyout", 
       "prompt_number": 143, 
       "text": [
        "array([[1, 0, 0],", 
        "       [4, 0, 0],", 
        "       [7, 8, 9]])"
       ]
      }
     ], 
     "prompt_number": 143
    }, 
    {
     "cell_type": "code", 
     "collapsed": false, 
     "input": [
      "#\u5e03\u5c14\u578b\u7d22\u5f15", 
      "names = np.array(['Bob', 'Joe', 'Will', 'Bob', 'Will', 'Joe', 'Joe'])", 
      "names"
     ], 
     "language": "python", 
     "outputs": [
      {
       "output_type": "pyout", 
       "prompt_number": 144, 
       "text": [
        "array(['Bob', 'Joe', 'Will', 'Bob', 'Will', 'Joe', 'Joe'], ", 
        "      dtype='|S4')"
       ]
      }
     ], 
     "prompt_number": 144
    }, 
    {
     "cell_type": "code", 
     "collapsed": true, 
     "input": [
      "data = randn(7,4)"
     ], 
     "language": "python", 
     "outputs": [], 
     "prompt_number": 147
    }, 
    {
     "cell_type": "code", 
     "collapsed": false, 
     "input": [
      "data"
     ], 
     "language": "python", 
     "outputs": [
      {
       "output_type": "pyout", 
       "prompt_number": 148, 
       "text": [
        "array([[-0.7684957 ,  0.40798851, -0.64776772,  0.38388115],", 
        "       [-1.79534975,  0.25448352,  0.05073744, -1.61821269],", 
        "       [ 1.50069966, -0.2603032 , -1.45506758,  1.61046178],", 
        "       [ 0.06157045, -0.09861846, -0.38188244, -1.08359975],", 
        "       [-0.25415218,  0.32033688, -0.64092832,  0.39935687],", 
        "       [ 1.50690409,  0.11391074,  0.86015865, -0.11970238],", 
        "       [-1.10989784,  0.44593617, -0.43360155,  0.43476574]])"
       ]
      }
     ], 
     "prompt_number": 148
    }, 
    {
     "cell_type": "code", 
     "collapsed": false, 
     "input": [
      "names == 'Bob'"
     ], 
     "language": "python", 
     "outputs": [
      {
       "output_type": "pyout", 
       "prompt_number": 149, 
       "text": [
        "array([ True, False, False,  True, False, False, False], dtype=bool)"
       ]
      }
     ], 
     "prompt_number": 149
    }, 
    {
     "cell_type": "code", 
     "collapsed": false, 
     "input": [
      "data[names == 'Bob']"
     ], 
     "language": "python", 
     "outputs": [
      {
       "output_type": "pyout", 
       "prompt_number": 150, 
       "text": [
        "array([[-0.7684957 ,  0.40798851, -0.64776772,  0.38388115],", 
        "       [ 0.06157045, -0.09861846, -0.38188244, -1.08359975]])"
       ]
      }
     ], 
     "prompt_number": 150
    }, 
    {
     "cell_type": "code", 
     "collapsed": false, 
     "input": [
      "data[names == 'Bob', 2:]"
     ], 
     "language": "python", 
     "outputs": [
      {
       "output_type": "pyout", 
       "prompt_number": 152, 
       "text": [
        "array([[-0.64776772,  0.38388115],", 
        "       [-0.38188244, -1.08359975]])"
       ]
      }
     ], 
     "prompt_number": 152
    }, 
    {
     "cell_type": "code", 
     "collapsed": true, 
     "input": [], 
     "language": "python", 
     "outputs": []
    }
   ]
  }
 ]
}