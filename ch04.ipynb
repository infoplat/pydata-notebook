{
 "metadata": {
  "name": "ch04"
 }, 
 "nbformat": 2, 
 "worksheets": [
  {
   "cells": [
    {
     "cell_type": "code", 
     "collapsed": true, 
     "input": [
      "#\u521b\u5efandarray", 
      "data1 = [6,7.5,8,0,1]", 
      "arr1 = np.array(data1)"
     ], 
     "language": "python", 
     "outputs": [], 
     "prompt_number": 46
    }, 
    {
     "cell_type": "code", 
     "collapsed": false, 
     "input": [
      "arr1"
     ], 
     "language": "python", 
     "outputs": [
      {
       "output_type": "pyout", 
       "prompt_number": 47, 
       "text": [
        "array([ 6. ,  7.5,  8. ,  0. ,  1. ])"
       ]
      }
     ], 
     "prompt_number": 47
    }, 
    {
     "cell_type": "code", 
     "collapsed": true, 
     "input": [
      "data2 = [[1,2,3,4], [5,6,7,8]]"
     ], 
     "language": "python", 
     "outputs": [], 
     "prompt_number": 48
    }, 
    {
     "cell_type": "code", 
     "collapsed": true, 
     "input": [
      "arr2 = np.array(data2)"
     ], 
     "language": "python", 
     "outputs": [], 
     "prompt_number": 49
    }, 
    {
     "cell_type": "code", 
     "collapsed": false, 
     "input": [
      "arr2"
     ], 
     "language": "python", 
     "outputs": [
      {
       "output_type": "pyout", 
       "prompt_number": 50, 
       "text": [
        "array([[1, 2, 3, 4],", 
        "       [5, 6, 7, 8]])"
       ]
      }
     ], 
     "prompt_number": 50
    }, 
    {
     "cell_type": "code", 
     "collapsed": false, 
     "input": [
      "arr2.ndim"
     ], 
     "language": "python", 
     "outputs": [
      {
       "output_type": "pyout", 
       "prompt_number": 51, 
       "text": [
        "2"
       ]
      }
     ], 
     "prompt_number": 51
    }, 
    {
     "cell_type": "code", 
     "collapsed": false, 
     "input": [
      "arr2.shape"
     ], 
     "language": "python", 
     "outputs": [
      {
       "output_type": "pyout", 
       "prompt_number": 52, 
       "text": [
        "(2, 4)"
       ]
      }
     ], 
     "prompt_number": 52
    }, 
    {
     "cell_type": "code", 
     "collapsed": false, 
     "input": [
      "arr1.dtype"
     ], 
     "language": "python", 
     "outputs": [
      {
       "output_type": "pyout", 
       "prompt_number": 53, 
       "text": [
        "dtype('float64')"
       ]
      }
     ], 
     "prompt_number": 53
    }, 
    {
     "cell_type": "code", 
     "collapsed": false, 
     "input": [
      "arr2.dtype"
     ], 
     "language": "python", 
     "outputs": [
      {
       "output_type": "pyout", 
       "prompt_number": 54, 
       "text": [
        "dtype('int32')"
       ]
      }
     ], 
     "prompt_number": 54
    }, 
    {
     "cell_type": "code", 
     "collapsed": false, 
     "input": [
      "np.zeros(10)"
     ], 
     "language": "python", 
     "outputs": [
      {
       "output_type": "pyout", 
       "prompt_number": 55, 
       "text": [
        "array([ 0.,  0.,  0.,  0.,  0.,  0.,  0.,  0.,  0.,  0.])"
       ]
      }
     ], 
     "prompt_number": 55
    }, 
    {
     "cell_type": "code", 
     "collapsed": false, 
     "input": [
      "np.zeros((3,6))"
     ], 
     "language": "python", 
     "outputs": [
      {
       "output_type": "pyout", 
       "prompt_number": 56, 
       "text": [
        "array([[ 0.,  0.,  0.,  0.,  0.,  0.],", 
        "       [ 0.,  0.,  0.,  0.,  0.,  0.],", 
        "       [ 0.,  0.,  0.,  0.,  0.,  0.]])"
       ]
      }
     ], 
     "prompt_number": 56
    }, 
    {
     "cell_type": "code", 
     "collapsed": false, 
     "input": [
      "np.empty((2,3,2))"
     ], 
     "language": "python", 
     "outputs": [
      {
       "output_type": "pyout", 
       "prompt_number": 57, 
       "text": [
        "array([[[  1.25088817e-033,  -5.28795296e+143],", 
        "        [ -1.46879012e+008,   9.46978664e+179],", 
        "        [  2.79235168e+044,  -1.22815010e+221]],", 
        "", 
        "       [[ -3.41367482e+085,   2.19776335e+257],", 
        "        [  6.48284705e+121,  -2.85240835e+298],", 
        "        [ -7.93375926e+162,  -1.57829633e-282]]])"
       ]
      }
     ], 
     "prompt_number": 57
    }, 
    {
     "cell_type": "code", 
     "collapsed": true, 
     "input": [
      "#ndarray\u7684\u6570\u636e\u7c7b\u578b", 
      "arr1 = np.array([1,2,3], dtype=np.float64)", 
      "arr2 = np.array([1,2,3], dtype=np.int32)"
     ], 
     "language": "python", 
     "outputs": [], 
     "prompt_number": 20
    }, 
    {
     "cell_type": "code", 
     "collapsed": false, 
     "input": [
      "arr1.dtype"
     ], 
     "language": "python", 
     "outputs": [
      {
       "output_type": "pyout", 
       "prompt_number": 22, 
       "text": [
        "dtype('float64')"
       ]
      }
     ], 
     "prompt_number": 22
    }, 
    {
     "cell_type": "code", 
     "collapsed": false, 
     "input": [
      "arr2.dtype"
     ], 
     "language": "python", 
     "outputs": [
      {
       "output_type": "pyout", 
       "prompt_number": 23, 
       "text": [
        "dtype('int32')"
       ]
      }
     ], 
     "prompt_number": 23
    }, 
    {
     "cell_type": "code", 
     "collapsed": true, 
     "input": [
      "arr = np.array([1,2,3,4,5])"
     ], 
     "language": "python", 
     "outputs": [], 
     "prompt_number": 26
    }, 
    {
     "cell_type": "code", 
     "collapsed": false, 
     "input": [
      "arr"
     ], 
     "language": "python", 
     "outputs": [
      {
       "output_type": "pyout", 
       "prompt_number": 27, 
       "text": [
        "array([1, 2, 3, 4, 5])"
       ]
      }
     ], 
     "prompt_number": 27
    }, 
    {
     "cell_type": "code", 
     "collapsed": false, 
     "input": [
      "arr.dtype"
     ], 
     "language": "python", 
     "outputs": [
      {
       "output_type": "pyout", 
       "prompt_number": 28, 
       "text": [
        "dtype('int32')"
       ]
      }
     ], 
     "prompt_number": 28
    }, 
    {
     "cell_type": "code", 
     "collapsed": true, 
     "input": [
      "float_arr = arr.astype(np.float64)"
     ], 
     "language": "python", 
     "outputs": [], 
     "prompt_number": 29
    }, 
    {
     "cell_type": "code", 
     "collapsed": false, 
     "input": [
      "float_arr.dtype"
     ], 
     "language": "python", 
     "outputs": [
      {
       "output_type": "pyout", 
       "prompt_number": 30, 
       "text": [
        "dtype('float64')"
       ]
      }
     ], 
     "prompt_number": 30
    }, 
    {
     "cell_type": "code", 
     "collapsed": false, 
     "input": [
      "float_arr"
     ], 
     "language": "python", 
     "outputs": [
      {
       "output_type": "pyout", 
       "prompt_number": 31, 
       "text": [
        "array([ 1.,  2.,  3.,  4.,  5.])"
       ]
      }
     ], 
     "prompt_number": 31
    }, 
    {
     "cell_type": "code", 
     "collapsed": true, 
     "input": [
      "arr = np.array([3.7,-1.2,-2.6,0.5,12.9,10.1])"
     ], 
     "language": "python", 
     "outputs": [], 
     "prompt_number": 32
    }, 
    {
     "cell_type": "code", 
     "collapsed": false, 
     "input": [
      "arr"
     ], 
     "language": "python", 
     "outputs": [
      {
       "output_type": "pyout", 
       "prompt_number": 33, 
       "text": [
        "array([  3.7,  -1.2,  -2.6,   0.5,  12.9,  10.1])"
       ]
      }
     ], 
     "prompt_number": 33
    }, 
    {
     "cell_type": "code", 
     "collapsed": false, 
     "input": [
      "arr.astype(np.int32)"
     ], 
     "language": "python", 
     "outputs": [
      {
       "output_type": "pyout", 
       "prompt_number": 34, 
       "text": [
        "array([ 3, -1, -2,  0, 12, 10])"
       ]
      }
     ], 
     "prompt_number": 34
    }, 
    {
     "cell_type": "code", 
     "collapsed": true, 
     "input": [
      "numeric_strings = np.array(['1.25','-9.6','42'], dtype=np.string_)"
     ], 
     "language": "python", 
     "outputs": [], 
     "prompt_number": 35
    }, 
    {
     "cell_type": "code", 
     "collapsed": false, 
     "input": [
      "numeric_strings"
     ], 
     "language": "python", 
     "outputs": [
      {
       "output_type": "pyout", 
       "prompt_number": 36, 
       "text": [
        "array(['1.25', '-9.6', '42'], ", 
        "      dtype='|S4')"
       ]
      }
     ], 
     "prompt_number": 36
    }, 
    {
     "cell_type": "code", 
     "collapsed": false, 
     "input": [
      "numeric_strings.astype(float)"
     ], 
     "language": "python", 
     "outputs": [
      {
       "output_type": "pyout", 
       "prompt_number": 37, 
       "text": [
        "array([  1.25,  -9.6 ,  42.  ])"
       ]
      }
     ], 
     "prompt_number": 37
    }, 
    {
     "cell_type": "code", 
     "collapsed": false, 
     "input": [
      "numeric_strings.dtype"
     ], 
     "language": "python", 
     "outputs": [
      {
       "output_type": "pyout", 
       "prompt_number": 38, 
       "text": [
        "dtype('|S4')"
       ]
      }
     ], 
     "prompt_number": 38
    }, 
    {
     "cell_type": "code", 
     "collapsed": true, 
     "input": [
      "int_array = np.arange(10)"
     ], 
     "language": "python", 
     "outputs": [], 
     "prompt_number": 39
    }, 
    {
     "cell_type": "code", 
     "collapsed": false, 
     "input": [
      "int_array"
     ], 
     "language": "python", 
     "outputs": [
      {
       "output_type": "pyout", 
       "prompt_number": 40, 
       "text": [
        "array([0, 1, 2, 3, 4, 5, 6, 7, 8, 9])"
       ]
      }
     ], 
     "prompt_number": 40
    }, 
    {
     "cell_type": "code", 
     "collapsed": true, 
     "input": [
      "calibers = np.array([.22,.270,.357,.380,.44,.50], dtype=np.float64)"
     ], 
     "language": "python", 
     "outputs": [], 
     "prompt_number": 41
    }, 
    {
     "cell_type": "code", 
     "collapsed": false, 
     "input": [
      "int_array.astype(calibers.dtype)"
     ], 
     "language": "python", 
     "outputs": [
      {
       "output_type": "pyout", 
       "prompt_number": 42, 
       "text": [
        "array([ 0.,  1.,  2.,  3.,  4.,  5.,  6.,  7.,  8.,  9.])"
       ]
      }
     ], 
     "prompt_number": 42
    }, 
    {
     "cell_type": "code", 
     "collapsed": true, 
     "input": [
      "empty_unit32 = np.empty(8, dtype='u4')"
     ], 
     "language": "python", 
     "outputs": [], 
     "prompt_number": 43
    }, 
    {
     "cell_type": "code", 
     "collapsed": false, 
     "input": [
      "empty_unit32"
     ], 
     "language": "python", 
     "outputs": [
      {
       "output_type": "pyout", 
       "prompt_number": 45, 
       "text": [
        "array([ 34831580,  45649760,  78830768, 505549244,  34537516,  34555664,", 
        "        35182832,  79365632], dtype=uint32)"
       ]
      }
     ], 
     "prompt_number": 45
    }, 
    {
     "cell_type": "code", 
     "collapsed": true, 
     "input": [
      "#\u6570\u7ec4\u4e0e\u6807\u91cf\u4e4b\u95f4\u7684\u8fd0\u7b97", 
      "arr = np.array([[1.,2.,3.], [4.,5.,6.]])"
     ], 
     "language": "python", 
     "outputs": [], 
     "prompt_number": 61
    }, 
    {
     "cell_type": "code", 
     "collapsed": false, 
     "input": [
      "arr"
     ], 
     "language": "python", 
     "outputs": [
      {
       "output_type": "pyout", 
       "prompt_number": 62, 
       "text": [
        "array([[ 1.,  2.,  3.],", 
        "       [ 4.,  5.,  6.]])"
       ]
      }
     ], 
     "prompt_number": 62
    }, 
    {
     "cell_type": "code", 
     "collapsed": false, 
     "input": [
      "arr * arr"
     ], 
     "language": "python", 
     "outputs": [
      {
       "output_type": "pyout", 
       "prompt_number": 63, 
       "text": [
        "array([[  1.,   4.,   9.],", 
        "       [ 16.,  25.,  36.]])"
       ]
      }
     ], 
     "prompt_number": 63
    }, 
    {
     "cell_type": "code", 
     "collapsed": false, 
     "input": [
      "arr - arr"
     ], 
     "language": "python", 
     "outputs": [
      {
       "output_type": "pyout", 
       "prompt_number": 64, 
       "text": [
        "array([[ 0.,  0.,  0.],", 
        "       [ 0.,  0.,  0.]])"
       ]
      }
     ], 
     "prompt_number": 64
    }, 
    {
     "cell_type": "code", 
     "collapsed": false, 
     "input": [
      "1/arr"
     ], 
     "language": "python", 
     "outputs": [
      {
       "output_type": "pyout", 
       "prompt_number": 65, 
       "text": [
        "array([[ 1.        ,  0.5       ,  0.33333333],", 
        "       [ 0.25      ,  0.2       ,  0.16666667]])"
       ]
      }
     ], 
     "prompt_number": 65
    }, 
    {
     "cell_type": "code", 
     "collapsed": false, 
     "input": [
      "arr ** 0.5"
     ], 
     "language": "python", 
     "outputs": [
      {
       "output_type": "pyout", 
       "prompt_number": 66, 
       "text": [
        "array([[ 1.        ,  1.41421356,  1.73205081],", 
        "       [ 2.        ,  2.23606798,  2.44948974]])"
       ]
      }
     ], 
     "prompt_number": 66
    }, 
    {
     "cell_type": "code", 
     "collapsed": true, 
     "input": [
      "arr = np.arange(10)"
     ], 
     "language": "python", 
     "outputs": [], 
     "prompt_number": 67
    }, 
    {
     "cell_type": "code", 
     "collapsed": false, 
     "input": [
      "arr"
     ], 
     "language": "python", 
     "outputs": [
      {
       "output_type": "pyout", 
       "prompt_number": 68, 
       "text": [
        "array([0, 1, 2, 3, 4, 5, 6, 7, 8, 9])"
       ]
      }
     ], 
     "prompt_number": 68
    }, 
    {
     "cell_type": "code", 
     "collapsed": false, 
     "input": [
      "arr[5]"
     ], 
     "language": "python", 
     "outputs": [
      {
       "output_type": "pyout", 
       "prompt_number": 69, 
       "text": [
        "5"
       ]
      }
     ], 
     "prompt_number": 69
    }, 
    {
     "cell_type": "code", 
     "collapsed": false, 
     "input": [
      "arr[5:8]"
     ], 
     "language": "python", 
     "outputs": [
      {
       "output_type": "pyout", 
       "prompt_number": 70, 
       "text": [
        "array([5, 6, 7])"
       ]
      }
     ], 
     "prompt_number": 70
    }, 
    {
     "cell_type": "code", 
     "collapsed": true, 
     "input": [
      "arr[5:8] = 12"
     ], 
     "language": "python", 
     "outputs": [], 
     "prompt_number": 71
    }, 
    {
     "cell_type": "code", 
     "collapsed": false, 
     "input": [
      "arr"
     ], 
     "language": "python", 
     "outputs": [
      {
       "output_type": "pyout", 
       "prompt_number": 72, 
       "text": [
        "array([ 0,  1,  2,  3,  4, 12, 12, 12,  8,  9])"
       ]
      }
     ], 
     "prompt_number": 72
    }, 
    {
     "cell_type": "code", 
     "collapsed": true, 
     "input": [
      "arr_slice = arr[5:8]"
     ], 
     "language": "python", 
     "outputs": [], 
     "prompt_number": 73
    }, 
    {
     "cell_type": "code", 
     "collapsed": false, 
     "input": [
      "arr_slice"
     ], 
     "language": "python", 
     "outputs": [
      {
       "output_type": "pyout", 
       "prompt_number": 74, 
       "text": [
        "array([12, 12, 12])"
       ]
      }
     ], 
     "prompt_number": 74
    }, 
    {
     "cell_type": "code", 
     "collapsed": true, 
     "input": [
      "arr_slice[1] = 12345"
     ], 
     "language": "python", 
     "outputs": [], 
     "prompt_number": 75
    }, 
    {
     "cell_type": "code", 
     "collapsed": false, 
     "input": [
      "arr_slice"
     ], 
     "language": "python", 
     "outputs": [
      {
       "output_type": "pyout", 
       "prompt_number": 76, 
       "text": [
        "array([   12, 12345,    12])"
       ]
      }
     ], 
     "prompt_number": 76
    }, 
    {
     "cell_type": "code", 
     "collapsed": false, 
     "input": [
      "arr"
     ], 
     "language": "python", 
     "outputs": [
      {
       "output_type": "pyout", 
       "prompt_number": 77, 
       "text": [
        "array([    0,     1,     2,     3,     4,    12, 12345,    12,     8,     9])"
       ]
      }
     ], 
     "prompt_number": 77
    }, 
    {
     "cell_type": "code", 
     "collapsed": true, 
     "input": [
      "arr2d = np.array([[1,2,3],[4,5,6],[7,8,9]])"
     ], 
     "language": "python", 
     "outputs": [], 
     "prompt_number": 78
    }, 
    {
     "cell_type": "code", 
     "collapsed": false, 
     "input": [
      "arr2d"
     ], 
     "language": "python", 
     "outputs": [
      {
       "output_type": "pyout", 
       "prompt_number": 79, 
       "text": [
        "array([[1, 2, 3],", 
        "       [4, 5, 6],", 
        "       [7, 8, 9]])"
       ]
      }
     ], 
     "prompt_number": 79
    }, 
    {
     "cell_type": "code", 
     "collapsed": false, 
     "input": [
      "arr2d[2]"
     ], 
     "language": "python", 
     "outputs": [
      {
       "output_type": "pyout", 
       "prompt_number": 80, 
       "text": [
        "array([7, 8, 9])"
       ]
      }
     ], 
     "prompt_number": 80
    }, 
    {
     "cell_type": "code", 
     "collapsed": false, 
     "input": [
      "arr2d[0][2]"
     ], 
     "language": "python", 
     "outputs": [
      {
       "output_type": "pyout", 
       "prompt_number": 81, 
       "text": [
        "3"
       ]
      }
     ], 
     "prompt_number": 81
    }, 
    {
     "cell_type": "code", 
     "collapsed": false, 
     "input": [
      "arr2d[0,2]"
     ], 
     "language": "python", 
     "outputs": [
      {
       "output_type": "pyout", 
       "prompt_number": 82, 
       "text": [
        "3"
       ]
      }
     ], 
     "prompt_number": 82
    }, 
    {
     "cell_type": "code", 
     "collapsed": true, 
     "input": [
      "arr3d = np.array([[[1, 2, 3], [4, 5, 6]], [[7, 8, 9], [10, 11, 12]]])"
     ], 
     "language": "python", 
     "outputs": [], 
     "prompt_number": 85
    }, 
    {
     "cell_type": "code", 
     "collapsed": false, 
     "input": [
      "arr3d"
     ], 
     "language": "python", 
     "outputs": [
      {
       "output_type": "pyout", 
       "prompt_number": 86, 
       "text": [
        "array([[[ 1,  2,  3],", 
        "        [ 4,  5,  6]],", 
        "", 
        "       [[ 7,  8,  9],", 
        "        [10, 11, 12]]])"
       ]
      }
     ], 
     "prompt_number": 86
    }, 
    {
     "cell_type": "code", 
     "collapsed": false, 
     "input": [
      "arr3d[0]"
     ], 
     "language": "python", 
     "outputs": [
      {
       "output_type": "pyout", 
       "prompt_number": 90, 
       "text": [
        "array([[1, 2, 3],", 
        "       [4, 5, 6]])"
       ]
      }
     ], 
     "prompt_number": 90
    }, 
    {
     "cell_type": "code", 
     "collapsed": true, 
     "input": [
      "old_values = arr3d[0].copy()"
     ], 
     "language": "python", 
     "outputs": [], 
     "prompt_number": 91
    }, 
    {
     "cell_type": "code", 
     "collapsed": true, 
     "input": [
      "arr3d[0] = 42"
     ], 
     "language": "python", 
     "outputs": [], 
     "prompt_number": 92
    }, 
    {
     "cell_type": "code", 
     "collapsed": false, 
     "input": [
      "arr3d"
     ], 
     "language": "python", 
     "outputs": [
      {
       "output_type": "pyout", 
       "prompt_number": 93, 
       "text": [
        "array([[[42, 42, 42],", 
        "        [42, 42, 42]],", 
        "", 
        "       [[ 7,  8,  9],", 
        "        [10, 11, 12]]])"
       ]
      }
     ], 
     "prompt_number": 93
    }, 
    {
     "cell_type": "code", 
     "collapsed": true, 
     "input": [
      "arr3d[0] = old_values"
     ], 
     "language": "python", 
     "outputs": [], 
     "prompt_number": 94
    }, 
    {
     "cell_type": "code", 
     "collapsed": false, 
     "input": [
      "arr3d"
     ], 
     "language": "python", 
     "outputs": [
      {
       "output_type": "pyout", 
       "prompt_number": 95, 
       "text": [
        "array([[[ 1,  2,  3],", 
        "        [ 4,  5,  6]],", 
        "", 
        "       [[ 7,  8,  9],", 
        "        [10, 11, 12]]])"
       ]
      }
     ], 
     "prompt_number": 95
    }, 
    {
     "cell_type": "code", 
     "collapsed": false, 
     "input": [
      "arr3d[1,0]"
     ], 
     "language": "python", 
     "outputs": [
      {
       "output_type": "pyout", 
       "prompt_number": 98, 
       "text": [
        "array([7, 8, 9])"
       ]
      }
     ], 
     "prompt_number": 98
    }, 
    {
     "cell_type": "code", 
     "collapsed": false, 
     "input": [
      "arr[1:6]"
     ], 
     "language": "python", 
     "outputs": [
      {
       "output_type": "pyout", 
       "prompt_number": 99, 
       "text": [
        "array([ 1,  2,  3,  4, 12])"
       ]
      }
     ], 
     "prompt_number": 99
    }, 
    {
     "cell_type": "code", 
     "collapsed": false, 
     "input": [
      "arr23"
     ], 
     "language": "python", 
     "outputs": [
      {
       "ename": "NameError", 
       "evalue": "name 'arr23' is not defined", 
       "output_type": "pyerr", 
       "traceback": [
        "\u001b[1;31m---------------------------------------------------------------------------\u001b[0m\n\u001b[1;31mNameError\u001b[0m                                 Traceback (most recent call last)", 
        "\u001b[1;32mE:\\git\\pydata-notebook\\<ipython-input-100-e1115884c04d>\u001b[0m in \u001b[0;36m<module>\u001b[1;34m()\u001b[0m\n\u001b[1;32m----> 1\u001b[1;33m \u001b[0marr23\u001b[0m\u001b[1;33m\u001b[0m\u001b[0m\n\u001b[0m", 
        "\u001b[1;31mNameError\u001b[0m: name 'arr23' is not defined"
       ]
      }
     ], 
     "prompt_number": 100
    }, 
    {
     "cell_type": "code", 
     "collapsed": false, 
     "input": [
      "arr2d"
     ], 
     "language": "python", 
     "outputs": [
      {
       "output_type": "pyout", 
       "prompt_number": 101, 
       "text": [
        "array([[1, 2, 3],", 
        "       [4, 5, 6],", 
        "       [7, 8, 9]])"
       ]
      }
     ], 
     "prompt_number": 101
    }, 
    {
     "cell_type": "code", 
     "collapsed": false, 
     "input": [
      "arr2d[:2]"
     ], 
     "language": "python", 
     "outputs": [
      {
       "output_type": "pyout", 
       "prompt_number": 102, 
       "text": [
        "array([[1, 2, 3],", 
        "       [4, 5, 6]])"
       ]
      }
     ], 
     "prompt_number": 102
    }, 
    {
     "cell_type": "code", 
     "collapsed": false, 
     "input": [
      "arr2d[:2,:1]"
     ], 
     "language": "python", 
     "outputs": [
      {
       "output_type": "pyout", 
       "prompt_number": 103, 
       "text": [
        "array([[1],", 
        "       [4]])"
       ]
      }
     ], 
     "prompt_number": 103
    }, 
    {
     "cell_type": "code", 
     "collapsed": false, 
     "input": [
      "arr2d[1,:2]"
     ], 
     "language": "python", 
     "outputs": [
      {
       "output_type": "pyout", 
       "prompt_number": 104, 
       "text": [
        "array([4, 5])"
       ]
      }
     ], 
     "prompt_number": 104
    }, 
    {
     "cell_type": "code", 
     "collapsed": false, 
     "input": [
      "arr2d[2,:1]"
     ], 
     "language": "python", 
     "outputs": [
      {
       "output_type": "pyout", 
       "prompt_number": 105, 
       "text": [
        "array([7])"
       ]
      }
     ], 
     "prompt_number": 105
    }, 
    {
     "cell_type": "code", 
     "collapsed": false, 
     "input": [
      "arr2d[:, :1]"
     ], 
     "language": "python", 
     "outputs": [
      {
       "output_type": "pyout", 
       "prompt_number": 106, 
       "text": [
        "array([[1],", 
        "       [4],", 
        "       [7]])"
       ]
      }
     ], 
     "prompt_number": 106
    }, 
    {
     "cell_type": "code", 
     "collapsed": false, 
     "input": [
      "arr2d[:2,1:]"
     ], 
     "language": "python", 
     "outputs": [
      {
       "output_type": "pyout", 
       "prompt_number": 107, 
       "text": [
        "array([[2, 3],", 
        "       [5, 6]])"
       ]
      }
     ], 
     "prompt_number": 107
    }, 
    {
     "cell_type": "code", 
     "collapsed": true, 
     "input": [
      "arr2d[:2,1:] = 0"
     ], 
     "language": "python", 
     "outputs": [], 
     "prompt_number": 108
    }, 
    {
     "cell_type": "code", 
     "collapsed": false, 
     "input": [
      "arr2d"
     ], 
     "language": "python", 
     "outputs": [
      {
       "output_type": "pyout", 
       "prompt_number": 109, 
       "text": [
        "array([[1, 0, 0],", 
        "       [4, 0, 0],", 
        "       [7, 8, 9]])"
       ]
      }
     ], 
     "prompt_number": 109
    }, 
    {
     "cell_type": "code", 
     "collapsed": false, 
     "input": [
      "#\u5e03\u5c14\u578b\u7d22\u5f15", 
      "names = np.array(['Bob', 'Joe', 'Will', 'Bob', 'Will', 'Joe', 'Joe'])", 
      "names"
     ], 
     "language": "python", 
     "outputs": [
      {
       "output_type": "pyout", 
       "prompt_number": 113, 
       "text": [
        "array(['Bob', 'Joe', 'Will', 'Bob', 'Will', 'Joe', 'Joe'], ", 
        "      dtype='|S4')"
       ]
      }
     ], 
     "prompt_number": 113
    }, 
    {
     "cell_type": "code", 
     "collapsed": true, 
     "input": [
      "data = randn(7,4)"
     ], 
     "language": "python", 
     "outputs": [], 
     "prompt_number": 111
    }, 
    {
     "cell_type": "code", 
     "collapsed": false, 
     "input": [
      "data"
     ], 
     "language": "python", 
     "outputs": [
      {
       "output_type": "pyout", 
       "prompt_number": 112, 
       "text": [
        "array([[ -2.93295172e-01,   4.34431204e-01,   2.54828192e+00,", 
        "         -1.11371758e+00],", 
        "       [  7.40245136e-01,  -5.42645954e-01,  -3.25667274e-01,", 
        "         -8.41368574e-01],", 
        "       [ -3.72463588e-01,   1.24793930e+00,   1.31361125e+00,", 
        "          7.20359722e-02],", 
        "       [  5.44757626e-01,  -4.29142488e-01,   2.83136303e-01,", 
        "          1.60036510e-03],", 
        "       [ -1.86676298e+00,   2.66234702e-01,  -6.48022390e-01,", 
        "          1.24953043e+00],", 
        "       [  1.01926925e+00,  -2.58368097e-01,   1.51150530e+00,", 
        "          4.38006888e-02],", 
        "       [ -6.29870554e-01,   1.01447667e+00,   2.87383056e-01,", 
        "         -1.25280522e+00]])"
       ]
      }
     ], 
     "prompt_number": 112
    }, 
    {
     "cell_type": "code", 
     "collapsed": true, 
     "input": [], 
     "language": "python", 
     "outputs": []
    }
   ]
  }
 ]
}