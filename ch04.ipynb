{
 "metadata": {
  "name": "ch04"
 }, 
 "nbformat": 2, 
 "worksheets": [
  {
   "cells": [
    {
     "cell_type": "code", 
     "collapsed": true, 
     "input": [
      "#\u521b\u5efandarray", 
      "data1 = [6,7.5,8,0,1]", 
      "arr1 = np.array(data1)"
     ], 
     "language": "python", 
     "outputs": [], 
     "prompt_number": 1
    }, 
    {
     "cell_type": "code", 
     "collapsed": false, 
     "input": [
      "arr1"
     ], 
     "language": "python", 
     "outputs": [
      {
       "output_type": "pyout", 
       "prompt_number": 2, 
       "text": [
        "array([ 6. ,  7.5,  8. ,  0. ,  1. ])"
       ]
      }
     ], 
     "prompt_number": 2
    }, 
    {
     "cell_type": "code", 
     "collapsed": true, 
     "input": [
      "data2 = [[1,2,3,4], [5,6,7,8]]"
     ], 
     "language": "python", 
     "outputs": [], 
     "prompt_number": 3
    }, 
    {
     "cell_type": "code", 
     "collapsed": true, 
     "input": [
      "arr2 = np.array(data2)"
     ], 
     "language": "python", 
     "outputs": [], 
     "prompt_number": 4
    }, 
    {
     "cell_type": "code", 
     "collapsed": false, 
     "input": [
      "arr2"
     ], 
     "language": "python", 
     "outputs": [
      {
       "output_type": "pyout", 
       "prompt_number": 5, 
       "text": [
        "array([[1, 2, 3, 4],", 
        "       [5, 6, 7, 8]])"
       ]
      }
     ], 
     "prompt_number": 5
    }, 
    {
     "cell_type": "code", 
     "collapsed": false, 
     "input": [
      "arr2.ndim"
     ], 
     "language": "python", 
     "outputs": [
      {
       "output_type": "pyout", 
       "prompt_number": 6, 
       "text": [
        "2"
       ]
      }
     ], 
     "prompt_number": 6
    }, 
    {
     "cell_type": "code", 
     "collapsed": false, 
     "input": [
      "arr2.shape"
     ], 
     "language": "python", 
     "outputs": [
      {
       "output_type": "pyout", 
       "prompt_number": 7, 
       "text": [
        "(2, 4)"
       ]
      }
     ], 
     "prompt_number": 7
    }, 
    {
     "cell_type": "code", 
     "collapsed": false, 
     "input": [
      "arr1.dtype"
     ], 
     "language": "python", 
     "outputs": [
      {
       "output_type": "pyout", 
       "prompt_number": 8, 
       "text": [
        "dtype('float64')"
       ]
      }
     ], 
     "prompt_number": 8
    }, 
    {
     "cell_type": "code", 
     "collapsed": false, 
     "input": [
      "arr2.dtype"
     ], 
     "language": "python", 
     "outputs": [
      {
       "output_type": "pyout", 
       "prompt_number": 9, 
       "text": [
        "dtype('int32')"
       ]
      }
     ], 
     "prompt_number": 9
    }, 
    {
     "cell_type": "code", 
     "collapsed": false, 
     "input": [
      "np.zeros(10)"
     ], 
     "language": "python", 
     "outputs": [
      {
       "output_type": "pyout", 
       "prompt_number": 10, 
       "text": [
        "array([ 0.,  0.,  0.,  0.,  0.,  0.,  0.,  0.,  0.,  0.])"
       ]
      }
     ], 
     "prompt_number": 10
    }, 
    {
     "cell_type": "code", 
     "collapsed": false, 
     "input": [
      "np.zeros((3,6))"
     ], 
     "language": "python", 
     "outputs": [
      {
       "output_type": "pyout", 
       "prompt_number": 11, 
       "text": [
        "array([[ 0.,  0.,  0.,  0.,  0.,  0.],", 
        "       [ 0.,  0.,  0.,  0.,  0.,  0.],", 
        "       [ 0.,  0.,  0.,  0.,  0.,  0.]])"
       ]
      }
     ], 
     "prompt_number": 11
    }, 
    {
     "cell_type": "code", 
     "collapsed": false, 
     "input": [
      "np.empty((2,3,2))"
     ], 
     "language": "python", 
     "outputs": [
      {
       "output_type": "pyout", 
       "prompt_number": 12, 
       "text": [
        "array([[[  4.47576304e-222,  -4.17312503e+259],", 
        "        [ -8.00506460e-186,   7.47055508e+295],", 
        "        [  1.58543140e-149,   2.99910961e-280]],", 
        "", 
        "       [[ -1.86052546e-108,  -5.36489828e-244],", 
        "        [  3.53899142e-072,   6.96547592e-203],", 
        "        [ -4.32415047e-031,  -1.24508568e-166]]])"
       ]
      }
     ], 
     "prompt_number": 12
    }, 
    {
     "cell_type": "code", 
     "collapsed": true, 
     "input": [
      "#ndarray\u7684\u6570\u636e\u7c7b\u578b", 
      "arr1 = np.array([1,2,3], dtype=np.float64)", 
      "arr2 = np.array([1,2,3], dtype=np.int32)"
     ], 
     "language": "python", 
     "outputs": [], 
     "prompt_number": 13
    }, 
    {
     "cell_type": "code", 
     "collapsed": false, 
     "input": [
      "arr1.dtype"
     ], 
     "language": "python", 
     "outputs": [
      {
       "output_type": "pyout", 
       "prompt_number": 14, 
       "text": [
        "dtype('float64')"
       ]
      }
     ], 
     "prompt_number": 14
    }, 
    {
     "cell_type": "code", 
     "collapsed": false, 
     "input": [
      "arr2.dtype"
     ], 
     "language": "python", 
     "outputs": [
      {
       "output_type": "pyout", 
       "prompt_number": 15, 
       "text": [
        "dtype('int32')"
       ]
      }
     ], 
     "prompt_number": 15
    }, 
    {
     "cell_type": "code", 
     "collapsed": true, 
     "input": [
      "arr = np.array([1,2,3,4,5])"
     ], 
     "language": "python", 
     "outputs": [], 
     "prompt_number": 16
    }, 
    {
     "cell_type": "code", 
     "collapsed": false, 
     "input": [
      "arr"
     ], 
     "language": "python", 
     "outputs": [
      {
       "output_type": "pyout", 
       "prompt_number": 17, 
       "text": [
        "array([1, 2, 3, 4, 5])"
       ]
      }
     ], 
     "prompt_number": 17
    }, 
    {
     "cell_type": "code", 
     "collapsed": false, 
     "input": [
      "arr.dtype"
     ], 
     "language": "python", 
     "outputs": [
      {
       "output_type": "pyout", 
       "prompt_number": 18, 
       "text": [
        "dtype('int32')"
       ]
      }
     ], 
     "prompt_number": 18
    }, 
    {
     "cell_type": "code", 
     "collapsed": true, 
     "input": [
      "float_arr = arr.astype(np.float64)"
     ], 
     "language": "python", 
     "outputs": [], 
     "prompt_number": 19
    }, 
    {
     "cell_type": "code", 
     "collapsed": false, 
     "input": [
      "float_arr.dtype"
     ], 
     "language": "python", 
     "outputs": [
      {
       "output_type": "pyout", 
       "prompt_number": 20, 
       "text": [
        "dtype('float64')"
       ]
      }
     ], 
     "prompt_number": 20
    }, 
    {
     "cell_type": "code", 
     "collapsed": false, 
     "input": [
      "float_arr"
     ], 
     "language": "python", 
     "outputs": [
      {
       "output_type": "pyout", 
       "prompt_number": 21, 
       "text": [
        "array([ 1.,  2.,  3.,  4.,  5.])"
       ]
      }
     ], 
     "prompt_number": 21
    }, 
    {
     "cell_type": "code", 
     "collapsed": true, 
     "input": [
      "arr = np.array([3.7,-1.2,-2.6,0.5,12.9,10.1])"
     ], 
     "language": "python", 
     "outputs": [], 
     "prompt_number": 22
    }, 
    {
     "cell_type": "code", 
     "collapsed": false, 
     "input": [
      "arr"
     ], 
     "language": "python", 
     "outputs": [
      {
       "output_type": "pyout", 
       "prompt_number": 23, 
       "text": [
        "array([  3.7,  -1.2,  -2.6,   0.5,  12.9,  10.1])"
       ]
      }
     ], 
     "prompt_number": 23
    }, 
    {
     "cell_type": "code", 
     "collapsed": false, 
     "input": [
      "arr.astype(np.int32)"
     ], 
     "language": "python", 
     "outputs": [
      {
       "output_type": "pyout", 
       "prompt_number": 24, 
       "text": [
        "array([ 3, -1, -2,  0, 12, 10])"
       ]
      }
     ], 
     "prompt_number": 24
    }, 
    {
     "cell_type": "code", 
     "collapsed": true, 
     "input": [
      "numeric_strings = np.array(['1.25','-9.6','42'], dtype=np.string_)"
     ], 
     "language": "python", 
     "outputs": [], 
     "prompt_number": 25
    }, 
    {
     "cell_type": "code", 
     "collapsed": false, 
     "input": [
      "numeric_strings"
     ], 
     "language": "python", 
     "outputs": [
      {
       "output_type": "pyout", 
       "prompt_number": 26, 
       "text": [
        "array(['1.25', '-9.6', '42'], ", 
        "      dtype='|S4')"
       ]
      }
     ], 
     "prompt_number": 26
    }, 
    {
     "cell_type": "code", 
     "collapsed": false, 
     "input": [
      "numeric_strings.astype(float)"
     ], 
     "language": "python", 
     "outputs": [
      {
       "output_type": "pyout", 
       "prompt_number": 27, 
       "text": [
        "array([  1.25,  -9.6 ,  42.  ])"
       ]
      }
     ], 
     "prompt_number": 27
    }, 
    {
     "cell_type": "code", 
     "collapsed": false, 
     "input": [
      "numeric_strings.dtype"
     ], 
     "language": "python", 
     "outputs": [
      {
       "output_type": "pyout", 
       "prompt_number": 28, 
       "text": [
        "dtype('|S4')"
       ]
      }
     ], 
     "prompt_number": 28
    }, 
    {
     "cell_type": "code", 
     "collapsed": true, 
     "input": [
      "int_array = np.arange(10)"
     ], 
     "language": "python", 
     "outputs": [], 
     "prompt_number": 29
    }, 
    {
     "cell_type": "code", 
     "collapsed": false, 
     "input": [
      "int_array"
     ], 
     "language": "python", 
     "outputs": [
      {
       "output_type": "pyout", 
       "prompt_number": 30, 
       "text": [
        "array([0, 1, 2, 3, 4, 5, 6, 7, 8, 9])"
       ]
      }
     ], 
     "prompt_number": 30
    }, 
    {
     "cell_type": "code", 
     "collapsed": true, 
     "input": [
      "calibers = np.array([.22,.270,.357,.380,.44,.50], dtype=np.float64)"
     ], 
     "language": "python", 
     "outputs": [], 
     "prompt_number": 31
    }, 
    {
     "cell_type": "code", 
     "collapsed": false, 
     "input": [
      "int_array.astype(calibers.dtype)"
     ], 
     "language": "python", 
     "outputs": [
      {
       "output_type": "pyout", 
       "prompt_number": 32, 
       "text": [
        "array([ 0.,  1.,  2.,  3.,  4.,  5.,  6.,  7.,  8.,  9.])"
       ]
      }
     ], 
     "prompt_number": 32
    }, 
    {
     "cell_type": "code", 
     "collapsed": true, 
     "input": [
      "empty_unit32 = np.empty(8, dtype='u4')"
     ], 
     "language": "python", 
     "outputs": [], 
     "prompt_number": 33
    }, 
    {
     "cell_type": "code", 
     "collapsed": false, 
     "input": [
      "empty_unit32"
     ], 
     "language": "python", 
     "outputs": [
      {
       "output_type": "pyout", 
       "prompt_number": 34, 
       "text": [
        "array([ 12156124,  45780832,  78463200, 505549244,  45780832,  78463200,", 
        "        11879848,  77836824], dtype=uint32)"
       ]
      }
     ], 
     "prompt_number": 34
    }, 
    {
     "cell_type": "code", 
     "collapsed": true, 
     "input": [
      "#\u6570\u7ec4\u4e0e\u6807\u91cf\u4e4b\u95f4\u7684\u8fd0\u7b97", 
      "arr = np.array([[1.,2.,3.], [4.,5.,6.]])"
     ], 
     "language": "python", 
     "outputs": [], 
     "prompt_number": 35
    }, 
    {
     "cell_type": "code", 
     "collapsed": false, 
     "input": [
      "arr"
     ], 
     "language": "python", 
     "outputs": [
      {
       "output_type": "pyout", 
       "prompt_number": 36, 
       "text": [
        "array([[ 1.,  2.,  3.],", 
        "       [ 4.,  5.,  6.]])"
       ]
      }
     ], 
     "prompt_number": 36
    }, 
    {
     "cell_type": "code", 
     "collapsed": false, 
     "input": [
      "arr * arr"
     ], 
     "language": "python", 
     "outputs": [
      {
       "output_type": "pyout", 
       "prompt_number": 37, 
       "text": [
        "array([[  1.,   4.,   9.],", 
        "       [ 16.,  25.,  36.]])"
       ]
      }
     ], 
     "prompt_number": 37
    }, 
    {
     "cell_type": "code", 
     "collapsed": false, 
     "input": [
      "arr - arr"
     ], 
     "language": "python", 
     "outputs": [
      {
       "output_type": "pyout", 
       "prompt_number": 38, 
       "text": [
        "array([[ 0.,  0.,  0.],", 
        "       [ 0.,  0.,  0.]])"
       ]
      }
     ], 
     "prompt_number": 38
    }, 
    {
     "cell_type": "code", 
     "collapsed": false, 
     "input": [
      "1/arr"
     ], 
     "language": "python", 
     "outputs": [
      {
       "output_type": "pyout", 
       "prompt_number": 39, 
       "text": [
        "array([[ 1.        ,  0.5       ,  0.33333333],", 
        "       [ 0.25      ,  0.2       ,  0.16666667]])"
       ]
      }
     ], 
     "prompt_number": 39
    }, 
    {
     "cell_type": "code", 
     "collapsed": false, 
     "input": [
      "arr ** 0.5"
     ], 
     "language": "python", 
     "outputs": [
      {
       "output_type": "pyout", 
       "prompt_number": 40, 
       "text": [
        "array([[ 1.        ,  1.41421356,  1.73205081],", 
        "       [ 2.        ,  2.23606798,  2.44948974]])"
       ]
      }
     ], 
     "prompt_number": 40
    }, 
    {
     "cell_type": "code", 
     "collapsed": true, 
     "input": [
      "arr = np.arange(10)"
     ], 
     "language": "python", 
     "outputs": [], 
     "prompt_number": 41
    }, 
    {
     "cell_type": "code", 
     "collapsed": false, 
     "input": [
      "arr"
     ], 
     "language": "python", 
     "outputs": [
      {
       "output_type": "pyout", 
       "prompt_number": 42, 
       "text": [
        "array([0, 1, 2, 3, 4, 5, 6, 7, 8, 9])"
       ]
      }
     ], 
     "prompt_number": 42
    }, 
    {
     "cell_type": "code", 
     "collapsed": false, 
     "input": [
      "arr[5]"
     ], 
     "language": "python", 
     "outputs": [
      {
       "output_type": "pyout", 
       "prompt_number": 43, 
       "text": [
        "5"
       ]
      }
     ], 
     "prompt_number": 43
    }, 
    {
     "cell_type": "code", 
     "collapsed": false, 
     "input": [
      "arr[5:8]"
     ], 
     "language": "python", 
     "outputs": [
      {
       "output_type": "pyout", 
       "prompt_number": 44, 
       "text": [
        "array([5, 6, 7])"
       ]
      }
     ], 
     "prompt_number": 44
    }, 
    {
     "cell_type": "code", 
     "collapsed": true, 
     "input": [
      "arr[5:8] = 12"
     ], 
     "language": "python", 
     "outputs": [], 
     "prompt_number": 45
    }, 
    {
     "cell_type": "code", 
     "collapsed": false, 
     "input": [
      "arr"
     ], 
     "language": "python", 
     "outputs": [
      {
       "output_type": "pyout", 
       "prompt_number": 46, 
       "text": [
        "array([ 0,  1,  2,  3,  4, 12, 12, 12,  8,  9])"
       ]
      }
     ], 
     "prompt_number": 46
    }, 
    {
     "cell_type": "code", 
     "collapsed": true, 
     "input": [
      "arr_slice = arr[5:8]"
     ], 
     "language": "python", 
     "outputs": [], 
     "prompt_number": 47
    }, 
    {
     "cell_type": "code", 
     "collapsed": false, 
     "input": [
      "arr_slice"
     ], 
     "language": "python", 
     "outputs": [
      {
       "output_type": "pyout", 
       "prompt_number": 48, 
       "text": [
        "array([12, 12, 12])"
       ]
      }
     ], 
     "prompt_number": 48
    }, 
    {
     "cell_type": "code", 
     "collapsed": true, 
     "input": [
      "arr_slice[1] = 12345"
     ], 
     "language": "python", 
     "outputs": [], 
     "prompt_number": 49
    }, 
    {
     "cell_type": "code", 
     "collapsed": false, 
     "input": [
      "arr_slice"
     ], 
     "language": "python", 
     "outputs": [
      {
       "output_type": "pyout", 
       "prompt_number": 50, 
       "text": [
        "array([   12, 12345,    12])"
       ]
      }
     ], 
     "prompt_number": 50
    }, 
    {
     "cell_type": "code", 
     "collapsed": false, 
     "input": [
      "arr"
     ], 
     "language": "python", 
     "outputs": [
      {
       "output_type": "pyout", 
       "prompt_number": 51, 
       "text": [
        "array([    0,     1,     2,     3,     4,    12, 12345,    12,     8,     9])"
       ]
      }
     ], 
     "prompt_number": 51
    }, 
    {
     "cell_type": "code", 
     "collapsed": true, 
     "input": [
      "arr2d = np.array([[1,2,3],[4,5,6],[7,8,9]])"
     ], 
     "language": "python", 
     "outputs": [], 
     "prompt_number": 52
    }, 
    {
     "cell_type": "code", 
     "collapsed": false, 
     "input": [
      "arr2d"
     ], 
     "language": "python", 
     "outputs": [
      {
       "output_type": "pyout", 
       "prompt_number": 53, 
       "text": [
        "array([[1, 2, 3],", 
        "       [4, 5, 6],", 
        "       [7, 8, 9]])"
       ]
      }
     ], 
     "prompt_number": 53
    }, 
    {
     "cell_type": "code", 
     "collapsed": false, 
     "input": [
      "arr2d[2]"
     ], 
     "language": "python", 
     "outputs": [
      {
       "output_type": "pyout", 
       "prompt_number": 54, 
       "text": [
        "array([7, 8, 9])"
       ]
      }
     ], 
     "prompt_number": 54
    }, 
    {
     "cell_type": "code", 
     "collapsed": false, 
     "input": [
      "arr2d[0][2]"
     ], 
     "language": "python", 
     "outputs": [
      {
       "output_type": "pyout", 
       "prompt_number": 55, 
       "text": [
        "3"
       ]
      }
     ], 
     "prompt_number": 55
    }, 
    {
     "cell_type": "code", 
     "collapsed": false, 
     "input": [
      "arr2d[0,2]"
     ], 
     "language": "python", 
     "outputs": [
      {
       "output_type": "pyout", 
       "prompt_number": 56, 
       "text": [
        "3"
       ]
      }
     ], 
     "prompt_number": 56
    }, 
    {
     "cell_type": "code", 
     "collapsed": true, 
     "input": [
      "arr3d = np.array([[[1, 2, 3], [4, 5, 6]], [[7, 8, 9], [10, 11, 12]]])"
     ], 
     "language": "python", 
     "outputs": [], 
     "prompt_number": 57
    }, 
    {
     "cell_type": "code", 
     "collapsed": false, 
     "input": [
      "arr3d"
     ], 
     "language": "python", 
     "outputs": [
      {
       "output_type": "pyout", 
       "prompt_number": 58, 
       "text": [
        "array([[[ 1,  2,  3],", 
        "        [ 4,  5,  6]],", 
        "", 
        "       [[ 7,  8,  9],", 
        "        [10, 11, 12]]])"
       ]
      }
     ], 
     "prompt_number": 58
    }, 
    {
     "cell_type": "code", 
     "collapsed": false, 
     "input": [
      "arr3d[0]"
     ], 
     "language": "python", 
     "outputs": [
      {
       "output_type": "pyout", 
       "prompt_number": 59, 
       "text": [
        "array([[1, 2, 3],", 
        "       [4, 5, 6]])"
       ]
      }
     ], 
     "prompt_number": 59
    }, 
    {
     "cell_type": "code", 
     "collapsed": true, 
     "input": [
      "old_values = arr3d[0].copy()"
     ], 
     "language": "python", 
     "outputs": [], 
     "prompt_number": 60
    }, 
    {
     "cell_type": "code", 
     "collapsed": true, 
     "input": [
      "arr3d[0] = 42"
     ], 
     "language": "python", 
     "outputs": [], 
     "prompt_number": 61
    }, 
    {
     "cell_type": "code", 
     "collapsed": false, 
     "input": [
      "arr3d"
     ], 
     "language": "python", 
     "outputs": [
      {
       "output_type": "pyout", 
       "prompt_number": 62, 
       "text": [
        "array([[[42, 42, 42],", 
        "        [42, 42, 42]],", 
        "", 
        "       [[ 7,  8,  9],", 
        "        [10, 11, 12]]])"
       ]
      }
     ], 
     "prompt_number": 62
    }, 
    {
     "cell_type": "code", 
     "collapsed": true, 
     "input": [
      "arr3d[0] = old_values"
     ], 
     "language": "python", 
     "outputs": [], 
     "prompt_number": 63
    }, 
    {
     "cell_type": "code", 
     "collapsed": false, 
     "input": [
      "arr3d"
     ], 
     "language": "python", 
     "outputs": [
      {
       "output_type": "pyout", 
       "prompt_number": 64, 
       "text": [
        "array([[[ 1,  2,  3],", 
        "        [ 4,  5,  6]],", 
        "", 
        "       [[ 7,  8,  9],", 
        "        [10, 11, 12]]])"
       ]
      }
     ], 
     "prompt_number": 64
    }, 
    {
     "cell_type": "code", 
     "collapsed": false, 
     "input": [
      "arr3d[1,0]"
     ], 
     "language": "python", 
     "outputs": [
      {
       "output_type": "pyout", 
       "prompt_number": 65, 
       "text": [
        "array([7, 8, 9])"
       ]
      }
     ], 
     "prompt_number": 65
    }, 
    {
     "cell_type": "code", 
     "collapsed": false, 
     "input": [
      "arr[1:6]"
     ], 
     "language": "python", 
     "outputs": [
      {
       "output_type": "pyout", 
       "prompt_number": 66, 
       "text": [
        "array([ 1,  2,  3,  4, 12])"
       ]
      }
     ], 
     "prompt_number": 66
    }, 
    {
     "cell_type": "code", 
     "collapsed": false, 
     "input": [
      "arr2d"
     ], 
     "language": "python", 
     "outputs": [
      {
       "output_type": "pyout", 
       "prompt_number": 67, 
       "text": [
        "array([[1, 2, 3],", 
        "       [4, 5, 6],", 
        "       [7, 8, 9]])"
       ]
      }
     ], 
     "prompt_number": 67
    }, 
    {
     "cell_type": "code", 
     "collapsed": false, 
     "input": [
      "arr2d"
     ], 
     "language": "python", 
     "outputs": [
      {
       "output_type": "pyout", 
       "prompt_number": 68, 
       "text": [
        "array([[1, 2, 3],", 
        "       [4, 5, 6],", 
        "       [7, 8, 9]])"
       ]
      }
     ], 
     "prompt_number": 68
    }, 
    {
     "cell_type": "code", 
     "collapsed": false, 
     "input": [
      "arr2d[:2]"
     ], 
     "language": "python", 
     "outputs": [
      {
       "output_type": "pyout", 
       "prompt_number": 69, 
       "text": [
        "array([[1, 2, 3],", 
        "       [4, 5, 6]])"
       ]
      }
     ], 
     "prompt_number": 69
    }, 
    {
     "cell_type": "code", 
     "collapsed": false, 
     "input": [
      "arr2d[:2,:1]"
     ], 
     "language": "python", 
     "outputs": [
      {
       "output_type": "pyout", 
       "prompt_number": 70, 
       "text": [
        "array([[1],", 
        "       [4]])"
       ]
      }
     ], 
     "prompt_number": 70
    }, 
    {
     "cell_type": "code", 
     "collapsed": false, 
     "input": [
      "arr2d[1,:2]"
     ], 
     "language": "python", 
     "outputs": [
      {
       "output_type": "pyout", 
       "prompt_number": 71, 
       "text": [
        "array([4, 5])"
       ]
      }
     ], 
     "prompt_number": 71
    }, 
    {
     "cell_type": "code", 
     "collapsed": false, 
     "input": [
      "arr2d[2,:1]"
     ], 
     "language": "python", 
     "outputs": [
      {
       "output_type": "pyout", 
       "prompt_number": 72, 
       "text": [
        "array([7])"
       ]
      }
     ], 
     "prompt_number": 72
    }, 
    {
     "cell_type": "code", 
     "collapsed": false, 
     "input": [
      "arr2d[:, :1]"
     ], 
     "language": "python", 
     "outputs": [
      {
       "output_type": "pyout", 
       "prompt_number": 73, 
       "text": [
        "array([[1],", 
        "       [4],", 
        "       [7]])"
       ]
      }
     ], 
     "prompt_number": 73
    }, 
    {
     "cell_type": "code", 
     "collapsed": false, 
     "input": [
      "arr2d[:2,1:]"
     ], 
     "language": "python", 
     "outputs": [
      {
       "output_type": "pyout", 
       "prompt_number": 74, 
       "text": [
        "array([[2, 3],", 
        "       [5, 6]])"
       ]
      }
     ], 
     "prompt_number": 74
    }, 
    {
     "cell_type": "code", 
     "collapsed": true, 
     "input": [
      "arr2d[:2,1:] = 0"
     ], 
     "language": "python", 
     "outputs": [], 
     "prompt_number": 75
    }, 
    {
     "cell_type": "code", 
     "collapsed": false, 
     "input": [
      "arr2d"
     ], 
     "language": "python", 
     "outputs": [
      {
       "output_type": "pyout", 
       "prompt_number": 76, 
       "text": [
        "array([[1, 0, 0],", 
        "       [4, 0, 0],", 
        "       [7, 8, 9]])"
       ]
      }
     ], 
     "prompt_number": 76
    }, 
    {
     "cell_type": "code", 
     "collapsed": false, 
     "input": [
      "#\u5e03\u5c14\u578b\u7d22\u5f15", 
      "names = np.array(['Bob', 'Joe', 'Will', 'Bob', 'Will', 'Joe', 'Joe'])", 
      "names"
     ], 
     "language": "python", 
     "outputs": [
      {
       "output_type": "pyout", 
       "prompt_number": 77, 
       "text": [
        "array(['Bob', 'Joe', 'Will', 'Bob', 'Will', 'Joe', 'Joe'], ", 
        "      dtype='|S4')"
       ]
      }
     ], 
     "prompt_number": 77
    }, 
    {
     "cell_type": "code", 
     "collapsed": true, 
     "input": [
      "data = randn(7,4)"
     ], 
     "language": "python", 
     "outputs": [], 
     "prompt_number": 78
    }, 
    {
     "cell_type": "code", 
     "collapsed": false, 
     "input": [
      "data"
     ], 
     "language": "python", 
     "outputs": [
      {
       "output_type": "pyout", 
       "prompt_number": 79, 
       "text": [
        "array([[-0.368296  , -0.18819721, -0.36769691,  1.50033782],", 
        "       [ 1.81892846,  2.18992522,  0.01020921,  0.39288246],", 
        "       [ 0.11104002,  0.59177047,  0.70075701, -0.78527759],", 
        "       [ 0.75330161,  0.64630249,  0.78841644,  0.27215057],", 
        "       [ 0.82553257,  1.56264098, -0.53884182, -0.7668234 ],", 
        "       [ 0.33639628, -0.49950569, -0.69245282,  1.2620498 ],", 
        "       [-1.55092603,  0.27070355,  0.26890382, -1.37893245]])"
       ]
      }
     ], 
     "prompt_number": 79
    }, 
    {
     "cell_type": "code", 
     "collapsed": false, 
     "input": [
      "names == 'Bob'"
     ], 
     "language": "python", 
     "outputs": [
      {
       "output_type": "pyout", 
       "prompt_number": 80, 
       "text": [
        "array([ True, False, False,  True, False, False, False], dtype=bool)"
       ]
      }
     ], 
     "prompt_number": 80
    }, 
    {
     "cell_type": "code", 
     "collapsed": false, 
     "input": [
      "data[names == 'Bob']"
     ], 
     "language": "python", 
     "outputs": [
      {
       "output_type": "pyout", 
       "prompt_number": 81, 
       "text": [
        "array([[-0.368296  , -0.18819721, -0.36769691,  1.50033782],", 
        "       [ 0.75330161,  0.64630249,  0.78841644,  0.27215057]])"
       ]
      }
     ], 
     "prompt_number": 81
    }, 
    {
     "cell_type": "code", 
     "collapsed": false, 
     "input": [
      "data[names == 'Bob', 2:]"
     ], 
     "language": "python", 
     "outputs": [
      {
       "output_type": "pyout", 
       "prompt_number": 82, 
       "text": [
        "array([[-0.36769691,  1.50033782],", 
        "       [ 0.78841644,  0.27215057]])"
       ]
      }
     ], 
     "prompt_number": 82
    }, 
    {
     "cell_type": "code", 
     "collapsed": false, 
     "input": [
      "data[names == 'Bob', 3]"
     ], 
     "language": "python", 
     "outputs": [
      {
       "output_type": "pyout", 
       "prompt_number": 83, 
       "text": [
        "array([ 1.50033782,  0.27215057])"
       ]
      }
     ], 
     "prompt_number": 83
    }, 
    {
     "cell_type": "code", 
     "collapsed": false, 
     "input": [
      "names != 'Bob'"
     ], 
     "language": "python", 
     "outputs": [
      {
       "output_type": "pyout", 
       "prompt_number": 88, 
       "text": [
        "array([False,  True,  True, False,  True,  True,  True], dtype=bool)"
       ]
      }
     ], 
     "prompt_number": 88
    }, 
    {
     "cell_type": "code", 
     "collapsed": false, 
     "input": [
      "data[-(names == 'Bob')]"
     ], 
     "language": "python", 
     "outputs": [
      {
       "output_type": "pyout", 
       "prompt_number": 89, 
       "text": [
        "array([[ 1.81892846,  2.18992522,  0.01020921,  0.39288246],", 
        "       [ 0.11104002,  0.59177047,  0.70075701, -0.78527759],", 
        "       [ 0.82553257,  1.56264098, -0.53884182, -0.7668234 ],", 
        "       [ 0.33639628, -0.49950569, -0.69245282,  1.2620498 ],", 
        "       [-1.55092603,  0.27070355,  0.26890382, -1.37893245]])"
       ]
      }
     ], 
     "prompt_number": 89
    }, 
    {
     "cell_type": "code", 
     "collapsed": false, 
     "input": [
      "mask = (names == 'Bob') | (names == 'Will')"
     ], 
     "language": "python", 
     "outputs": [], 
     "prompt_number": 91
    }, 
    {
     "cell_type": "code", 
     "collapsed": false, 
     "input": [
      "mask"
     ], 
     "language": "python", 
     "outputs": [
      {
       "output_type": "pyout", 
       "prompt_number": 92, 
       "text": [
        "array([ True, False,  True,  True,  True, False, False], dtype=bool)"
       ]
      }
     ], 
     "prompt_number": 92
    }, 
    {
     "cell_type": "code", 
     "collapsed": false, 
     "input": [
      "data[mask]"
     ], 
     "language": "python", 
     "outputs": [
      {
       "output_type": "pyout", 
       "prompt_number": 94, 
       "text": [
        "array([[-0.368296  , -0.18819721, -0.36769691,  1.50033782],", 
        "       [ 0.11104002,  0.59177047,  0.70075701, -0.78527759],", 
        "       [ 0.75330161,  0.64630249,  0.78841644,  0.27215057],", 
        "       [ 0.82553257,  1.56264098, -0.53884182, -0.7668234 ]])"
       ]
      }
     ], 
     "prompt_number": 94
    }, 
    {
     "cell_type": "code", 
     "collapsed": false, 
     "input": [
      "data"
     ], 
     "language": "python", 
     "outputs": [
      {
       "output_type": "pyout", 
       "prompt_number": 95, 
       "text": [
        "array([[-0.368296  , -0.18819721, -0.36769691,  1.50033782],", 
        "       [ 1.81892846,  2.18992522,  0.01020921,  0.39288246],", 
        "       [ 0.11104002,  0.59177047,  0.70075701, -0.78527759],", 
        "       [ 0.75330161,  0.64630249,  0.78841644,  0.27215057],", 
        "       [ 0.82553257,  1.56264098, -0.53884182, -0.7668234 ],", 
        "       [ 0.33639628, -0.49950569, -0.69245282,  1.2620498 ],", 
        "       [-1.55092603,  0.27070355,  0.26890382, -1.37893245]])"
       ]
      }
     ], 
     "prompt_number": 95
    }, 
    {
     "cell_type": "code", 
     "collapsed": true, 
     "input": [
      "data[data < 0] = 0"
     ], 
     "language": "python", 
     "outputs": [], 
     "prompt_number": 96
    }, 
    {
     "cell_type": "code", 
     "collapsed": false, 
     "input": [
      "data"
     ], 
     "language": "python", 
     "outputs": [
      {
       "output_type": "pyout", 
       "prompt_number": 97, 
       "text": [
        "array([[ 0.        ,  0.        ,  0.        ,  1.50033782],", 
        "       [ 1.81892846,  2.18992522,  0.01020921,  0.39288246],", 
        "       [ 0.11104002,  0.59177047,  0.70075701,  0.        ],", 
        "       [ 0.75330161,  0.64630249,  0.78841644,  0.27215057],", 
        "       [ 0.82553257,  1.56264098,  0.        ,  0.        ],", 
        "       [ 0.33639628,  0.        ,  0.        ,  1.2620498 ],", 
        "       [ 0.        ,  0.27070355,  0.26890382,  0.        ]])"
       ]
      }
     ], 
     "prompt_number": 97
    }, 
    {
     "cell_type": "code", 
     "collapsed": true, 
     "input": [
      "data[names != 'Joe'] = 7"
     ], 
     "language": "python", 
     "outputs": [], 
     "prompt_number": 98
    }, 
    {
     "cell_type": "code", 
     "collapsed": false, 
     "input": [
      "data"
     ], 
     "language": "python", 
     "outputs": [
      {
       "output_type": "pyout", 
       "prompt_number": 100, 
       "text": [
        "array([[ 7.        ,  7.        ,  7.        ,  7.        ],", 
        "       [ 1.81892846,  2.18992522,  0.01020921,  0.39288246],", 
        "       [ 7.        ,  7.        ,  7.        ,  7.        ],", 
        "       [ 7.        ,  7.        ,  7.        ,  7.        ],", 
        "       [ 7.        ,  7.        ,  7.        ,  7.        ],", 
        "       [ 0.33639628,  0.        ,  0.        ,  1.2620498 ],", 
        "       [ 0.        ,  0.27070355,  0.26890382,  0.        ]])"
       ]
      }
     ], 
     "prompt_number": 100
    }, 
    {
     "cell_type": "code", 
     "collapsed": true, 
     "input": [
      "arr = np.empty((8, 4))"
     ], 
     "language": "python", 
     "outputs": [], 
     "prompt_number": 101
    }, 
    {
     "cell_type": "code", 
     "collapsed": true, 
     "input": [
      "for i in range(8):", 
      "    arr[i] = i"
     ], 
     "language": "python", 
     "outputs": [], 
     "prompt_number": 102
    }, 
    {
     "cell_type": "code", 
     "collapsed": false, 
     "input": [
      "arr"
     ], 
     "language": "python", 
     "outputs": [
      {
       "output_type": "pyout", 
       "prompt_number": 103, 
       "text": [
        "array([[ 0.,  0.,  0.,  0.],", 
        "       [ 1.,  1.,  1.,  1.],", 
        "       [ 2.,  2.,  2.,  2.],", 
        "       [ 3.,  3.,  3.,  3.],", 
        "       [ 4.,  4.,  4.,  4.],", 
        "       [ 5.,  5.,  5.,  5.],", 
        "       [ 6.,  6.,  6.,  6.],", 
        "       [ 7.,  7.,  7.,  7.]])"
       ]
      }
     ], 
     "prompt_number": 103
    }, 
    {
     "cell_type": "code", 
     "collapsed": false, 
     "input": [
      "arr[[4,3,0,6]]"
     ], 
     "language": "python", 
     "outputs": [
      {
       "output_type": "pyout", 
       "prompt_number": 104, 
       "text": [
        "array([[ 4.,  4.,  4.,  4.],", 
        "       [ 3.,  3.,  3.,  3.],", 
        "       [ 0.,  0.,  0.,  0.],", 
        "       [ 6.,  6.,  6.,  6.]])"
       ]
      }
     ], 
     "prompt_number": 104
    }, 
    {
     "cell_type": "code", 
     "collapsed": false, 
     "input": [
      "arr[[-3,-5,-7]]"
     ], 
     "language": "python", 
     "outputs": [
      {
       "output_type": "pyout", 
       "prompt_number": 105, 
       "text": [
        "array([[ 5.,  5.,  5.,  5.],", 
        "       [ 3.,  3.,  3.,  3.],", 
        "       [ 1.,  1.,  1.,  1.]])"
       ]
      }
     ], 
     "prompt_number": 105
    }, 
    {
     "cell_type": "code", 
     "collapsed": true, 
     "input": [
      "#\u5173\u4e8ereshape\u7684\u77e5\u8bc6\u5c06\u5728\u7b2c12\u7ae0\u8bb2\u89e3", 
      "arr = np.arange(32).reshape((8, 4))"
     ], 
     "language": "python", 
     "outputs": [], 
     "prompt_number": 108
    }, 
    {
     "cell_type": "code", 
     "collapsed": false, 
     "input": [
      "arr"
     ], 
     "language": "python", 
     "outputs": [
      {
       "output_type": "pyout", 
       "prompt_number": 109, 
       "text": [
        "array([[ 0,  1,  2,  3],", 
        "       [ 4,  5,  6,  7],", 
        "       [ 8,  9, 10, 11],", 
        "       [12, 13, 14, 15],", 
        "       [16, 17, 18, 19],", 
        "       [20, 21, 22, 23],", 
        "       [24, 25, 26, 27],", 
        "       [28, 29, 30, 31]])"
       ]
      }
     ], 
     "prompt_number": 109
    }, 
    {
     "cell_type": "code", 
     "collapsed": false, 
     "input": [
      "#\u9009\u51fa\u7684\u5143\u7d20(1,0)\u3001(5,3)\u3001(7,1)\u548c(2,2)", 
      "arr[[1,5,7,2], [0,3,1,2]]"
     ], 
     "language": "python", 
     "outputs": [
      {
       "output_type": "pyout", 
       "prompt_number": 111, 
       "text": [
        "array([ 4, 23, 29, 10])"
       ]
      }
     ], 
     "prompt_number": 111
    }, 
    {
     "cell_type": "code", 
     "collapsed": false, 
     "input": [
      "#?\u4e0d\u660e\u767d", 
      "arr[[1,5,7,2]][:, [0,3,1,2]]"
     ], 
     "language": "python", 
     "outputs": [
      {
       "output_type": "pyout", 
       "prompt_number": 114, 
       "text": [
        "array([[ 4,  7,  5,  6],", 
        "       [20, 23, 21, 22],", 
        "       [28, 31, 29, 30],", 
        "       [ 8, 11,  9, 10]])"
       ]
      }
     ], 
     "prompt_number": 114
    }, 
    {
     "cell_type": "code", 
     "collapsed": false, 
     "input": [
      "#?\u4e0d\u660e\u767d", 
      "arr[np.ix_([1,5,7,2], [0,3,1,2])]"
     ], 
     "language": "python", 
     "outputs": [
      {
       "output_type": "pyout", 
       "prompt_number": 116, 
       "text": [
        "array([[ 4,  7,  5,  6],", 
        "       [20, 23, 21, 22],", 
        "       [28, 31, 29, 30],", 
        "       [ 8, 11,  9, 10]])"
       ]
      }
     ], 
     "prompt_number": 116
    }, 
    {
     "cell_type": "code", 
     "collapsed": false, 
     "input": [
      "#\u6570\u7ec4\u8f6c\u7f6e\u548c\u8f74\u5bf9\u6362", 
      "arr = np.arange(15).reshape((3, 5))"
     ], 
     "language": "python", 
     "outputs": [], 
     "prompt_number": 118
    }, 
    {
     "cell_type": "code", 
     "collapsed": false, 
     "input": [
      "arr"
     ], 
     "language": "python", 
     "outputs": [
      {
       "output_type": "pyout", 
       "prompt_number": 119, 
       "text": [
        "array([[ 0,  1,  2,  3,  4],", 
        "       [ 5,  6,  7,  8,  9],", 
        "       [10, 11, 12, 13, 14]])"
       ]
      }
     ], 
     "prompt_number": 119
    }, 
    {
     "cell_type": "code", 
     "collapsed": false, 
     "input": [
      "arr.T"
     ], 
     "language": "python", 
     "outputs": [
      {
       "output_type": "pyout", 
       "prompt_number": 120, 
       "text": [
        "array([[ 0,  5, 10],", 
        "       [ 1,  6, 11],", 
        "       [ 2,  7, 12],", 
        "       [ 3,  8, 13],", 
        "       [ 4,  9, 14]])"
       ]
      }
     ], 
     "prompt_number": 120
    }, 
    {
     "cell_type": "code", 
     "collapsed": true, 
     "input": [
      "arr = np.random.randn(6, 3)"
     ], 
     "language": "python", 
     "outputs": [], 
     "prompt_number": 121
    }, 
    {
     "cell_type": "code", 
     "collapsed": false, 
     "input": [
      "arr"
     ], 
     "language": "python", 
     "outputs": [
      {
       "output_type": "pyout", 
       "prompt_number": 123, 
       "text": [
        "array([[-0.25567475,  0.51723153,  0.20608279],", 
        "       [-0.93956896,  0.36058449,  0.66570922],", 
        "       [ 0.51422268, -0.36499166,  0.50781868],", 
        "       [-1.88103595,  0.02013826, -0.75513825],", 
        "       [-0.49463684,  1.00568168, -0.12001096],", 
        "       [-0.7793296 , -0.71764776, -0.65235064]])"
       ]
      }
     ], 
     "prompt_number": 123
    }, 
    {
     "cell_type": "code", 
     "collapsed": false, 
     "input": [
      "arr.T"
     ], 
     "language": "python", 
     "outputs": [
      {
       "output_type": "pyout", 
       "prompt_number": 125, 
       "text": [
        "array([[-0.25567475, -0.93956896,  0.51422268, -1.88103595, -0.49463684,", 
        "        -0.7793296 ],", 
        "       [ 0.51723153,  0.36058449, -0.36499166,  0.02013826,  1.00568168,", 
        "        -0.71764776],", 
        "       [ 0.20608279,  0.66570922,  0.50781868, -0.75513825, -0.12001096,", 
        "        -0.65235064]])"
       ]
      }
     ], 
     "prompt_number": 125
    }, 
    {
     "cell_type": "code", 
     "collapsed": false, 
     "input": [
      "np.dot(arr.T, arr)"
     ], 
     "language": "python", 
     "outputs": [
      {
       "output_type": "pyout", 
       "prompt_number": 126, 
       "text": [
        "array([[ 5.60290086, -0.63476787,  1.57116219],", 
        "       [-0.63476787,  2.05758804,  0.49354534],", 
        "       [ 1.57116219,  0.49354534,  1.75371646]])"
       ]
      }
     ], 
     "prompt_number": 126
    }, 
    {
     "cell_type": "code", 
     "collapsed": true, 
     "input": [
      "arr = np.arange(16).reshape((2, 2, 4))"
     ], 
     "language": "python", 
     "outputs": [], 
     "prompt_number": 127
    }, 
    {
     "cell_type": "code", 
     "collapsed": false, 
     "input": [
      "arr"
     ], 
     "language": "python", 
     "outputs": [
      {
       "output_type": "pyout", 
       "prompt_number": 128, 
       "text": [
        "array([[[ 0,  1,  2,  3],", 
        "        [ 4,  5,  6,  7]],", 
        "", 
        "       [[ 8,  9, 10, 11],", 
        "        [12, 13, 14, 15]]])"
       ]
      }
     ], 
     "prompt_number": 128
    }, 
    {
     "cell_type": "code", 
     "collapsed": false, 
     "input": [
      "arr.transpose((1, 0, 2))"
     ], 
     "language": "python", 
     "outputs": [
      {
       "output_type": "pyout", 
       "prompt_number": 133, 
       "text": [
        "array([[[ 0,  1,  2,  3],", 
        "        [ 8,  9, 10, 11]],", 
        "", 
        "       [[ 4,  5,  6,  7],", 
        "        [12, 13, 14, 15]]])"
       ]
      }
     ], 
     "prompt_number": 133
    }, 
    {
     "cell_type": "code", 
     "collapsed": false, 
     "input": [
      "arr"
     ], 
     "language": "python", 
     "outputs": [
      {
       "output_type": "pyout", 
       "prompt_number": 134, 
       "text": [
        "array([[[ 0,  1,  2,  3],", 
        "        [ 4,  5,  6,  7]],", 
        "", 
        "       [[ 8,  9, 10, 11],", 
        "        [12, 13, 14, 15]]])"
       ]
      }
     ], 
     "prompt_number": 134
    }, 
    {
     "cell_type": "code", 
     "collapsed": false, 
     "input": [
      "arr.swapaxes(1,2 )"
     ], 
     "language": "python", 
     "outputs": [
      {
       "output_type": "pyout", 
       "prompt_number": 135, 
       "text": [
        "array([[[ 0,  4],", 
        "        [ 1,  5],", 
        "        [ 2,  6],", 
        "        [ 3,  7]],", 
        "", 
        "       [[ 8, 12],", 
        "        [ 9, 13],", 
        "        [10, 14],", 
        "        [11, 15]]])"
       ]
      }
     ], 
     "prompt_number": 135
    }, 
    {
     "cell_type": "code", 
     "collapsed": false, 
     "input": [
      "#\u901a\u7528\u51fd\u6570\uff1a\u5feb\u901f\u7684\u5143\u7d20\u7ea7\u6570\u7ec4\u51fd\u6570", 
      "arr = np.arange(10)", 
      "arr"
     ], 
     "language": "python", 
     "outputs": [
      {
       "output_type": "pyout", 
       "prompt_number": 136, 
       "text": [
        "array([0, 1, 2, 3, 4, 5, 6, 7, 8, 9])"
       ]
      }
     ], 
     "prompt_number": 136
    }, 
    {
     "cell_type": "code", 
     "collapsed": false, 
     "input": [
      "#\u5e73\u65b9\u6839\u51fd\u6570", 
      "np.sqrt(arr)"
     ], 
     "language": "python", 
     "outputs": [
      {
       "output_type": "pyout", 
       "prompt_number": 138, 
       "text": [
        "array([ 0.        ,  1.        ,  1.41421356,  1.73205081,  2.        ,", 
        "        2.23606798,  2.44948974,  2.64575131,  2.82842712,  3.        ])"
       ]
      }
     ], 
     "prompt_number": 138
    }, 
    {
     "cell_type": "code", 
     "collapsed": false, 
     "input": [
      "np.exp(arr)"
     ], 
     "language": "python", 
     "outputs": [
      {
       "output_type": "pyout", 
       "prompt_number": 140, 
       "text": [
        "array([  1.00000000e+00,   2.71828183e+00,   7.38905610e+00,", 
        "         2.00855369e+01,   5.45981500e+01,   1.48413159e+02,", 
        "         4.03428793e+02,   1.09663316e+03,   2.98095799e+03,", 
        "         8.10308393e+03])"
       ]
      }
     ], 
     "prompt_number": 140
    }, 
    {
     "cell_type": "code", 
     "collapsed": true, 
     "input": [
      "x = randn(8)"
     ], 
     "language": "python", 
     "outputs": [], 
     "prompt_number": 141
    }, 
    {
     "cell_type": "code", 
     "collapsed": true, 
     "input": [
      "y = randn(8)"
     ], 
     "language": "python", 
     "outputs": [], 
     "prompt_number": 142
    }, 
    {
     "cell_type": "code", 
     "collapsed": false, 
     "input": [
      "x"
     ], 
     "language": "python", 
     "outputs": [
      {
       "output_type": "pyout", 
       "prompt_number": 143, 
       "text": [
        "array([ 0.21235063, -0.29416615,  0.93668411,  0.72290248,  0.42160876,", 
        "        1.40578698,  0.47547763,  0.51317104])"
       ]
      }
     ], 
     "prompt_number": 143
    }, 
    {
     "cell_type": "code", 
     "collapsed": false, 
     "input": [
      "y"
     ], 
     "language": "python", 
     "outputs": [
      {
       "output_type": "pyout", 
       "prompt_number": 144, 
       "text": [
        "array([-0.36799566,  0.89429205,  1.05498324, -0.51604887, -0.25489768,", 
        "       -1.22018663,  0.56057701, -0.93914832])"
       ]
      }
     ], 
     "prompt_number": 144
    }, 
    {
     "cell_type": "code", 
     "collapsed": false, 
     "input": [
      "#\u5143\u7d20\u7ea7\u6700\u5927\u503c", 
      "np.maximum(x, y)"
     ], 
     "language": "python", 
     "outputs": [
      {
       "output_type": "pyout", 
       "prompt_number": 145, 
       "text": [
        "array([ 0.21235063,  0.89429205,  1.05498324,  0.72290248,  0.42160876,", 
        "        1.40578698,  0.56057701,  0.51317104])"
       ]
      }
     ], 
     "prompt_number": 145
    }, 
    {
     "cell_type": "code", 
     "collapsed": true, 
     "input": [
      "arr = randn(7) * 5"
     ], 
     "language": "python", 
     "outputs": [], 
     "prompt_number": 146
    }, 
    {
     "cell_type": "code", 
     "collapsed": false, 
     "input": [
      "arr"
     ], 
     "language": "python", 
     "outputs": [
      {
       "output_type": "pyout", 
       "prompt_number": 147, 
       "text": [
        "array([ 1.12536311,  5.35689219,  7.83198961, -5.08577628,  4.30322544,", 
        "        1.9868554 , -3.61874537])"
       ]
      }
     ], 
     "prompt_number": 147
    }, 
    {
     "cell_type": "code", 
     "collapsed": false, 
     "input": [
      "np.modf(arr)"
     ], 
     "language": "python", 
     "outputs": [
      {
       "output_type": "pyout", 
       "prompt_number": 148, 
       "text": [
        "(array([ 0.12536311,  0.35689219,  0.83198961, -0.08577628,  0.30322544,", 
        "        0.9868554 , -0.61874537]),", 
        " array([ 1.,  5.,  7., -5.,  4.,  1., -3.]))"
       ]
      }
     ], 
     "prompt_number": 148
    }, 
    {
     "cell_type": "code", 
     "collapsed": true, 
     "input": [
      "#\u5229\u7528\u6570\u7ec4\u8fdb\u884c\u6570\u636e\u5904\u7406", 
      "points = np.arange(-5,5,0.01) #1000\u4e2a\u95f4\u9694\u76f8\u7b49\u7684\u70b9"
     ], 
     "language": "python", 
     "outputs": [], 
     "prompt_number": 151
    }, 
    {
     "cell_type": "code", 
     "collapsed": true, 
     "input": [
      "xs, ys = np.meshgrid(points, points)"
     ], 
     "language": "python", 
     "outputs": [], 
     "prompt_number": 152
    }, 
    {
     "cell_type": "code", 
     "collapsed": false, 
     "input": [
      "ys"
     ], 
     "language": "python", 
     "outputs": [
      {
       "output_type": "pyout", 
       "prompt_number": 153, 
       "text": [
        "array([[-5.  , -5.  , -5.  , ..., -5.  , -5.  , -5.  ],", 
        "       [-4.99, -4.99, -4.99, ..., -4.99, -4.99, -4.99],", 
        "       [-4.98, -4.98, -4.98, ..., -4.98, -4.98, -4.98],", 
        "       ..., ", 
        "       [ 4.97,  4.97,  4.97, ...,  4.97,  4.97,  4.97],", 
        "       [ 4.98,  4.98,  4.98, ...,  4.98,  4.98,  4.98],", 
        "       [ 4.99,  4.99,  4.99, ...,  4.99,  4.99,  4.99]])"
       ]
      }
     ], 
     "prompt_number": 153
    }, 
    {
     "cell_type": "code", 
     "collapsed": false, 
     "input": [
      "xs"
     ], 
     "language": "python", 
     "outputs": [
      {
       "output_type": "pyout", 
       "prompt_number": 154, 
       "text": [
        "array([[-5.  , -4.99, -4.98, ...,  4.97,  4.98,  4.99],", 
        "       [-5.  , -4.99, -4.98, ...,  4.97,  4.98,  4.99],", 
        "       [-5.  , -4.99, -4.98, ...,  4.97,  4.98,  4.99],", 
        "       ..., ", 
        "       [-5.  , -4.99, -4.98, ...,  4.97,  4.98,  4.99],", 
        "       [-5.  , -4.99, -4.98, ...,  4.97,  4.98,  4.99],", 
        "       [-5.  , -4.99, -4.98, ...,  4.97,  4.98,  4.99]])"
       ]
      }
     ], 
     "prompt_number": 154
    }, 
    {
     "cell_type": "code", 
     "collapsed": true, 
     "input": [
      "import matplotlib.pyplot as plt"
     ], 
     "language": "python", 
     "outputs": [], 
     "prompt_number": 155
    }, 
    {
     "cell_type": "code", 
     "collapsed": true, 
     "input": [
      "z = np.sqrt(xs ** 2 + ys ** 2)"
     ], 
     "language": "python", 
     "outputs": [], 
     "prompt_number": 156
    }, 
    {
     "cell_type": "code", 
     "collapsed": false, 
     "input": [
      "z"
     ], 
     "language": "python", 
     "outputs": [
      {
       "output_type": "pyout", 
       "prompt_number": 157, 
       "text": [
        "array([[ 7.07106781,  7.06400028,  7.05693985, ...,  7.04988652,", 
        "         7.05693985,  7.06400028],", 
        "       [ 7.06400028,  7.05692568,  7.04985815, ...,  7.04279774,", 
        "         7.04985815,  7.05692568],", 
        "       [ 7.05693985,  7.04985815,  7.04278354, ...,  7.03571603,", 
        "         7.04278354,  7.04985815],", 
        "       ..., ", 
        "       [ 7.04988652,  7.04279774,  7.03571603, ...,  7.0286414 ,", 
        "         7.03571603,  7.04279774],", 
        "       [ 7.05693985,  7.04985815,  7.04278354, ...,  7.03571603,", 
        "         7.04278354,  7.04985815],", 
        "       [ 7.06400028,  7.05692568,  7.04985815, ...,  7.04279774,", 
        "         7.04985815,  7.05692568]])"
       ]
      }
     ], 
     "prompt_number": 157
    }, 
    {
     "cell_type": "code", 
     "collapsed": false, 
     "input": [
      "#\u6839\u636e\u7f51\u683c\u5bf9\u51fd\u6570\u6c42\u503c\u7684\u7ed3\u679c", 
      "plt.imshow(z, cmap=plt.cm.gray)", 
      "plt.colorbar()", 
      "plt.title(\"Image plot of $\\sqrt{x^2 + y^2}$ for agrid of values\")"
     ], 
     "language": "python", 
     "outputs": [
      {
       "output_type": "pyout", 
       "prompt_number": 166, 
       "text": [
        "<matplotlib.text.Text at 0x94eb2b0>"
       ]
      }, 
      {
       "output_type": "display_data", 
       "png": "[encoded data removed]"
      }
     ], 
     "prompt_number": 166
    }, 
    {
     "cell_type": "code", 
     "collapsed": true, 
     "input": [
      "#\u5c06\u6761\u4ef6\u903b\u8f91\u8868\u8ff0\u4e3a\u6570\u7ec4\u8fd0\u7b97", 
      "xarr = np.array([1.1,1.2,1.3,1.4,1.5])", 
      "yarr = np.array([2.1,2.2,2.3,2.4,2.5])", 
      "cond = np.array([True,False,True,True,False])"
     ], 
     "language": "python", 
     "outputs": [], 
     "prompt_number": 167
    }, 
    {
     "cell_type": "code", 
     "collapsed": true, 
     "input": [
      "#\u5217\u8868\u63a8\u5bfc\u5f0f\u5199\u6cd5", 
      "result = [(x if c else y)", 
      "          for x,y,c in zip(xarr,yarr,cond)]"
     ], 
     "language": "python", 
     "outputs": [], 
     "prompt_number": 168
    }, 
    {
     "cell_type": "code", 
     "collapsed": false, 
     "input": [
      "result"
     ], 
     "language": "python", 
     "outputs": [
      {
       "output_type": "pyout", 
       "prompt_number": 169, 
       "text": [
        "[1.1000000000000001, 2.2000000000000002, 1.3, 1.3999999999999999, 2.5]"
       ]
      }
     ], 
     "prompt_number": 169
    }, 
    {
     "cell_type": "code", 
     "collapsed": true, 
     "input": [
      "#\u4f7f\u7528np\u7684where\u51fd\u6570\uff0c\u975e\u5e38\u7b80\u6d01", 
      "result = np.where(cond, xarr, yarr)"
     ], 
     "language": "python", 
     "outputs": [], 
     "prompt_number": 170
    }, 
    {
     "cell_type": "code", 
     "collapsed": false, 
     "input": [
      "result"
     ], 
     "language": "python", 
     "outputs": [
      {
       "output_type": "pyout", 
       "prompt_number": 171, 
       "text": [
        "array([ 1.1,  2.2,  1.3,  1.4,  2.5])"
       ]
      }
     ], 
     "prompt_number": 171
    }, 
    {
     "cell_type": "code", 
     "collapsed": true, 
     "input": [
      "arr = randn(4,4)"
     ], 
     "language": "python", 
     "outputs": [], 
     "prompt_number": 172
    }, 
    {
     "cell_type": "code", 
     "collapsed": false, 
     "input": [
      "arr"
     ], 
     "language": "python", 
     "outputs": [
      {
       "output_type": "pyout", 
       "prompt_number": 173, 
       "text": [
        "array([[-0.91985485,  0.94969166,  0.81303283, -0.23871474],", 
        "       [-0.60810623, -0.24326469, -0.57987566, -0.53263958],", 
        "       [ 1.26875089,  1.64799107,  1.49693841, -0.12999949],", 
        "       [ 1.21868535,  0.79283963,  0.94410137, -0.62717337]])"
       ]
      }
     ], 
     "prompt_number": 173
    }, 
    {
     "cell_type": "code", 
     "collapsed": false, 
     "input": [
      "np.where(arr > 0, 2, -2)"
     ], 
     "language": "python", 
     "outputs": [
      {
       "output_type": "pyout", 
       "prompt_number": 174, 
       "text": [
        "array([[-2,  2,  2, -2],", 
        "       [-2, -2, -2, -2],", 
        "       [ 2,  2,  2, -2],", 
        "       [ 2,  2,  2, -2]])"
       ]
      }
     ], 
     "prompt_number": 174
    }, 
    {
     "cell_type": "code", 
     "collapsed": false, 
     "input": [
      "np.where(arr > 0, 2, arr) #\u53ea\u5c06\u6b63\u503c\u8bbe\u7f6e\u4e3a2"
     ], 
     "language": "python", 
     "outputs": [
      {
       "output_type": "pyout", 
       "prompt_number": 176, 
       "text": [
        "array([[-0.91985485,  2.        ,  2.        , -0.23871474],", 
        "       [-0.60810623, -0.24326469, -0.57987566, -0.53263958],", 
        "       [ 2.        ,  2.        ,  2.        , -0.12999949],", 
        "       [ 2.        ,  2.        ,  2.        , -0.62717337]])"
       ]
      }
     ], 
     "prompt_number": 176
    }, 
    {
     "cell_type": "code", 
     "collapsed": true, 
     "input": [
      "#\u6570\u5b66\u548c\u7edf\u8ba1\u65b9\u6cd5"
     ], 
     "language": "python", 
     "outputs": [], 
     "prompt_number": 177
    }, 
    {
     "cell_type": "code", 
     "collapsed": false, 
     "input": [
      "arr = np.random.randn(5,4) #\u6b63\u6001\u5206\u5e03\u7684\u6570\u636e", 
      "arr"
     ], 
     "language": "python", 
     "outputs": [
      {
       "output_type": "pyout", 
       "prompt_number": 178, 
       "text": [
        "array([[-0.90396805,  1.21751448,  0.95200254,  0.75608879],", 
        "       [-0.23282254,  0.36974233,  2.27750079,  0.62821149],", 
        "       [ 0.28425026, -2.12953088,  1.96721189, -0.96514253],", 
        "       [ 0.39221082,  1.64413702, -0.82491002, -0.36950842],", 
        "       [-0.34671593,  0.80531244,  0.61109073, -1.26492428]])"
       ]
      }
     ], 
     "prompt_number": 178
    }, 
    {
     "cell_type": "code", 
     "collapsed": false, 
     "input": [
      "arr.mean()"
     ], 
     "language": "python", 
     "outputs": [
      {
       "output_type": "pyout", 
       "prompt_number": 179, 
       "text": [
        "0.24338754654533773"
       ]
      }
     ], 
     "prompt_number": 179
    }, 
    {
     "cell_type": "code", 
     "collapsed": false, 
     "input": [
      "np.mean(arr)"
     ], 
     "language": "python", 
     "outputs": [
      {
       "output_type": "pyout", 
       "prompt_number": 180, 
       "text": [
        "0.24338754654533773"
       ]
      }
     ], 
     "prompt_number": 180
    }, 
    {
     "cell_type": "code", 
     "collapsed": false, 
     "input": [
      "arr.sum()"
     ], 
     "language": "python", 
     "outputs": [
      {
       "output_type": "pyout", 
       "prompt_number": 181, 
       "text": [
        "4.8677509309067544"
       ]
      }
     ], 
     "prompt_number": 181
    }, 
    {
     "cell_type": "code", 
     "collapsed": true, 
     "input": [], 
     "language": "python", 
     "outputs": []
    }
   ]
  }
 ]
}