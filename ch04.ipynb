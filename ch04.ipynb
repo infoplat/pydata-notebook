{
 "metadata": {
  "name": "ch04"
 }, 
 "nbformat": 2, 
 "worksheets": [
  {
   "cells": [
    {
     "cell_type": "code", 
     "collapsed": true, 
     "input": [
      "#\u521b\u5efandarray", 
      "data1 = [6,7.5,8,0,1]", 
      "arr1 = np.array(data1)"
     ], 
     "language": "python", 
     "outputs": [], 
     "prompt_number": 250
    }, 
    {
     "cell_type": "code", 
     "collapsed": false, 
     "input": [
      "arr1"
     ], 
     "language": "python", 
     "outputs": [
      {
       "output_type": "pyout", 
       "prompt_number": 251, 
       "text": [
        "array([ 6. ,  7.5,  8. ,  0. ,  1. ])"
       ]
      }
     ], 
     "prompt_number": 251
    }, 
    {
     "cell_type": "code", 
     "collapsed": true, 
     "input": [
      "data2 = [[1,2,3,4], [5,6,7,8]]"
     ], 
     "language": "python", 
     "outputs": [], 
     "prompt_number": 252
    }, 
    {
     "cell_type": "code", 
     "collapsed": true, 
     "input": [
      "arr2 = np.array(data2)"
     ], 
     "language": "python", 
     "outputs": [], 
     "prompt_number": 253
    }, 
    {
     "cell_type": "code", 
     "collapsed": false, 
     "input": [
      "arr2"
     ], 
     "language": "python", 
     "outputs": [
      {
       "output_type": "pyout", 
       "prompt_number": 254, 
       "text": [
        "array([[1, 2, 3, 4],", 
        "       [5, 6, 7, 8]])"
       ]
      }
     ], 
     "prompt_number": 254
    }, 
    {
     "cell_type": "code", 
     "collapsed": false, 
     "input": [
      "arr2.ndim"
     ], 
     "language": "python", 
     "outputs": [
      {
       "output_type": "pyout", 
       "prompt_number": 255, 
       "text": [
        "2"
       ]
      }
     ], 
     "prompt_number": 255
    }, 
    {
     "cell_type": "code", 
     "collapsed": false, 
     "input": [
      "arr2.shape"
     ], 
     "language": "python", 
     "outputs": [
      {
       "output_type": "pyout", 
       "prompt_number": 256, 
       "text": [
        "(2, 4)"
       ]
      }
     ], 
     "prompt_number": 256
    }, 
    {
     "cell_type": "code", 
     "collapsed": false, 
     "input": [
      "arr1.dtype"
     ], 
     "language": "python", 
     "outputs": [
      {
       "output_type": "pyout", 
       "prompt_number": 257, 
       "text": [
        "dtype('float64')"
       ]
      }
     ], 
     "prompt_number": 257
    }, 
    {
     "cell_type": "code", 
     "collapsed": false, 
     "input": [
      "arr2.dtype"
     ], 
     "language": "python", 
     "outputs": [
      {
       "output_type": "pyout", 
       "prompt_number": 258, 
       "text": [
        "dtype('int32')"
       ]
      }
     ], 
     "prompt_number": 258
    }, 
    {
     "cell_type": "code", 
     "collapsed": false, 
     "input": [
      "np.zeros(10)"
     ], 
     "language": "python", 
     "outputs": [
      {
       "output_type": "pyout", 
       "prompt_number": 259, 
       "text": [
        "array([ 0.,  0.,  0.,  0.,  0.,  0.,  0.,  0.,  0.,  0.])"
       ]
      }
     ], 
     "prompt_number": 259
    }, 
    {
     "cell_type": "code", 
     "collapsed": false, 
     "input": [
      "np.zeros((3,6))"
     ], 
     "language": "python", 
     "outputs": [
      {
       "output_type": "pyout", 
       "prompt_number": 260, 
       "text": [
        "array([[ 0.,  0.,  0.,  0.,  0.,  0.],", 
        "       [ 0.,  0.,  0.,  0.,  0.,  0.],", 
        "       [ 0.,  0.,  0.,  0.,  0.,  0.]])"
       ]
      }
     ], 
     "prompt_number": 260
    }, 
    {
     "cell_type": "code", 
     "collapsed": false, 
     "input": [
      "np.empty((2,3,2))"
     ], 
     "language": "python", 
     "outputs": [
      {
       "output_type": "pyout", 
       "prompt_number": 261, 
       "text": [
        "array([[[  8.21630453e+005,   2.46845796e-130],", 
        "        [ -1.00498695e+047,  -2.88958188e-089],", 
        "        [  1.90723115e+083,   5.73293533e-053]],", 
        "", 
        "       [[ -2.33568637e+124,  -6.70608105e-012],", 
        "        [  4.42786966e+160,   1.27100354e+025],", 
        "        [ -5.42829139e+201,  -1.55632618e+066]]])"
       ]
      }
     ], 
     "prompt_number": 261
    }, 
    {
     "cell_type": "code", 
     "collapsed": true, 
     "input": [
      "#ndarray\u7684\u6570\u636e\u7c7b\u578b", 
      "arr1 = np.array([1,2,3], dtype=np.float64)", 
      "arr2 = np.array([1,2,3], dtype=np.int32)"
     ], 
     "language": "python", 
     "outputs": [], 
     "prompt_number": 262
    }, 
    {
     "cell_type": "code", 
     "collapsed": false, 
     "input": [
      "arr1.dtype"
     ], 
     "language": "python", 
     "outputs": [
      {
       "output_type": "pyout", 
       "prompt_number": 263, 
       "text": [
        "dtype('float64')"
       ]
      }
     ], 
     "prompt_number": 263
    }, 
    {
     "cell_type": "code", 
     "collapsed": false, 
     "input": [
      "arr2.dtype"
     ], 
     "language": "python", 
     "outputs": [
      {
       "output_type": "pyout", 
       "prompt_number": 264, 
       "text": [
        "dtype('int32')"
       ]
      }
     ], 
     "prompt_number": 264
    }, 
    {
     "cell_type": "code", 
     "collapsed": true, 
     "input": [
      "arr = np.array([1,2,3,4,5])"
     ], 
     "language": "python", 
     "outputs": [], 
     "prompt_number": 265
    }, 
    {
     "cell_type": "code", 
     "collapsed": false, 
     "input": [
      "arr"
     ], 
     "language": "python", 
     "outputs": [
      {
       "output_type": "pyout", 
       "prompt_number": 266, 
       "text": [
        "array([1, 2, 3, 4, 5])"
       ]
      }
     ], 
     "prompt_number": 266
    }, 
    {
     "cell_type": "code", 
     "collapsed": false, 
     "input": [
      "arr.dtype"
     ], 
     "language": "python", 
     "outputs": [
      {
       "output_type": "pyout", 
       "prompt_number": 267, 
       "text": [
        "dtype('int32')"
       ]
      }
     ], 
     "prompt_number": 267
    }, 
    {
     "cell_type": "code", 
     "collapsed": true, 
     "input": [
      "float_arr = arr.astype(np.float64)"
     ], 
     "language": "python", 
     "outputs": [], 
     "prompt_number": 268
    }, 
    {
     "cell_type": "code", 
     "collapsed": false, 
     "input": [
      "float_arr.dtype"
     ], 
     "language": "python", 
     "outputs": [
      {
       "output_type": "pyout", 
       "prompt_number": 269, 
       "text": [
        "dtype('float64')"
       ]
      }
     ], 
     "prompt_number": 269
    }, 
    {
     "cell_type": "code", 
     "collapsed": false, 
     "input": [
      "float_arr"
     ], 
     "language": "python", 
     "outputs": [
      {
       "output_type": "pyout", 
       "prompt_number": 270, 
       "text": [
        "array([ 1.,  2.,  3.,  4.,  5.])"
       ]
      }
     ], 
     "prompt_number": 270
    }, 
    {
     "cell_type": "code", 
     "collapsed": true, 
     "input": [
      "arr = np.array([3.7,-1.2,-2.6,0.5,12.9,10.1])"
     ], 
     "language": "python", 
     "outputs": [], 
     "prompt_number": 271
    }, 
    {
     "cell_type": "code", 
     "collapsed": false, 
     "input": [
      "arr"
     ], 
     "language": "python", 
     "outputs": [
      {
       "output_type": "pyout", 
       "prompt_number": 272, 
       "text": [
        "array([  3.7,  -1.2,  -2.6,   0.5,  12.9,  10.1])"
       ]
      }
     ], 
     "prompt_number": 272
    }, 
    {
     "cell_type": "code", 
     "collapsed": false, 
     "input": [
      "arr.astype(np.int32)"
     ], 
     "language": "python", 
     "outputs": [
      {
       "output_type": "pyout", 
       "prompt_number": 273, 
       "text": [
        "array([ 3, -1, -2,  0, 12, 10])"
       ]
      }
     ], 
     "prompt_number": 273
    }, 
    {
     "cell_type": "code", 
     "collapsed": true, 
     "input": [
      "numeric_strings = np.array(['1.25','-9.6','42'], dtype=np.string_)"
     ], 
     "language": "python", 
     "outputs": [], 
     "prompt_number": 274
    }, 
    {
     "cell_type": "code", 
     "collapsed": false, 
     "input": [
      "numeric_strings"
     ], 
     "language": "python", 
     "outputs": [
      {
       "output_type": "pyout", 
       "prompt_number": 275, 
       "text": [
        "array(['1.25', '-9.6', '42'], ", 
        "      dtype='|S4')"
       ]
      }
     ], 
     "prompt_number": 275
    }, 
    {
     "cell_type": "code", 
     "collapsed": false, 
     "input": [
      "numeric_strings.astype(float)"
     ], 
     "language": "python", 
     "outputs": [
      {
       "output_type": "pyout", 
       "prompt_number": 276, 
       "text": [
        "array([  1.25,  -9.6 ,  42.  ])"
       ]
      }
     ], 
     "prompt_number": 276
    }, 
    {
     "cell_type": "code", 
     "collapsed": false, 
     "input": [
      "numeric_strings.dtype"
     ], 
     "language": "python", 
     "outputs": [
      {
       "output_type": "pyout", 
       "prompt_number": 277, 
       "text": [
        "dtype('|S4')"
       ]
      }
     ], 
     "prompt_number": 277
    }, 
    {
     "cell_type": "code", 
     "collapsed": true, 
     "input": [
      "int_array = np.arange(10)"
     ], 
     "language": "python", 
     "outputs": [], 
     "prompt_number": 278
    }, 
    {
     "cell_type": "code", 
     "collapsed": false, 
     "input": [
      "int_array"
     ], 
     "language": "python", 
     "outputs": [
      {
       "output_type": "pyout", 
       "prompt_number": 279, 
       "text": [
        "array([0, 1, 2, 3, 4, 5, 6, 7, 8, 9])"
       ]
      }
     ], 
     "prompt_number": 279
    }, 
    {
     "cell_type": "code", 
     "collapsed": true, 
     "input": [
      "calibers = np.array([.22,.270,.357,.380,.44,.50], dtype=np.float64)"
     ], 
     "language": "python", 
     "outputs": [], 
     "prompt_number": 280
    }, 
    {
     "cell_type": "code", 
     "collapsed": false, 
     "input": [
      "int_array.astype(calibers.dtype)"
     ], 
     "language": "python", 
     "outputs": [
      {
       "output_type": "pyout", 
       "prompt_number": 281, 
       "text": [
        "array([ 0.,  1.,  2.,  3.,  4.,  5.,  6.,  7.,  8.,  9.])"
       ]
      }
     ], 
     "prompt_number": 281
    }, 
    {
     "cell_type": "code", 
     "collapsed": true, 
     "input": [
      "empty_unit32 = np.empty(8, dtype='u4')"
     ], 
     "language": "python", 
     "outputs": [], 
     "prompt_number": 282
    }, 
    {
     "cell_type": "code", 
     "collapsed": false, 
     "input": [
      "empty_unit32"
     ], 
     "language": "python", 
     "outputs": [
      {
       "output_type": "pyout", 
       "prompt_number": 283, 
       "text": [
        "array([ 40402140,  45911904,  84538720, 505549244,  45911904,  84538720,", 
        "        40125864,  80563352], dtype=uint32)"
       ]
      }
     ], 
     "prompt_number": 283
    }, 
    {
     "cell_type": "code", 
     "collapsed": true, 
     "input": [
      "#\u6570\u7ec4\u4e0e\u6807\u91cf\u4e4b\u95f4\u7684\u8fd0\u7b97", 
      "arr = np.array([[1.,2.,3.], [4.,5.,6.]])"
     ], 
     "language": "python", 
     "outputs": [], 
     "prompt_number": 284
    }, 
    {
     "cell_type": "code", 
     "collapsed": false, 
     "input": [
      "arr"
     ], 
     "language": "python", 
     "outputs": [
      {
       "output_type": "pyout", 
       "prompt_number": 285, 
       "text": [
        "array([[ 1.,  2.,  3.],", 
        "       [ 4.,  5.,  6.]])"
       ]
      }
     ], 
     "prompt_number": 285
    }, 
    {
     "cell_type": "code", 
     "collapsed": false, 
     "input": [
      "arr * arr"
     ], 
     "language": "python", 
     "outputs": [
      {
       "output_type": "pyout", 
       "prompt_number": 286, 
       "text": [
        "array([[  1.,   4.,   9.],", 
        "       [ 16.,  25.,  36.]])"
       ]
      }
     ], 
     "prompt_number": 286
    }, 
    {
     "cell_type": "code", 
     "collapsed": false, 
     "input": [
      "arr - arr"
     ], 
     "language": "python", 
     "outputs": [
      {
       "output_type": "pyout", 
       "prompt_number": 287, 
       "text": [
        "array([[ 0.,  0.,  0.],", 
        "       [ 0.,  0.,  0.]])"
       ]
      }
     ], 
     "prompt_number": 287
    }, 
    {
     "cell_type": "code", 
     "collapsed": false, 
     "input": [
      "1/arr"
     ], 
     "language": "python", 
     "outputs": [
      {
       "output_type": "pyout", 
       "prompt_number": 288, 
       "text": [
        "array([[ 1.        ,  0.5       ,  0.33333333],", 
        "       [ 0.25      ,  0.2       ,  0.16666667]])"
       ]
      }
     ], 
     "prompt_number": 288
    }, 
    {
     "cell_type": "code", 
     "collapsed": false, 
     "input": [
      "arr ** 0.5"
     ], 
     "language": "python", 
     "outputs": [
      {
       "output_type": "pyout", 
       "prompt_number": 289, 
       "text": [
        "array([[ 1.        ,  1.41421356,  1.73205081],", 
        "       [ 2.        ,  2.23606798,  2.44948974]])"
       ]
      }
     ], 
     "prompt_number": 289
    }, 
    {
     "cell_type": "code", 
     "collapsed": true, 
     "input": [
      "arr = np.arange(10)"
     ], 
     "language": "python", 
     "outputs": [], 
     "prompt_number": 290
    }, 
    {
     "cell_type": "code", 
     "collapsed": false, 
     "input": [
      "arr"
     ], 
     "language": "python", 
     "outputs": [
      {
       "output_type": "pyout", 
       "prompt_number": 291, 
       "text": [
        "array([0, 1, 2, 3, 4, 5, 6, 7, 8, 9])"
       ]
      }
     ], 
     "prompt_number": 291
    }, 
    {
     "cell_type": "code", 
     "collapsed": false, 
     "input": [
      "arr[5]"
     ], 
     "language": "python", 
     "outputs": [
      {
       "output_type": "pyout", 
       "prompt_number": 292, 
       "text": [
        "5"
       ]
      }
     ], 
     "prompt_number": 292
    }, 
    {
     "cell_type": "code", 
     "collapsed": false, 
     "input": [
      "arr[5:8]"
     ], 
     "language": "python", 
     "outputs": [
      {
       "output_type": "pyout", 
       "prompt_number": 293, 
       "text": [
        "array([5, 6, 7])"
       ]
      }
     ], 
     "prompt_number": 293
    }, 
    {
     "cell_type": "code", 
     "collapsed": true, 
     "input": [
      "arr[5:8] = 12"
     ], 
     "language": "python", 
     "outputs": [], 
     "prompt_number": 294
    }, 
    {
     "cell_type": "code", 
     "collapsed": false, 
     "input": [
      "arr"
     ], 
     "language": "python", 
     "outputs": [
      {
       "output_type": "pyout", 
       "prompt_number": 295, 
       "text": [
        "array([ 0,  1,  2,  3,  4, 12, 12, 12,  8,  9])"
       ]
      }
     ], 
     "prompt_number": 295
    }, 
    {
     "cell_type": "code", 
     "collapsed": true, 
     "input": [
      "arr_slice = arr[5:8]"
     ], 
     "language": "python", 
     "outputs": [], 
     "prompt_number": 296
    }, 
    {
     "cell_type": "code", 
     "collapsed": false, 
     "input": [
      "arr_slice"
     ], 
     "language": "python", 
     "outputs": [
      {
       "output_type": "pyout", 
       "prompt_number": 297, 
       "text": [
        "array([12, 12, 12])"
       ]
      }
     ], 
     "prompt_number": 297
    }, 
    {
     "cell_type": "code", 
     "collapsed": true, 
     "input": [
      "arr_slice[1] = 12345"
     ], 
     "language": "python", 
     "outputs": [], 
     "prompt_number": 298
    }, 
    {
     "cell_type": "code", 
     "collapsed": false, 
     "input": [
      "arr_slice"
     ], 
     "language": "python", 
     "outputs": [
      {
       "output_type": "pyout", 
       "prompt_number": 299, 
       "text": [
        "array([   12, 12345,    12])"
       ]
      }
     ], 
     "prompt_number": 299
    }, 
    {
     "cell_type": "code", 
     "collapsed": false, 
     "input": [
      "arr"
     ], 
     "language": "python", 
     "outputs": [
      {
       "output_type": "pyout", 
       "prompt_number": 300, 
       "text": [
        "array([    0,     1,     2,     3,     4,    12, 12345,    12,     8,     9])"
       ]
      }
     ], 
     "prompt_number": 300
    }, 
    {
     "cell_type": "code", 
     "collapsed": true, 
     "input": [
      "arr2d = np.array([[1,2,3],[4,5,6],[7,8,9]])"
     ], 
     "language": "python", 
     "outputs": [], 
     "prompt_number": 301
    }, 
    {
     "cell_type": "code", 
     "collapsed": false, 
     "input": [
      "arr2d"
     ], 
     "language": "python", 
     "outputs": [
      {
       "output_type": "pyout", 
       "prompt_number": 302, 
       "text": [
        "array([[1, 2, 3],", 
        "       [4, 5, 6],", 
        "       [7, 8, 9]])"
       ]
      }
     ], 
     "prompt_number": 302
    }, 
    {
     "cell_type": "code", 
     "collapsed": false, 
     "input": [
      "arr2d[2]"
     ], 
     "language": "python", 
     "outputs": [
      {
       "output_type": "pyout", 
       "prompt_number": 303, 
       "text": [
        "array([7, 8, 9])"
       ]
      }
     ], 
     "prompt_number": 303
    }, 
    {
     "cell_type": "code", 
     "collapsed": false, 
     "input": [
      "arr2d[0][2]"
     ], 
     "language": "python", 
     "outputs": [
      {
       "output_type": "pyout", 
       "prompt_number": 304, 
       "text": [
        "3"
       ]
      }
     ], 
     "prompt_number": 304
    }, 
    {
     "cell_type": "code", 
     "collapsed": false, 
     "input": [
      "arr2d[0,2]"
     ], 
     "language": "python", 
     "outputs": [
      {
       "output_type": "pyout", 
       "prompt_number": 305, 
       "text": [
        "3"
       ]
      }
     ], 
     "prompt_number": 305
    }, 
    {
     "cell_type": "code", 
     "collapsed": true, 
     "input": [
      "arr3d = np.array([[[1, 2, 3], [4, 5, 6]], [[7, 8, 9], [10, 11, 12]]])"
     ], 
     "language": "python", 
     "outputs": [], 
     "prompt_number": 306
    }, 
    {
     "cell_type": "code", 
     "collapsed": false, 
     "input": [
      "arr3d"
     ], 
     "language": "python", 
     "outputs": [
      {
       "output_type": "pyout", 
       "prompt_number": 307, 
       "text": [
        "array([[[ 1,  2,  3],", 
        "        [ 4,  5,  6]],", 
        "", 
        "       [[ 7,  8,  9],", 
        "        [10, 11, 12]]])"
       ]
      }
     ], 
     "prompt_number": 307
    }, 
    {
     "cell_type": "code", 
     "collapsed": false, 
     "input": [
      "arr3d[0]"
     ], 
     "language": "python", 
     "outputs": [
      {
       "output_type": "pyout", 
       "prompt_number": 308, 
       "text": [
        "array([[1, 2, 3],", 
        "       [4, 5, 6]])"
       ]
      }
     ], 
     "prompt_number": 308
    }, 
    {
     "cell_type": "code", 
     "collapsed": true, 
     "input": [
      "old_values = arr3d[0].copy()"
     ], 
     "language": "python", 
     "outputs": [], 
     "prompt_number": 309
    }, 
    {
     "cell_type": "code", 
     "collapsed": true, 
     "input": [
      "arr3d[0] = 42"
     ], 
     "language": "python", 
     "outputs": [], 
     "prompt_number": 310
    }, 
    {
     "cell_type": "code", 
     "collapsed": false, 
     "input": [
      "arr3d"
     ], 
     "language": "python", 
     "outputs": [
      {
       "output_type": "pyout", 
       "prompt_number": 311, 
       "text": [
        "array([[[42, 42, 42],", 
        "        [42, 42, 42]],", 
        "", 
        "       [[ 7,  8,  9],", 
        "        [10, 11, 12]]])"
       ]
      }
     ], 
     "prompt_number": 311
    }, 
    {
     "cell_type": "code", 
     "collapsed": true, 
     "input": [
      "arr3d[0] = old_values"
     ], 
     "language": "python", 
     "outputs": [], 
     "prompt_number": 312
    }, 
    {
     "cell_type": "code", 
     "collapsed": false, 
     "input": [
      "arr3d"
     ], 
     "language": "python", 
     "outputs": [
      {
       "output_type": "pyout", 
       "prompt_number": 313, 
       "text": [
        "array([[[ 1,  2,  3],", 
        "        [ 4,  5,  6]],", 
        "", 
        "       [[ 7,  8,  9],", 
        "        [10, 11, 12]]])"
       ]
      }
     ], 
     "prompt_number": 313
    }, 
    {
     "cell_type": "code", 
     "collapsed": false, 
     "input": [
      "arr3d[1,0]"
     ], 
     "language": "python", 
     "outputs": [
      {
       "output_type": "pyout", 
       "prompt_number": 314, 
       "text": [
        "array([7, 8, 9])"
       ]
      }
     ], 
     "prompt_number": 314
    }, 
    {
     "cell_type": "code", 
     "collapsed": false, 
     "input": [
      "arr[1:6]"
     ], 
     "language": "python", 
     "outputs": [
      {
       "output_type": "pyout", 
       "prompt_number": 315, 
       "text": [
        "array([ 1,  2,  3,  4, 12])"
       ]
      }
     ], 
     "prompt_number": 315
    }, 
    {
     "cell_type": "code", 
     "collapsed": false, 
     "input": [
      "arr2d"
     ], 
     "language": "python", 
     "outputs": [
      {
       "output_type": "pyout", 
       "prompt_number": 316, 
       "text": [
        "array([[1, 2, 3],", 
        "       [4, 5, 6],", 
        "       [7, 8, 9]])"
       ]
      }
     ], 
     "prompt_number": 316
    }, 
    {
     "cell_type": "code", 
     "collapsed": false, 
     "input": [
      "arr2d"
     ], 
     "language": "python", 
     "outputs": [
      {
       "output_type": "pyout", 
       "prompt_number": 317, 
       "text": [
        "array([[1, 2, 3],", 
        "       [4, 5, 6],", 
        "       [7, 8, 9]])"
       ]
      }
     ], 
     "prompt_number": 317
    }, 
    {
     "cell_type": "code", 
     "collapsed": false, 
     "input": [
      "arr2d[:2]"
     ], 
     "language": "python", 
     "outputs": [
      {
       "output_type": "pyout", 
       "prompt_number": 318, 
       "text": [
        "array([[1, 2, 3],", 
        "       [4, 5, 6]])"
       ]
      }
     ], 
     "prompt_number": 318
    }, 
    {
     "cell_type": "code", 
     "collapsed": false, 
     "input": [
      "arr2d[:2,:1]"
     ], 
     "language": "python", 
     "outputs": [
      {
       "output_type": "pyout", 
       "prompt_number": 319, 
       "text": [
        "array([[1],", 
        "       [4]])"
       ]
      }
     ], 
     "prompt_number": 319
    }, 
    {
     "cell_type": "code", 
     "collapsed": false, 
     "input": [
      "arr2d[1,:2]"
     ], 
     "language": "python", 
     "outputs": [
      {
       "output_type": "pyout", 
       "prompt_number": 320, 
       "text": [
        "array([4, 5])"
       ]
      }
     ], 
     "prompt_number": 320
    }, 
    {
     "cell_type": "code", 
     "collapsed": false, 
     "input": [
      "arr2d[2,:1]"
     ], 
     "language": "python", 
     "outputs": [
      {
       "output_type": "pyout", 
       "prompt_number": 321, 
       "text": [
        "array([7])"
       ]
      }
     ], 
     "prompt_number": 321
    }, 
    {
     "cell_type": "code", 
     "collapsed": false, 
     "input": [
      "arr2d[:, :1]"
     ], 
     "language": "python", 
     "outputs": [
      {
       "output_type": "pyout", 
       "prompt_number": 322, 
       "text": [
        "array([[1],", 
        "       [4],", 
        "       [7]])"
       ]
      }
     ], 
     "prompt_number": 322
    }, 
    {
     "cell_type": "code", 
     "collapsed": false, 
     "input": [
      "arr2d[:2,1:]"
     ], 
     "language": "python", 
     "outputs": [
      {
       "output_type": "pyout", 
       "prompt_number": 323, 
       "text": [
        "array([[2, 3],", 
        "       [5, 6]])"
       ]
      }
     ], 
     "prompt_number": 323
    }, 
    {
     "cell_type": "code", 
     "collapsed": true, 
     "input": [
      "arr2d[:2,1:] = 0"
     ], 
     "language": "python", 
     "outputs": [], 
     "prompt_number": 324
    }, 
    {
     "cell_type": "code", 
     "collapsed": false, 
     "input": [
      "arr2d"
     ], 
     "language": "python", 
     "outputs": [
      {
       "output_type": "pyout", 
       "prompt_number": 325, 
       "text": [
        "array([[1, 0, 0],", 
        "       [4, 0, 0],", 
        "       [7, 8, 9]])"
       ]
      }
     ], 
     "prompt_number": 325
    }, 
    {
     "cell_type": "code", 
     "collapsed": false, 
     "input": [
      "#\u5e03\u5c14\u578b\u7d22\u5f15", 
      "names = np.array(['Bob', 'Joe', 'Will', 'Bob', 'Will', 'Joe', 'Joe'])", 
      "names"
     ], 
     "language": "python", 
     "outputs": [
      {
       "output_type": "pyout", 
       "prompt_number": 326, 
       "text": [
        "array(['Bob', 'Joe', 'Will', 'Bob', 'Will', 'Joe', 'Joe'], ", 
        "      dtype='|S4')"
       ]
      }
     ], 
     "prompt_number": 326
    }, 
    {
     "cell_type": "code", 
     "collapsed": true, 
     "input": [
      "data = randn(7,4)"
     ], 
     "language": "python", 
     "outputs": [], 
     "prompt_number": 327
    }, 
    {
     "cell_type": "code", 
     "collapsed": false, 
     "input": [
      "data"
     ], 
     "language": "python", 
     "outputs": [
      {
       "output_type": "pyout", 
       "prompt_number": 328, 
       "text": [
        "array([[ 0.44405704,  0.57610767,  1.52038313, -0.24829258],", 
        "       [ 0.57941223,  0.26251226, -0.83111583, -1.56973853],", 
        "       [ 0.61100886, -2.92669524,  0.95457782,  1.01341105],", 
        "       [ 1.44944988,  0.24687777, -1.83503581, -0.51119365],", 
        "       [ 0.46406814, -0.89360658,  2.89791301,  0.53682347],", 
        "       [ 1.2391685 , -2.34491534, -0.44258578, -0.23413621],", 
        "       [-2.63106974,  1.53335479, -0.04072513, -0.03816763]])"
       ]
      }
     ], 
     "prompt_number": 328
    }, 
    {
     "cell_type": "code", 
     "collapsed": false, 
     "input": [
      "names == 'Bob'"
     ], 
     "language": "python", 
     "outputs": [
      {
       "output_type": "pyout", 
       "prompt_number": 329, 
       "text": [
        "array([ True, False, False,  True, False, False, False], dtype=bool)"
       ]
      }
     ], 
     "prompt_number": 329
    }, 
    {
     "cell_type": "code", 
     "collapsed": false, 
     "input": [
      "data[names == 'Bob']"
     ], 
     "language": "python", 
     "outputs": [
      {
       "output_type": "pyout", 
       "prompt_number": 330, 
       "text": [
        "array([[ 0.44405704,  0.57610767,  1.52038313, -0.24829258],", 
        "       [ 1.44944988,  0.24687777, -1.83503581, -0.51119365]])"
       ]
      }
     ], 
     "prompt_number": 330
    }, 
    {
     "cell_type": "code", 
     "collapsed": false, 
     "input": [
      "data[names == 'Bob', 2:]"
     ], 
     "language": "python", 
     "outputs": [
      {
       "output_type": "pyout", 
       "prompt_number": 331, 
       "text": [
        "array([[ 1.52038313, -0.24829258],", 
        "       [-1.83503581, -0.51119365]])"
       ]
      }
     ], 
     "prompt_number": 331
    }, 
    {
     "cell_type": "code", 
     "collapsed": false, 
     "input": [
      "data[names == 'Bob', 3]"
     ], 
     "language": "python", 
     "outputs": [
      {
       "output_type": "pyout", 
       "prompt_number": 332, 
       "text": [
        "array([-0.24829258, -0.51119365])"
       ]
      }
     ], 
     "prompt_number": 332
    }, 
    {
     "cell_type": "code", 
     "collapsed": false, 
     "input": [
      "names != 'Bob'"
     ], 
     "language": "python", 
     "outputs": [
      {
       "output_type": "pyout", 
       "prompt_number": 333, 
       "text": [
        "array([False,  True,  True, False,  True,  True,  True], dtype=bool)"
       ]
      }
     ], 
     "prompt_number": 333
    }, 
    {
     "cell_type": "code", 
     "collapsed": false, 
     "input": [
      "data[-(names == 'Bob')]"
     ], 
     "language": "python", 
     "outputs": [
      {
       "output_type": "pyout", 
       "prompt_number": 334, 
       "text": [
        "array([[ 0.57941223,  0.26251226, -0.83111583, -1.56973853],", 
        "       [ 0.61100886, -2.92669524,  0.95457782,  1.01341105],", 
        "       [ 0.46406814, -0.89360658,  2.89791301,  0.53682347],", 
        "       [ 1.2391685 , -2.34491534, -0.44258578, -0.23413621],", 
        "       [-2.63106974,  1.53335479, -0.04072513, -0.03816763]])"
       ]
      }
     ], 
     "prompt_number": 334
    }, 
    {
     "cell_type": "code", 
     "collapsed": true, 
     "input": [
      "mask = (names == 'Bob') | (names == 'Will')"
     ], 
     "language": "python", 
     "outputs": [], 
     "prompt_number": 335
    }, 
    {
     "cell_type": "code", 
     "collapsed": false, 
     "input": [
      "mask"
     ], 
     "language": "python", 
     "outputs": [
      {
       "output_type": "pyout", 
       "prompt_number": 336, 
       "text": [
        "array([ True, False,  True,  True,  True, False, False], dtype=bool)"
       ]
      }
     ], 
     "prompt_number": 336
    }, 
    {
     "cell_type": "code", 
     "collapsed": false, 
     "input": [
      "data[mask]"
     ], 
     "language": "python", 
     "outputs": [
      {
       "output_type": "pyout", 
       "prompt_number": 337, 
       "text": [
        "array([[ 0.44405704,  0.57610767,  1.52038313, -0.24829258],", 
        "       [ 0.61100886, -2.92669524,  0.95457782,  1.01341105],", 
        "       [ 1.44944988,  0.24687777, -1.83503581, -0.51119365],", 
        "       [ 0.46406814, -0.89360658,  2.89791301,  0.53682347]])"
       ]
      }
     ], 
     "prompt_number": 337
    }, 
    {
     "cell_type": "code", 
     "collapsed": false, 
     "input": [
      "data"
     ], 
     "language": "python", 
     "outputs": [
      {
       "output_type": "pyout", 
       "prompt_number": 338, 
       "text": [
        "array([[ 0.44405704,  0.57610767,  1.52038313, -0.24829258],", 
        "       [ 0.57941223,  0.26251226, -0.83111583, -1.56973853],", 
        "       [ 0.61100886, -2.92669524,  0.95457782,  1.01341105],", 
        "       [ 1.44944988,  0.24687777, -1.83503581, -0.51119365],", 
        "       [ 0.46406814, -0.89360658,  2.89791301,  0.53682347],", 
        "       [ 1.2391685 , -2.34491534, -0.44258578, -0.23413621],", 
        "       [-2.63106974,  1.53335479, -0.04072513, -0.03816763]])"
       ]
      }
     ], 
     "prompt_number": 338
    }, 
    {
     "cell_type": "code", 
     "collapsed": true, 
     "input": [
      "data[data < 0] = 0"
     ], 
     "language": "python", 
     "outputs": [], 
     "prompt_number": 339
    }, 
    {
     "cell_type": "code", 
     "collapsed": false, 
     "input": [
      "data"
     ], 
     "language": "python", 
     "outputs": [
      {
       "output_type": "pyout", 
       "prompt_number": 340, 
       "text": [
        "array([[ 0.44405704,  0.57610767,  1.52038313,  0.        ],", 
        "       [ 0.57941223,  0.26251226,  0.        ,  0.        ],", 
        "       [ 0.61100886,  0.        ,  0.95457782,  1.01341105],", 
        "       [ 1.44944988,  0.24687777,  0.        ,  0.        ],", 
        "       [ 0.46406814,  0.        ,  2.89791301,  0.53682347],", 
        "       [ 1.2391685 ,  0.        ,  0.        ,  0.        ],", 
        "       [ 0.        ,  1.53335479,  0.        ,  0.        ]])"
       ]
      }
     ], 
     "prompt_number": 340
    }, 
    {
     "cell_type": "code", 
     "collapsed": true, 
     "input": [
      "data[names != 'Joe'] = 7"
     ], 
     "language": "python", 
     "outputs": [], 
     "prompt_number": 341
    }, 
    {
     "cell_type": "code", 
     "collapsed": false, 
     "input": [
      "data"
     ], 
     "language": "python", 
     "outputs": [
      {
       "output_type": "pyout", 
       "prompt_number": 342, 
       "text": [
        "array([[ 7.        ,  7.        ,  7.        ,  7.        ],", 
        "       [ 0.57941223,  0.26251226,  0.        ,  0.        ],", 
        "       [ 7.        ,  7.        ,  7.        ,  7.        ],", 
        "       [ 7.        ,  7.        ,  7.        ,  7.        ],", 
        "       [ 7.        ,  7.        ,  7.        ,  7.        ],", 
        "       [ 1.2391685 ,  0.        ,  0.        ,  0.        ],", 
        "       [ 0.        ,  1.53335479,  0.        ,  0.        ]])"
       ]
      }
     ], 
     "prompt_number": 342
    }, 
    {
     "cell_type": "code", 
     "collapsed": true, 
     "input": [
      "arr = np.empty((8, 4))"
     ], 
     "language": "python", 
     "outputs": [], 
     "prompt_number": 343
    }, 
    {
     "cell_type": "code", 
     "collapsed": true, 
     "input": [
      "for i in range(8):", 
      "    arr[i] = i"
     ], 
     "language": "python", 
     "outputs": [], 
     "prompt_number": 344
    }, 
    {
     "cell_type": "code", 
     "collapsed": false, 
     "input": [
      "arr"
     ], 
     "language": "python", 
     "outputs": [
      {
       "output_type": "pyout", 
       "prompt_number": 345, 
       "text": [
        "array([[ 0.,  0.,  0.,  0.],", 
        "       [ 1.,  1.,  1.,  1.],", 
        "       [ 2.,  2.,  2.,  2.],", 
        "       [ 3.,  3.,  3.,  3.],", 
        "       [ 4.,  4.,  4.,  4.],", 
        "       [ 5.,  5.,  5.,  5.],", 
        "       [ 6.,  6.,  6.,  6.],", 
        "       [ 7.,  7.,  7.,  7.]])"
       ]
      }
     ], 
     "prompt_number": 345
    }, 
    {
     "cell_type": "code", 
     "collapsed": false, 
     "input": [
      "arr[[4,3,0,6]]"
     ], 
     "language": "python", 
     "outputs": [
      {
       "output_type": "pyout", 
       "prompt_number": 346, 
       "text": [
        "array([[ 4.,  4.,  4.,  4.],", 
        "       [ 3.,  3.,  3.,  3.],", 
        "       [ 0.,  0.,  0.,  0.],", 
        "       [ 6.,  6.,  6.,  6.]])"
       ]
      }
     ], 
     "prompt_number": 346
    }, 
    {
     "cell_type": "code", 
     "collapsed": false, 
     "input": [
      "arr[[-3,-5,-7]]"
     ], 
     "language": "python", 
     "outputs": [
      {
       "output_type": "pyout", 
       "prompt_number": 347, 
       "text": [
        "array([[ 5.,  5.,  5.,  5.],", 
        "       [ 3.,  3.,  3.,  3.],", 
        "       [ 1.,  1.,  1.,  1.]])"
       ]
      }
     ], 
     "prompt_number": 347
    }, 
    {
     "cell_type": "code", 
     "collapsed": true, 
     "input": [
      "#\u5173\u4e8ereshape\u7684\u77e5\u8bc6\u5c06\u5728\u7b2c12\u7ae0\u8bb2\u89e3", 
      "arr = np.arange(32).reshape((8, 4))"
     ], 
     "language": "python", 
     "outputs": [], 
     "prompt_number": 348
    }, 
    {
     "cell_type": "code", 
     "collapsed": false, 
     "input": [
      "arr"
     ], 
     "language": "python", 
     "outputs": [
      {
       "output_type": "pyout", 
       "prompt_number": 349, 
       "text": [
        "array([[ 0,  1,  2,  3],", 
        "       [ 4,  5,  6,  7],", 
        "       [ 8,  9, 10, 11],", 
        "       [12, 13, 14, 15],", 
        "       [16, 17, 18, 19],", 
        "       [20, 21, 22, 23],", 
        "       [24, 25, 26, 27],", 
        "       [28, 29, 30, 31]])"
       ]
      }
     ], 
     "prompt_number": 349
    }, 
    {
     "cell_type": "code", 
     "collapsed": false, 
     "input": [
      "#\u9009\u51fa\u7684\u5143\u7d20(1,0)\u3001(5,3)\u3001(7,1)\u548c(2,2)", 
      "arr[[1,5,7,2], [0,3,1,2]]"
     ], 
     "language": "python", 
     "outputs": [
      {
       "output_type": "pyout", 
       "prompt_number": 350, 
       "text": [
        "array([ 4, 23, 29, 10])"
       ]
      }
     ], 
     "prompt_number": 350
    }, 
    {
     "cell_type": "code", 
     "collapsed": false, 
     "input": [
      "#?\u4e0d\u660e\u767d", 
      "arr[[1,5,7,2]][:, [0,3,1,2]]"
     ], 
     "language": "python", 
     "outputs": [
      {
       "output_type": "pyout", 
       "prompt_number": 351, 
       "text": [
        "array([[ 4,  7,  5,  6],", 
        "       [20, 23, 21, 22],", 
        "       [28, 31, 29, 30],", 
        "       [ 8, 11,  9, 10]])"
       ]
      }
     ], 
     "prompt_number": 351
    }, 
    {
     "cell_type": "code", 
     "collapsed": false, 
     "input": [
      "#?\u4e0d\u660e\u767d", 
      "arr[np.ix_([1,5,7,2], [0,3,1,2])]"
     ], 
     "language": "python", 
     "outputs": [
      {
       "output_type": "pyout", 
       "prompt_number": 352, 
       "text": [
        "array([[ 4,  7,  5,  6],", 
        "       [20, 23, 21, 22],", 
        "       [28, 31, 29, 30],", 
        "       [ 8, 11,  9, 10]])"
       ]
      }
     ], 
     "prompt_number": 352
    }, 
    {
     "cell_type": "code", 
     "collapsed": true, 
     "input": [
      "#\u6570\u7ec4\u8f6c\u7f6e\u548c\u8f74\u5bf9\u6362", 
      "arr = np.arange(15).reshape((3, 5))"
     ], 
     "language": "python", 
     "outputs": [], 
     "prompt_number": 353
    }, 
    {
     "cell_type": "code", 
     "collapsed": false, 
     "input": [
      "arr"
     ], 
     "language": "python", 
     "outputs": [
      {
       "output_type": "pyout", 
       "prompt_number": 354, 
       "text": [
        "array([[ 0,  1,  2,  3,  4],", 
        "       [ 5,  6,  7,  8,  9],", 
        "       [10, 11, 12, 13, 14]])"
       ]
      }
     ], 
     "prompt_number": 354
    }, 
    {
     "cell_type": "code", 
     "collapsed": false, 
     "input": [
      "arr.T"
     ], 
     "language": "python", 
     "outputs": [
      {
       "output_type": "pyout", 
       "prompt_number": 355, 
       "text": [
        "array([[ 0,  5, 10],", 
        "       [ 1,  6, 11],", 
        "       [ 2,  7, 12],", 
        "       [ 3,  8, 13],", 
        "       [ 4,  9, 14]])"
       ]
      }
     ], 
     "prompt_number": 355
    }, 
    {
     "cell_type": "code", 
     "collapsed": true, 
     "input": [
      "arr = np.random.randn(6, 3)"
     ], 
     "language": "python", 
     "outputs": [], 
     "prompt_number": 356
    }, 
    {
     "cell_type": "code", 
     "collapsed": false, 
     "input": [
      "arr"
     ], 
     "language": "python", 
     "outputs": [
      {
       "output_type": "pyout", 
       "prompt_number": 357, 
       "text": [
        "array([[-0.7936587 ,  0.9806213 , -2.12715036],", 
        "       [ 0.24663835, -0.97315176, -0.4159762 ],", 
        "       [-0.05726402,  1.29405907,  1.99054344],", 
        "       [-0.96144617, -0.21893117, -1.91206716],", 
        "       [ 0.05484127,  1.21523824,  0.55886022],", 
        "       [ 0.63148609,  0.61768986,  0.81660116]])"
       ]
      }
     ], 
     "prompt_number": 357
    }, 
    {
     "cell_type": "code", 
     "collapsed": false, 
     "input": [
      "arr.T"
     ], 
     "language": "python", 
     "outputs": [
      {
       "output_type": "pyout", 
       "prompt_number": 358, 
       "text": [
        "array([[-0.7936587 ,  0.24663835, -0.05726402, -0.96144617,  0.05484127,", 
        "         0.63148609],", 
        "       [ 0.9806213 , -0.97315176,  1.29405907, -0.21893117,  1.21523824,", 
        "         0.61768986],", 
        "       [-2.12715036, -0.4159762 ,  1.99054344, -1.91206716,  0.55886022,", 
        "         0.81660116]])"
       ]
      }
     ], 
     "prompt_number": 358
    }, 
    {
     "cell_type": "code", 
     "collapsed": false, 
     "input": [
      "np.dot(arr.T, arr)"
     ], 
     "language": "python", 
     "outputs": [
      {
       "output_type": "pyout", 
       "prompt_number": 359, 
       "text": [
        "array([[  2.02016477,  -0.4251999 ,   3.85631971],", 
        "       [ -0.4251999 ,   5.48950696,   2.49692548],", 
        "       [  3.85631971,   2.49692548,  13.29523106]])"
       ]
      }
     ], 
     "prompt_number": 359
    }, 
    {
     "cell_type": "code", 
     "collapsed": true, 
     "input": [
      "arr = np.arange(16).reshape((2, 2, 4))"
     ], 
     "language": "python", 
     "outputs": [], 
     "prompt_number": 360
    }, 
    {
     "cell_type": "code", 
     "collapsed": false, 
     "input": [
      "arr"
     ], 
     "language": "python", 
     "outputs": [
      {
       "output_type": "pyout", 
       "prompt_number": 361, 
       "text": [
        "array([[[ 0,  1,  2,  3],", 
        "        [ 4,  5,  6,  7]],", 
        "", 
        "       [[ 8,  9, 10, 11],", 
        "        [12, 13, 14, 15]]])"
       ]
      }
     ], 
     "prompt_number": 361
    }, 
    {
     "cell_type": "code", 
     "collapsed": false, 
     "input": [
      "arr.transpose((1, 0, 2))"
     ], 
     "language": "python", 
     "outputs": [
      {
       "output_type": "pyout", 
       "prompt_number": 362, 
       "text": [
        "array([[[ 0,  1,  2,  3],", 
        "        [ 8,  9, 10, 11]],", 
        "", 
        "       [[ 4,  5,  6,  7],", 
        "        [12, 13, 14, 15]]])"
       ]
      }
     ], 
     "prompt_number": 362
    }, 
    {
     "cell_type": "code", 
     "collapsed": false, 
     "input": [
      "arr"
     ], 
     "language": "python", 
     "outputs": [
      {
       "output_type": "pyout", 
       "prompt_number": 363, 
       "text": [
        "array([[[ 0,  1,  2,  3],", 
        "        [ 4,  5,  6,  7]],", 
        "", 
        "       [[ 8,  9, 10, 11],", 
        "        [12, 13, 14, 15]]])"
       ]
      }
     ], 
     "prompt_number": 363
    }, 
    {
     "cell_type": "code", 
     "collapsed": false, 
     "input": [
      "arr.swapaxes(1,2 )"
     ], 
     "language": "python", 
     "outputs": [
      {
       "output_type": "pyout", 
       "prompt_number": 364, 
       "text": [
        "array([[[ 0,  4],", 
        "        [ 1,  5],", 
        "        [ 2,  6],", 
        "        [ 3,  7]],", 
        "", 
        "       [[ 8, 12],", 
        "        [ 9, 13],", 
        "        [10, 14],", 
        "        [11, 15]]])"
       ]
      }
     ], 
     "prompt_number": 364
    }, 
    {
     "cell_type": "code", 
     "collapsed": false, 
     "input": [
      "#\u901a\u7528\u51fd\u6570\uff1a\u5feb\u901f\u7684\u5143\u7d20\u7ea7\u6570\u7ec4\u51fd\u6570", 
      "arr = np.arange(10)", 
      "arr"
     ], 
     "language": "python", 
     "outputs": [
      {
       "output_type": "pyout", 
       "prompt_number": 365, 
       "text": [
        "array([0, 1, 2, 3, 4, 5, 6, 7, 8, 9])"
       ]
      }
     ], 
     "prompt_number": 365
    }, 
    {
     "cell_type": "code", 
     "collapsed": false, 
     "input": [
      "#\u5e73\u65b9\u6839\u51fd\u6570", 
      "np.sqrt(arr)"
     ], 
     "language": "python", 
     "outputs": [
      {
       "output_type": "pyout", 
       "prompt_number": 366, 
       "text": [
        "array([ 0.        ,  1.        ,  1.41421356,  1.73205081,  2.        ,", 
        "        2.23606798,  2.44948974,  2.64575131,  2.82842712,  3.        ])"
       ]
      }
     ], 
     "prompt_number": 366
    }, 
    {
     "cell_type": "code", 
     "collapsed": false, 
     "input": [
      "np.exp(arr)"
     ], 
     "language": "python", 
     "outputs": [
      {
       "output_type": "pyout", 
       "prompt_number": 367, 
       "text": [
        "array([  1.00000000e+00,   2.71828183e+00,   7.38905610e+00,", 
        "         2.00855369e+01,   5.45981500e+01,   1.48413159e+02,", 
        "         4.03428793e+02,   1.09663316e+03,   2.98095799e+03,", 
        "         8.10308393e+03])"
       ]
      }
     ], 
     "prompt_number": 367
    }, 
    {
     "cell_type": "code", 
     "collapsed": true, 
     "input": [
      "x = randn(8)"
     ], 
     "language": "python", 
     "outputs": [], 
     "prompt_number": 368
    }, 
    {
     "cell_type": "code", 
     "collapsed": true, 
     "input": [
      "y = randn(8)"
     ], 
     "language": "python", 
     "outputs": [], 
     "prompt_number": 369
    }, 
    {
     "cell_type": "code", 
     "collapsed": false, 
     "input": [
      "x"
     ], 
     "language": "python", 
     "outputs": [
      {
       "output_type": "pyout", 
       "prompt_number": 370, 
       "text": [
        "array([-1.03372096,  0.58058603,  0.3811642 , -0.41577369,  0.47842825,", 
        "        1.47647266,  0.50504682, -1.50005507])"
       ]
      }
     ], 
     "prompt_number": 370
    }, 
    {
     "cell_type": "code", 
     "collapsed": false, 
     "input": [
      "y"
     ], 
     "language": "python", 
     "outputs": [
      {
       "output_type": "pyout", 
       "prompt_number": 371, 
       "text": [
        "array([-1.66308843,  1.88595828,  1.55354341, -0.23775426,  0.93496749,", 
        "       -0.72824995,  0.62721391,  0.64657545])"
       ]
      }
     ], 
     "prompt_number": 371
    }, 
    {
     "cell_type": "code", 
     "collapsed": false, 
     "input": [
      "#\u5143\u7d20\u7ea7\u6700\u5927\u503c", 
      "np.maximum(x, y)"
     ], 
     "language": "python", 
     "outputs": [
      {
       "output_type": "pyout", 
       "prompt_number": 372, 
       "text": [
        "array([-1.03372096,  1.88595828,  1.55354341, -0.23775426,  0.93496749,", 
        "        1.47647266,  0.62721391,  0.64657545])"
       ]
      }
     ], 
     "prompt_number": 372
    }, 
    {
     "cell_type": "code", 
     "collapsed": true, 
     "input": [
      "arr = randn(7) * 5"
     ], 
     "language": "python", 
     "outputs": [], 
     "prompt_number": 373
    }, 
    {
     "cell_type": "code", 
     "collapsed": false, 
     "input": [
      "arr"
     ], 
     "language": "python", 
     "outputs": [
      {
       "output_type": "pyout", 
       "prompt_number": 374, 
       "text": [
        "array([-7.37413356, -2.46256242, -0.11883365, -1.04983635, -0.11141851,", 
        "        8.15087816, -0.23408825])"
       ]
      }
     ], 
     "prompt_number": 374
    }, 
    {
     "cell_type": "code", 
     "collapsed": false, 
     "input": [
      "np.modf(arr)"
     ], 
     "language": "python", 
     "outputs": [
      {
       "output_type": "pyout", 
       "prompt_number": 375, 
       "text": [
        "(array([-0.37413356, -0.46256242, -0.11883365, -0.04983635, -0.11141851,", 
        "        0.15087816, -0.23408825]),", 
        " array([-7., -2., -0., -1., -0.,  8., -0.]))"
       ]
      }
     ], 
     "prompt_number": 375
    }, 
    {
     "cell_type": "code", 
     "collapsed": true, 
     "input": [
      "#\u5229\u7528\u6570\u7ec4\u8fdb\u884c\u6570\u636e\u5904\u7406", 
      "points = np.arange(-5,5,0.01) #1000\u4e2a\u95f4\u9694\u76f8\u7b49\u7684\u70b9"
     ], 
     "language": "python", 
     "outputs": [], 
     "prompt_number": 376
    }, 
    {
     "cell_type": "code", 
     "collapsed": true, 
     "input": [
      "xs, ys = np.meshgrid(points, points)"
     ], 
     "language": "python", 
     "outputs": [], 
     "prompt_number": 377
    }, 
    {
     "cell_type": "code", 
     "collapsed": false, 
     "input": [
      "ys"
     ], 
     "language": "python", 
     "outputs": [
      {
       "output_type": "pyout", 
       "prompt_number": 378, 
       "text": [
        "array([[-5.  , -5.  , -5.  , ..., -5.  , -5.  , -5.  ],", 
        "       [-4.99, -4.99, -4.99, ..., -4.99, -4.99, -4.99],", 
        "       [-4.98, -4.98, -4.98, ..., -4.98, -4.98, -4.98],", 
        "       ..., ", 
        "       [ 4.97,  4.97,  4.97, ...,  4.97,  4.97,  4.97],", 
        "       [ 4.98,  4.98,  4.98, ...,  4.98,  4.98,  4.98],", 
        "       [ 4.99,  4.99,  4.99, ...,  4.99,  4.99,  4.99]])"
       ]
      }
     ], 
     "prompt_number": 378
    }, 
    {
     "cell_type": "code", 
     "collapsed": false, 
     "input": [
      "xs"
     ], 
     "language": "python", 
     "outputs": [
      {
       "output_type": "pyout", 
       "prompt_number": 379, 
       "text": [
        "array([[-5.  , -4.99, -4.98, ...,  4.97,  4.98,  4.99],", 
        "       [-5.  , -4.99, -4.98, ...,  4.97,  4.98,  4.99],", 
        "       [-5.  , -4.99, -4.98, ...,  4.97,  4.98,  4.99],", 
        "       ..., ", 
        "       [-5.  , -4.99, -4.98, ...,  4.97,  4.98,  4.99],", 
        "       [-5.  , -4.99, -4.98, ...,  4.97,  4.98,  4.99],", 
        "       [-5.  , -4.99, -4.98, ...,  4.97,  4.98,  4.99]])"
       ]
      }
     ], 
     "prompt_number": 379
    }, 
    {
     "cell_type": "code", 
     "collapsed": true, 
     "input": [
      "import matplotlib.pyplot as plt"
     ], 
     "language": "python", 
     "outputs": [], 
     "prompt_number": 380
    }, 
    {
     "cell_type": "code", 
     "collapsed": true, 
     "input": [
      "z = np.sqrt(xs ** 2 + ys ** 2)"
     ], 
     "language": "python", 
     "outputs": [], 
     "prompt_number": 381
    }, 
    {
     "cell_type": "code", 
     "collapsed": false, 
     "input": [
      "z"
     ], 
     "language": "python", 
     "outputs": [
      {
       "output_type": "pyout", 
       "prompt_number": 382, 
       "text": [
        "array([[ 7.07106781,  7.06400028,  7.05693985, ...,  7.04988652,", 
        "         7.05693985,  7.06400028],", 
        "       [ 7.06400028,  7.05692568,  7.04985815, ...,  7.04279774,", 
        "         7.04985815,  7.05692568],", 
        "       [ 7.05693985,  7.04985815,  7.04278354, ...,  7.03571603,", 
        "         7.04278354,  7.04985815],", 
        "       ..., ", 
        "       [ 7.04988652,  7.04279774,  7.03571603, ...,  7.0286414 ,", 
        "         7.03571603,  7.04279774],", 
        "       [ 7.05693985,  7.04985815,  7.04278354, ...,  7.03571603,", 
        "         7.04278354,  7.04985815],", 
        "       [ 7.06400028,  7.05692568,  7.04985815, ...,  7.04279774,", 
        "         7.04985815,  7.05692568]])"
       ]
      }
     ], 
     "prompt_number": 382
    }, 
    {
     "cell_type": "code", 
     "collapsed": false, 
     "input": [
      "#\u6839\u636e\u7f51\u683c\u5bf9\u51fd\u6570\u6c42\u503c\u7684\u7ed3\u679c", 
      "plt.imshow(z, cmap=plt.cm.gray)", 
      "plt.colorbar()", 
      "plt.title(\"Image plot of $\\sqrt{x^2 + y^2}$ for a grid of values\")"
     ], 
     "language": "python", 
     "outputs": [
      {
       "output_type": "pyout", 
       "prompt_number": 383, 
       "text": [
        "<matplotlib.text.Text at 0x50d2c50>"
       ]
      }, 
      {
       "output_type": "display_data", 
       "png": "[encoded data removed]"
      }
     ], 
     "prompt_number": 383
    }, 
    {
     "cell_type": "code", 
     "collapsed": true, 
     "input": [
      "#\u5c06\u6761\u4ef6\u903b\u8f91\u8868\u8ff0\u4e3a\u6570\u7ec4\u8fd0\u7b97", 
      "xarr = np.array([1.1,1.2,1.3,1.4,1.5])", 
      "yarr = np.array([2.1,2.2,2.3,2.4,2.5])", 
      "cond = np.array([True,False,True,True,False])"
     ], 
     "language": "python", 
     "outputs": [], 
     "prompt_number": 384
    }, 
    {
     "cell_type": "code", 
     "collapsed": true, 
     "input": [
      "#\u5217\u8868\u63a8\u5bfc\u5f0f\u5199\u6cd5", 
      "result = [(x if c else y)", 
      "          for x,y,c in zip(xarr,yarr,cond)]"
     ], 
     "language": "python", 
     "outputs": [], 
     "prompt_number": 385
    }, 
    {
     "cell_type": "code", 
     "collapsed": false, 
     "input": [
      "result"
     ], 
     "language": "python", 
     "outputs": [
      {
       "output_type": "pyout", 
       "prompt_number": 386, 
       "text": [
        "[1.1000000000000001, 2.2000000000000002, 1.3, 1.3999999999999999, 2.5]"
       ]
      }
     ], 
     "prompt_number": 386
    }, 
    {
     "cell_type": "code", 
     "collapsed": true, 
     "input": [
      "#\u4f7f\u7528np\u7684where\u51fd\u6570\uff0c\u975e\u5e38\u7b80\u6d01", 
      "result = np.where(cond, xarr, yarr)"
     ], 
     "language": "python", 
     "outputs": [], 
     "prompt_number": 387
    }, 
    {
     "cell_type": "code", 
     "collapsed": false, 
     "input": [
      "result"
     ], 
     "language": "python", 
     "outputs": [
      {
       "output_type": "pyout", 
       "prompt_number": 388, 
       "text": [
        "array([ 1.1,  2.2,  1.3,  1.4,  2.5])"
       ]
      }
     ], 
     "prompt_number": 388
    }, 
    {
     "cell_type": "code", 
     "collapsed": true, 
     "input": [
      "arr = randn(4,4)"
     ], 
     "language": "python", 
     "outputs": [], 
     "prompt_number": 389
    }, 
    {
     "cell_type": "code", 
     "collapsed": false, 
     "input": [
      "arr"
     ], 
     "language": "python", 
     "outputs": [
      {
       "output_type": "pyout", 
       "prompt_number": 390, 
       "text": [
        "array([[-0.66421439, -0.02592389, -0.05732857, -0.1758756 ],", 
        "       [ 0.20086248, -0.15460383, -0.37149438, -0.11425315],", 
        "       [-1.70775435,  0.28031337,  1.92196246, -1.0296791 ],", 
        "       [ 1.67139732, -2.34762058, -0.70319873, -0.85880136]])"
       ]
      }
     ], 
     "prompt_number": 390
    }, 
    {
     "cell_type": "code", 
     "collapsed": false, 
     "input": [
      "np.where(arr > 0, 2, -2)"
     ], 
     "language": "python", 
     "outputs": [
      {
       "output_type": "pyout", 
       "prompt_number": 391, 
       "text": [
        "array([[-2, -2, -2, -2],", 
        "       [ 2, -2, -2, -2],", 
        "       [-2,  2,  2, -2],", 
        "       [ 2, -2, -2, -2]])"
       ]
      }
     ], 
     "prompt_number": 391
    }, 
    {
     "cell_type": "code", 
     "collapsed": false, 
     "input": [
      "np.where(arr > 0, 2, arr) #\u53ea\u5c06\u6b63\u503c\u8bbe\u7f6e\u4e3a2"
     ], 
     "language": "python", 
     "outputs": [
      {
       "output_type": "pyout", 
       "prompt_number": 392, 
       "text": [
        "array([[-0.66421439, -0.02592389, -0.05732857, -0.1758756 ],", 
        "       [ 2.        , -0.15460383, -0.37149438, -0.11425315],", 
        "       [-1.70775435,  2.        ,  2.        , -1.0296791 ],", 
        "       [ 2.        , -2.34762058, -0.70319873, -0.85880136]])"
       ]
      }
     ], 
     "prompt_number": 392
    }, 
    {
     "cell_type": "code", 
     "collapsed": true, 
     "input": [
      "#\u6570\u5b66\u548c\u7edf\u8ba1\u65b9\u6cd5"
     ], 
     "language": "python", 
     "outputs": [], 
     "prompt_number": 393
    }, 
    {
     "cell_type": "code", 
     "collapsed": false, 
     "input": [
      "arr = np.random.randn(5,4) #\u6b63\u6001\u5206\u5e03\u7684\u6570\u636e", 
      "arr"
     ], 
     "language": "python", 
     "outputs": [
      {
       "output_type": "pyout", 
       "prompt_number": 394, 
       "text": [
        "array([[ 0.98325018,  0.08540653,  0.73777381,  0.38637142],", 
        "       [ 0.07081603, -1.10958786,  0.887479  , -0.08187725],", 
        "       [-1.16013111,  0.65849139,  0.39628797,  0.12342924],", 
        "       [ 0.09982808, -0.87235342, -0.29678739,  0.61148084],", 
        "       [-0.36411501, -0.79379063, -2.00776037, -0.52709444]])"
       ]
      }
     ], 
     "prompt_number": 394
    }, 
    {
     "cell_type": "code", 
     "collapsed": false, 
     "input": [
      "arr.mean()"
     ], 
     "language": "python", 
     "outputs": [
      {
       "output_type": "pyout", 
       "prompt_number": 395, 
       "text": [
        "-0.10864415091611659"
       ]
      }
     ], 
     "prompt_number": 395
    }, 
    {
     "cell_type": "code", 
     "collapsed": false, 
     "input": [
      "np.mean(arr)"
     ], 
     "language": "python", 
     "outputs": [
      {
       "output_type": "pyout", 
       "prompt_number": 396, 
       "text": [
        "-0.10864415091611659"
       ]
      }
     ], 
     "prompt_number": 396
    }, 
    {
     "cell_type": "code", 
     "collapsed": false, 
     "input": [
      "arr.sum()"
     ], 
     "language": "python", 
     "outputs": [
      {
       "output_type": "pyout", 
       "prompt_number": 397, 
       "text": [
        "-2.1728830183223318"
       ]
      }
     ], 
     "prompt_number": 397
    }, 
    {
     "cell_type": "code", 
     "collapsed": false, 
     "input": [
      "arr.mean(axis=1)"
     ], 
     "language": "python", 
     "outputs": [
      {
       "output_type": "pyout", 
       "prompt_number": 398, 
       "text": [
        "array([ 0.54820048, -0.05829252,  0.00451937, -0.11445798, -0.92319011])"
       ]
      }
     ], 
     "prompt_number": 398
    }, 
    {
     "cell_type": "code", 
     "collapsed": false, 
     "input": [
      "arr.sum(0)"
     ], 
     "language": "python", 
     "outputs": [
      {
       "output_type": "pyout", 
       "prompt_number": 399, 
       "text": [
        "array([-0.37035185, -2.03183399, -0.28300698,  0.5123098 ])"
       ]
      }
     ], 
     "prompt_number": 399
    }, 
    {
     "cell_type": "code", 
     "collapsed": true, 
     "input": [
      "arr = np.array([[0,1,2], [3,4,5], [6,7,8]])"
     ], 
     "language": "python", 
     "outputs": [], 
     "prompt_number": 400
    }, 
    {
     "cell_type": "code", 
     "collapsed": false, 
     "input": [
      "arr"
     ], 
     "language": "python", 
     "outputs": [
      {
       "output_type": "pyout", 
       "prompt_number": 401, 
       "text": [
        "array([[0, 1, 2],", 
        "       [3, 4, 5],", 
        "       [6, 7, 8]])"
       ]
      }
     ], 
     "prompt_number": 401
    }, 
    {
     "cell_type": "code", 
     "collapsed": false, 
     "input": [
      "#\u6240\u6709\u5143\u7d20\u7684\u7d2f\u8ba1\u548c", 
      "arr.cumsum(0)"
     ], 
     "language": "python", 
     "outputs": [
      {
       "output_type": "pyout", 
       "prompt_number": 402, 
       "text": [
        "array([[ 0,  1,  2],", 
        "       [ 3,  5,  7],", 
        "       [ 9, 12, 15]])"
       ]
      }
     ], 
     "prompt_number": 402
    }, 
    {
     "cell_type": "code", 
     "collapsed": false, 
     "input": [
      "#\u6240\u6709\u5143\u7d20\u7684\u7d2f\u8ba1\u79ef", 
      "arr.cumprod(1)"
     ], 
     "language": "python", 
     "outputs": [
      {
       "output_type": "pyout", 
       "prompt_number": 403, 
       "text": [
        "array([[  0,   0,   0],", 
        "       [  3,  12,  60],", 
        "       [  6,  42, 336]])"
       ]
      }
     ], 
     "prompt_number": 403
    }, 
    {
     "cell_type": "code", 
     "collapsed": true, 
     "input": [
      "#\u7528\u4e8e\u5e03\u5c14\u578b\u6570\u7ec4\u7684\u65b9\u6cd5"
     ], 
     "language": "python", 
     "outputs": [], 
     "prompt_number": 404
    }, 
    {
     "cell_type": "code", 
     "collapsed": true, 
     "input": [
      "arr = randn(100)"
     ], 
     "language": "python", 
     "outputs": [], 
     "prompt_number": 405
    }, 
    {
     "cell_type": "code", 
     "collapsed": false, 
     "input": [
      "(arr > 0).sum() # \u6b63\u503c\u7684\u6570\u636e"
     ], 
     "language": "python", 
     "outputs": [
      {
       "output_type": "pyout", 
       "prompt_number": 406, 
       "text": [
        "54"
       ]
      }
     ], 
     "prompt_number": 406
    }, 
    {
     "cell_type": "code", 
     "collapsed": true, 
     "input": [
      "bools = np.array([False, False, True, False])"
     ], 
     "language": "python", 
     "outputs": [], 
     "prompt_number": 407
    }, 
    {
     "cell_type": "code", 
     "collapsed": false, 
     "input": [
      "bools.any()"
     ], 
     "language": "python", 
     "outputs": [
      {
       "output_type": "pyout", 
       "prompt_number": 408, 
       "text": [
        "True"
       ]
      }
     ], 
     "prompt_number": 408
    }, 
    {
     "cell_type": "code", 
     "collapsed": false, 
     "input": [
      "bools.all()"
     ], 
     "language": "python", 
     "outputs": [
      {
       "output_type": "pyout", 
       "prompt_number": 409, 
       "text": [
        "False"
       ]
      }
     ], 
     "prompt_number": 409
    }, 
    {
     "cell_type": "code", 
     "collapsed": true, 
     "input": [
      "arr = randn(8)"
     ], 
     "language": "python", 
     "outputs": [], 
     "prompt_number": 410
    }, 
    {
     "cell_type": "code", 
     "collapsed": false, 
     "input": [
      "arr"
     ], 
     "language": "python", 
     "outputs": [
      {
       "output_type": "pyout", 
       "prompt_number": 411, 
       "text": [
        "array([-0.27440085, -1.33294036, -1.09675881, -0.97306468,  0.22142574,", 
        "       -1.28021669,  0.20442305, -0.6045713 ])"
       ]
      }
     ], 
     "prompt_number": 411
    }, 
    {
     "cell_type": "code", 
     "collapsed": true, 
     "input": [
      "arr.sort()"
     ], 
     "language": "python", 
     "outputs": [], 
     "prompt_number": 412
    }, 
    {
     "cell_type": "code", 
     "collapsed": false, 
     "input": [
      "arr"
     ], 
     "language": "python", 
     "outputs": [
      {
       "output_type": "pyout", 
       "prompt_number": 413, 
       "text": [
        "array([-1.33294036, -1.28021669, -1.09675881, -0.97306468, -0.6045713 ,", 
        "       -0.27440085,  0.20442305,  0.22142574])"
       ]
      }
     ], 
     "prompt_number": 413
    }, 
    {
     "cell_type": "code", 
     "collapsed": true, 
     "input": [
      "arr = randn(5, 3)"
     ], 
     "language": "python", 
     "outputs": [], 
     "prompt_number": 414
    }, 
    {
     "cell_type": "code", 
     "collapsed": false, 
     "input": [
      "arr"
     ], 
     "language": "python", 
     "outputs": [
      {
       "output_type": "pyout", 
       "prompt_number": 415, 
       "text": [
        "array([[-1.64658258, -0.02628353,  0.7171296 ],", 
        "       [ 0.21809706, -0.95557005, -0.2048276 ],", 
        "       [-0.07219494,  0.31872806, -1.02167239],", 
        "       [-0.23190005,  1.34658763,  0.1998417 ],", 
        "       [-1.08454856,  0.95395686, -0.31660591]])"
       ]
      }
     ], 
     "prompt_number": 415
    }, 
    {
     "cell_type": "code", 
     "collapsed": true, 
     "input": [
      "arr.sort(1)"
     ], 
     "language": "python", 
     "outputs": [], 
     "prompt_number": 416
    }, 
    {
     "cell_type": "code", 
     "collapsed": false, 
     "input": [
      "arr"
     ], 
     "language": "python", 
     "outputs": [
      {
       "output_type": "pyout", 
       "prompt_number": 417, 
       "text": [
        "array([[-1.64658258, -0.02628353,  0.7171296 ],", 
        "       [-0.95557005, -0.2048276 ,  0.21809706],", 
        "       [-1.02167239, -0.07219494,  0.31872806],", 
        "       [-0.23190005,  0.1998417 ,  1.34658763],", 
        "       [-1.08454856, -0.31660591,  0.95395686]])"
       ]
      }
     ], 
     "prompt_number": 417
    }, 
    {
     "cell_type": "code", 
     "collapsed": true, 
     "input": [
      "large_arr = randn(1000)"
     ], 
     "language": "python", 
     "outputs": [], 
     "prompt_number": 418
    }, 
    {
     "cell_type": "code", 
     "collapsed": true, 
     "input": [
      "large_arr.sort()"
     ], 
     "language": "python", 
     "outputs": [], 
     "prompt_number": 419
    }, 
    {
     "cell_type": "code", 
     "collapsed": false, 
     "input": [
      "large_arr[int(0.05 * len(large_arr))] #%5\u5206\u4f4d\u6570"
     ], 
     "language": "python", 
     "outputs": [
      {
       "output_type": "pyout", 
       "prompt_number": 420, 
       "text": [
        "-1.5537871780393746"
       ]
      }
     ], 
     "prompt_number": 420
    }, 
    {
     "cell_type": "code", 
     "collapsed": true, 
     "input": [
      "#\u552f\u4e00\u5316\u4ee5\u53ca\u5176\u4ed6\u7684\u96c6\u5408\u903b\u8f91"
     ], 
     "language": "python", 
     "outputs": [], 
     "prompt_number": 421
    }, 
    {
     "cell_type": "code", 
     "collapsed": true, 
     "input": [
      "names= np.array(['Bob', 'Joe', 'Will', 'Bob', 'Will', 'Joe', 'Joe'])"
     ], 
     "language": "python", 
     "outputs": [], 
     "prompt_number": 422
    }, 
    {
     "cell_type": "code", 
     "collapsed": false, 
     "input": [
      "#\u627e\u51fa\u6570\u7ec4\u4e2d\u7684\u552f\u4e00\u503c\u5e76\u8fd4\u56de\u5df2\u6392\u5e8f\u7684\u7ed3\u679c", 
      "np.unique(names)"
     ], 
     "language": "python", 
     "outputs": [
      {
       "output_type": "pyout", 
       "prompt_number": 423, 
       "text": [
        "array(['Bob', 'Joe', 'Will'], ", 
        "      dtype='|S4')"
       ]
      }
     ], 
     "prompt_number": 423
    }, 
    {
     "cell_type": "code", 
     "collapsed": true, 
     "input": [
      "ints = np.array([3,3,3,2,2,1,1,4,4])"
     ], 
     "language": "python", 
     "outputs": [], 
     "prompt_number": 424
    }, 
    {
     "cell_type": "code", 
     "collapsed": false, 
     "input": [
      "np.unique(ints)"
     ], 
     "language": "python", 
     "outputs": [
      {
       "output_type": "pyout", 
       "prompt_number": 425, 
       "text": [
        "array([1, 2, 3, 4])"
       ]
      }
     ], 
     "prompt_number": 425
    }, 
    {
     "cell_type": "code", 
     "collapsed": false, 
     "input": [
      "sorted(set(names))"
     ], 
     "language": "python", 
     "outputs": [
      {
       "output_type": "pyout", 
       "prompt_number": 426, 
       "text": [
        "['Bob', 'Joe', 'Will']"
       ]
      }
     ], 
     "prompt_number": 426
    }, 
    {
     "cell_type": "code", 
     "collapsed": true, 
     "input": [
      "values = np.array([6,0,0,3,2,5,6])"
     ], 
     "language": "python", 
     "outputs": [], 
     "prompt_number": 427
    }, 
    {
     "cell_type": "code", 
     "collapsed": false, 
     "input": [
      "#\u7528\u4e8e\u6d4b\u8bd5\u4e00\u4e2a\u6570\u7ec4\u4e2d\u7684\u503c\u5728\u53e6\u4e00\u4e2a\u6570\u7ec4\u4e2d\u7684\u6210\u5458\u8d44\u683c\uff0c\u8fd4\u56de\u4e00\u4e2a\u5e03\u5c14\u578b\u6570\u636e", 
      "np.in1d(values, [2,3,6])"
     ], 
     "language": "python", 
     "outputs": [
      {
       "output_type": "pyout", 
       "prompt_number": 428, 
       "text": [
        "array([ True, False, False,  True,  True, False,  True], dtype=bool)"
       ]
      }
     ], 
     "prompt_number": 428
    }, 
    {
     "cell_type": "code", 
     "collapsed": true, 
     "input": [
      "#np.setxor1d(x,y) \u96c6\u5408\u7684\u5bf9\u79f0\u5dee\uff0c\u5373\u5b58\u5728\u4e8e\u4e00\u4e2a\u6570\u7ec4\u4e2d\u4f46\u4e0d\u540c\u5b58\u5728\u4e8e\u4e24\u4e2a\u6570\u7ec4\u4e2d\u7684\u5143\u7d20", 
      "arr_x = np.array([1,4,5,7,9])", 
      "arr_y = np.array([1,3,6,7,9])"
     ], 
     "language": "python", 
     "outputs": [], 
     "prompt_number": 429
    }, 
    {
     "cell_type": "code", 
     "collapsed": false, 
     "input": [
      "np.setxor1d(arr_x, arr_y)"
     ], 
     "language": "python", 
     "outputs": [
      {
       "output_type": "pyout", 
       "prompt_number": 430, 
       "text": [
        "array([3, 4, 5, 6])"
       ]
      }
     ], 
     "prompt_number": 430
    }, 
    {
     "cell_type": "code", 
     "collapsed": false, 
     "input": [
      "arr_x"
     ], 
     "language": "python", 
     "outputs": [
      {
       "output_type": "pyout", 
       "prompt_number": 431, 
       "text": [
        "array([1, 4, 5, 7, 9])"
       ]
      }
     ], 
     "prompt_number": 431
    }, 
    {
     "cell_type": "code", 
     "collapsed": false, 
     "input": [
      "arr_y"
     ], 
     "language": "python", 
     "outputs": [
      {
       "output_type": "pyout", 
       "prompt_number": 432, 
       "text": [
        "array([1, 3, 6, 7, 9])"
       ]
      }
     ], 
     "prompt_number": 432
    }, 
    {
     "cell_type": "code", 
     "collapsed": true, 
     "input": [
      "#np.intersect1d(x, y)\u8ba1\u7b97x\u548cy\u4e2d\u7684\u516c\u5171\u5143\u7d20\uff0c\u5e76\u8fd4\u56de\u6709\u5e8f\u7ed3\u679c", 
      "arr_x_y_common = np.intersect1d(arr_x, arr_y)"
     ], 
     "language": "python", 
     "outputs": [], 
     "prompt_number": 433
    }, 
    {
     "cell_type": "code", 
     "collapsed": false, 
     "input": [
      "arr_x_y_common"
     ], 
     "language": "python", 
     "outputs": [
      {
       "output_type": "pyout", 
       "prompt_number": 434, 
       "text": [
        "array([1, 7, 9])"
       ]
      }
     ], 
     "prompt_number": 434
    }, 
    {
     "cell_type": "code", 
     "collapsed": true, 
     "input": [
      "#\u53bb\u6389arr_x\u4e2d\u5305\u542b\u7684arr_y\u4e2d\u7684\u5143\u7d20", 
      "arr_final = np.setxor1d(arr_x, arr_x_y_common)"
     ], 
     "language": "python", 
     "outputs": [], 
     "prompt_number": 435
    }, 
    {
     "cell_type": "code", 
     "collapsed": false, 
     "input": [
      "arr_final"
     ], 
     "language": "python", 
     "outputs": [
      {
       "output_type": "pyout", 
       "prompt_number": 436, 
       "text": [
        "array([4, 5])"
       ]
      }
     ], 
     "prompt_number": 436
    }, 
    {
     "cell_type": "code", 
     "collapsed": true, 
     "input": [
      "#\u7528\u4e8e\u6570\u7ec4\u7684\u6587\u4ef6\u8f93\u5165\u8f93\u51fa"
     ], 
     "language": "python", 
     "outputs": [], 
     "prompt_number": 437
    }, 
    {
     "cell_type": "code", 
     "collapsed": true, 
     "input": [
      "#\u5c06\u6570\u636e\u5df2\u4e8c\u8fdb\u5236\u683c\u5f0f\u4fdd\u5b58\u5230\u78c1\u76d8"
     ], 
     "language": "python", 
     "outputs": [], 
     "prompt_number": 438
    }, 
    {
     "cell_type": "code", 
     "collapsed": true, 
     "input": [
      "arr =  np.arange(10)"
     ], 
     "language": "python", 
     "outputs": [], 
     "prompt_number": 439
    }, 
    {
     "cell_type": "code", 
     "collapsed": true, 
     "input": [
      "np.save('book_scripts/ch04/some_array', arr)"
     ], 
     "language": "python", 
     "outputs": [], 
     "prompt_number": 440
    }, 
    {
     "cell_type": "code", 
     "collapsed": false, 
     "input": [
      "np.load('book_scripts/ch04/some_array.npy')"
     ], 
     "language": "python", 
     "outputs": [
      {
       "output_type": "pyout", 
       "prompt_number": 441, 
       "text": [
        "array([0, 1, 2, 3, 4, 5, 6, 7, 8, 9])"
       ]
      }
     ], 
     "prompt_number": 441
    }, 
    {
     "cell_type": "code", 
     "collapsed": true, 
     "input": [
      "np.savez('book_scripts/ch04/array_archive.npz', x=arr_x, y=arr_y)"
     ], 
     "language": "python", 
     "outputs": [], 
     "prompt_number": 442
    }, 
    {
     "cell_type": "code", 
     "collapsed": true, 
     "input": [
      "arch = np.load('book_scripts/ch04/array_archive.npz')"
     ], 
     "language": "python", 
     "outputs": [], 
     "prompt_number": 443
    }, 
    {
     "cell_type": "code", 
     "collapsed": false, 
     "input": [
      "arch['x']"
     ], 
     "language": "python", 
     "outputs": [
      {
       "output_type": "pyout", 
       "prompt_number": 444, 
       "text": [
        "array([1, 4, 5, 7, 9])"
       ]
      }
     ], 
     "prompt_number": 444
    }, 
    {
     "cell_type": "code", 
     "collapsed": false, 
     "input": [
      "arch['y']"
     ], 
     "language": "python", 
     "outputs": [
      {
       "output_type": "pyout", 
       "prompt_number": 445, 
       "text": [
        "array([1, 3, 6, 7, 9])"
       ]
      }
     ], 
     "prompt_number": 445
    }, 
    {
     "cell_type": "code", 
     "collapsed": true, 
     "input": [
      "#\u5b58\u53d6\u6587\u672c\u6587\u4ef6"
     ], 
     "language": "python", 
     "outputs": [], 
     "prompt_number": 455
    }, 
    {
     "cell_type": "code", 
     "collapsed": true, 
     "input": [
      "#############################################", 
      "#  \u53bb\u6389new_arr_x\u4e2d\u5305\u542b\u7684new_arr_y\u4e2d\u7684\u5143\u7d20\uff0c", 
      "#  \u5982\u679cnew_arr_y\u4e2d\u7684\u5143\u7d20\u4e0d\u5728new_arr_x\u4e2d\uff0c\u5219\u5ffd\u7565", 
      "#np.savetxt('book_scripts/ch04/arr_x.txt', arr_x, fmt='%d')", 
      "#np.savetxt('book_scripts/ch04/arr_y.txt', arr_y, fmt='%d')"
     ], 
     "language": "python", 
     "outputs": [], 
     "prompt_number": 456
    }, 
    {
     "cell_type": "code", 
     "collapsed": false, 
     "input": [
      "new_arr_x = np.loadtxt('book_scripts/ch04/arr_x.txt', dtype='int')", 
      "new_arr_x"
     ], 
     "language": "python", 
     "outputs": [
      {
       "output_type": "pyout", 
       "prompt_number": 461, 
       "text": [
        "array([1653, 1119, 1326, 1324, 1308, 1242, 1226, 1148, 1096, 1089, 1046,", 
        "       1044])"
       ]
      }
     ], 
     "prompt_number": 461
    }, 
    {
     "cell_type": "code", 
     "collapsed": false, 
     "input": [
      "new_arr_y = np.loadtxt('book_scripts/ch04/arr_y.txt', dtype='int')", 
      "new_arr_y"
     ], 
     "language": "python", 
     "outputs": [
      {
       "output_type": "pyout", 
       "prompt_number": 462, 
       "text": [
        "array([1111, 1324, 1212, 1148, 1313, 1044])"
       ]
      }
     ], 
     "prompt_number": 462
    }, 
    {
     "cell_type": "code", 
     "collapsed": false, 
     "input": [
      "#np.intersect1d(x, y)\u8ba1\u7b97x\u548cy\u4e2d\u7684\u516c\u5171\u5143\u7d20\uff0c\u5e76\u8fd4\u56de\u6709\u5e8f\u7ed3\u679c", 
      "new_arr_x_y_common = np.intersect1d(new_arr_x, new_arr_y)", 
      "new_arr_x_y_common"
     ], 
     "language": "python", 
     "outputs": [
      {
       "output_type": "pyout", 
       "prompt_number": 464, 
       "text": [
        "array([1044, 1148, 1324])"
       ]
      }
     ], 
     "prompt_number": 464
    }, 
    {
     "cell_type": "code", 
     "collapsed": false, 
     "input": [
      "#\u53bb\u6389new_arr_x\u4e2d\u5305\u542b\u7684new_arr_y\u4e2d\u7684\u5143\u7d20", 
      "new_arr_final = np.setxor1d(new_arr_x, new_arr_x_y_common)", 
      "new_arr_final"
     ], 
     "language": "python", 
     "outputs": [
      {
       "output_type": "pyout", 
       "prompt_number": 465, 
       "text": [
        "array([1046, 1089, 1096, 1119, 1226, 1242, 1308, 1326, 1653])"
       ]
      }
     ], 
     "prompt_number": 465
    }, 
    {
     "cell_type": "code", 
     "collapsed": true, 
     "input": [
      "np.savetxt('book_scripts/ch04/arr_final.txt', new_arr_final, fmt='%d')"
     ], 
     "language": "python", 
     "outputs": [], 
     "prompt_number": 467
    }, 
    {
     "cell_type": "code", 
     "collapsed": true, 
     "input": [], 
     "language": "python", 
     "outputs": []
    }
   ]
  }
 ]
}