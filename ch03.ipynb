{
 "metadata": {
  "name": "ch03"
 }, 
 "nbformat": 2, 
 "worksheets": [
  {
   "cells": [
    {
     "cell_type": "code", 
     "collapsed": true, 
     "input": [
      "a = 5"
     ], 
     "language": "python", 
     "outputs": [], 
     "prompt_number": 134
    }, 
    {
     "cell_type": "code", 
     "collapsed": false, 
     "input": [
      "a"
     ], 
     "language": "python", 
     "outputs": [
      {
       "output_type": "pyout", 
       "prompt_number": 135, 
       "text": [
        "5"
       ]
      }
     ], 
     "prompt_number": 135
    }, 
    {
     "cell_type": "code", 
     "collapsed": true, 
     "input": [
      "import numpy as np", 
      "data = {i : randn() for i in range(7)}"
     ], 
     "language": "python", 
     "outputs": [], 
     "prompt_number": 136
    }, 
    {
     "cell_type": "code", 
     "collapsed": false, 
     "input": [
      "data"
     ], 
     "language": "python", 
     "outputs": [
      {
       "output_type": "pyout", 
       "prompt_number": 137, 
       "text": [
        "{0: 0.8744839835329479,", 
        " 1: 0.15803953578108335,", 
        " 2: 0.47865954509893,", 
        " 3: 0.25184907332409234,", 
        " 4: 1.5313454123337007,", 
        " 5: 0.26798695346322915,", 
        " 6: -0.5274423804657942}"
       ]
      }
     ], 
     "prompt_number": 137
    }, 
    {
     "cell_type": "code", 
     "collapsed": true, 
     "input": [
      "an_apple = 27", 
      "an_example = 42"
     ], 
     "language": "python", 
     "outputs": [], 
     "prompt_number": 138
    }, 
    {
     "cell_type": "code", 
     "collapsed": true, 
     "input": [
      "b = [1,2,3]"
     ], 
     "language": "python", 
     "outputs": [], 
     "prompt_number": 139
    }, 
    {
     "cell_type": "code", 
     "collapsed": false, 
     "input": [
      "b.pop()"
     ], 
     "language": "python", 
     "outputs": [
      {
       "output_type": "pyout", 
       "prompt_number": 140, 
       "text": [
        "3"
       ]
      }
     ], 
     "prompt_number": 140
    }, 
    {
     "cell_type": "code", 
     "collapsed": false, 
     "input": [
      "b"
     ], 
     "language": "python", 
     "outputs": [
      {
       "output_type": "pyout", 
       "prompt_number": 141, 
       "text": [
        "[1, 2]"
       ]
      }
     ], 
     "prompt_number": 141
    }, 
    {
     "cell_type": "code", 
     "collapsed": false, 
     "input": [
      "print b.count"
     ], 
     "language": "python", 
     "outputs": [
      {
       "output_type": "stream", 
       "stream": "stdout", 
       "text": [
        "<built-in method count of list object at 0x05427940>"
       ]
      }
     ], 
     "prompt_number": 142
    }, 
    {
     "cell_type": "code", 
     "collapsed": true, 
     "input": [
      "import datetime"
     ], 
     "language": "python", 
     "outputs": [], 
     "prompt_number": 143
    }, 
    {
     "cell_type": "code", 
     "collapsed": false, 
     "input": [
      "datetime.__class__"
     ], 
     "language": "python", 
     "outputs": [
      {
       "output_type": "pyout", 
       "prompt_number": 144, 
       "text": [
        "module"
       ]
      }
     ], 
     "prompt_number": 144
    }, 
    {
     "cell_type": "code", 
     "collapsed": true, 
     "input": [
      "i=5"
     ], 
     "language": "python", 
     "outputs": [], 
     "prompt_number": 145
    }, 
    {
     "cell_type": "code", 
     "collapsed": true, 
     "input": [
      "j=str(i)"
     ], 
     "language": "python", 
     "outputs": [], 
     "prompt_number": 146
    }, 
    {
     "cell_type": "code", 
     "collapsed": false, 
     "input": [
      "j"
     ], 
     "language": "python", 
     "outputs": [
      {
       "output_type": "pyout", 
       "prompt_number": 147, 
       "text": [
        "'5'"
       ]
      }
     ], 
     "prompt_number": 147
    }, 
    {
     "cell_type": "code", 
     "collapsed": false, 
     "input": [
      "print 5,'a'"
     ], 
     "language": "python", 
     "outputs": [
      {
       "output_type": "stream", 
       "stream": "stdout", 
       "text": [
        "5 a"
       ]
      }
     ], 
     "prompt_number": 148
    }, 
    {
     "cell_type": "code", 
     "collapsed": false, 
     "input": [
      "print str(5) +  'a'"
     ], 
     "language": "python", 
     "outputs": [
      {
       "output_type": "stream", 
       "stream": "stdout", 
       "text": [
        "5a"
       ]
      }
     ], 
     "prompt_number": 149
    }, 
    {
     "cell_type": "code", 
     "collapsed": true, 
     "input": [
      "path = 'book_scripts/ch02/names/yob1880.txt'"
     ], 
     "language": "python", 
     "outputs": [], 
     "prompt_number": 150
    }, 
    {
     "cell_type": "code", 
     "collapsed": true, 
     "input": [
      "f = open(path)"
     ], 
     "language": "python", 
     "outputs": [], 
     "prompt_number": 151
    }, 
    {
     "cell_type": "code", 
     "collapsed": true, 
     "input": [
      "lines = f.readlines"
     ], 
     "language": "python", 
     "outputs": [], 
     "prompt_number": 152
    }, 
    {
     "cell_type": "code", 
     "collapsed": true, 
     "input": [
      "#randn??"
     ], 
     "language": "python", 
     "outputs": [], 
     "prompt_number": 153
    }, 
    {
     "cell_type": "code", 
     "collapsed": true, 
     "input": [
      "#np.*load*?"
     ], 
     "language": "python", 
     "outputs": [], 
     "prompt_number": 154
    }, 
    {
     "cell_type": "code", 
     "collapsed": true, 
     "input": [
      "%run ipython_script_test.py"
     ], 
     "language": "python", 
     "outputs": [], 
     "prompt_number": 155
    }, 
    {
     "cell_type": "code", 
     "collapsed": true, 
     "input": [
      "a=5", 
      "b=6", 
      "c=7.5", 
      "result=f(a,b,c)"
     ], 
     "language": "python", 
     "outputs": [], 
     "prompt_number": 156
    }, 
    {
     "cell_type": "code", 
     "collapsed": false, 
     "input": [
      "result"
     ], 
     "language": "python", 
     "outputs": [
      {
       "output_type": "pyout", 
       "prompt_number": 157, 
       "text": [
        "1.4666666666666666"
       ]
      }
     ], 
     "prompt_number": 157
    }, 
    {
     "cell_type": "code", 
     "collapsed": false, 
     "input": [
      "%cpaste"
     ], 
     "language": "python", 
     "outputs": [
      {
       "output_type": "stream", 
       "stream": "stderr", 
       "text": [
        "ERROR: Magic function `cpaste` not found."
       ]
      }
     ], 
     "prompt_number": 158
    }, 
    {
     "cell_type": "code", 
     "collapsed": true, 
     "input": [
      "a = np.random.randn(100,100)"
     ], 
     "language": "python", 
     "outputs": [], 
     "prompt_number": 159
    }, 
    {
     "cell_type": "code", 
     "collapsed": false, 
     "input": [
      "%timeit np.dot(a,a)"
     ], 
     "language": "python", 
     "outputs": [
      {
       "output_type": "stream", 
       "stream": "stdout", 
       "text": [
        "1000 loops, best of 3: 426 us per loop"
       ]
      }
     ], 
     "prompt_number": 160
    }, 
    {
     "cell_type": "code", 
     "collapsed": true, 
     "input": [
      "#%reset?"
     ], 
     "language": "python", 
     "outputs": [], 
     "prompt_number": 161
    }, 
    {
     "cell_type": "code", 
     "collapsed": true, 
     "input": [
      "#%quickref"
     ], 
     "language": "python", 
     "outputs": [], 
     "prompt_number": 162
    }, 
    {
     "cell_type": "code", 
     "collapsed": true, 
     "input": [
      "img = plt.imread('book_scripts/ch03/stinkbug.png')"
     ], 
     "language": "python", 
     "outputs": [], 
     "prompt_number": 163
    }, 
    {
     "cell_type": "code", 
     "collapsed": false, 
     "input": [
      "imshow(img)"
     ], 
     "language": "python", 
     "outputs": [
      {
       "output_type": "pyout", 
       "prompt_number": 164, 
       "text": [
        "<matplotlib.image.AxesImage at 0x690af10>"
       ]
      }, 
      {
       "output_type": "display_data", 
       "png": "[encoded data removed]"
      }
     ], 
     "prompt_number": 164
    }, 
    {
     "cell_type": "code", 
     "collapsed": false, 
     "input": [
      "plot(randn(1000).cumsum())"
     ], 
     "language": "python", 
     "outputs": [
      {
       "output_type": "pyout", 
       "prompt_number": 165, 
       "text": [
        "[<matplotlib.lines.Line2D at 0x697f490>]"
       ]
      }, 
      {
       "output_type": "display_data", 
       "png": "[encoded data removed]"
      }
     ], 
     "prompt_number": 165
    }, 
    {
     "cell_type": "code", 
     "collapsed": false, 
     "input": [
      "from pylab import *", 
      "mpl.rcParams['font.sans-serif'] = ['SimHei'] #\u6307\u5b9a\u9ed8\u8ba4\u5b57\u4f53", 
      "", 
      "mpl.rcParams['axes.unicode_minus'] = False #\u89e3\u51b3\u4fdd\u5b58\u56fe\u50cf\u662f\u8d1f\u53f7'-'\u663e\u793a\u4e3a\u65b9\u5757\u7684\u95ee\u9898", 
      "", 
      "t = arange(-5*pi, 5*pi, 0.01)", 
      "y = sin(t)/t", 
      "plt.plot(t, y)", 
      "plt.title(u'\u8fd9\u91cc\u5199\u7684\u662f\u4e2d\u6587')", 
      "plt.xlabel(u'X\u5750\u6807')", 
      "plt.ylabel(u'Y\u5750\u6807')", 
      "plt.show()"
     ], 
     "language": "python", 
     "outputs": [
      {
       "output_type": "display_data", 
       "png": "[encoded data removed]"
      }
     ], 
     "prompt_number": 166
    }, 
    {
     "cell_type": "code", 
     "collapsed": false, 
     "input": [
      "import this"
     ], 
     "language": "python", 
     "outputs": [
      {
       "output_type": "stream", 
       "stream": "stdout", 
       "text": [
        "The Zen of Python, by Tim Peters", 
        "", 
        "Beautiful is better than ugly.", 
        "Explicit is better than implicit.", 
        "Simple is better than complex.", 
        "Complex is better than complicated.", 
        "Flat is better than nested.", 
        "Sparse is better than dense.", 
        "Readability counts.", 
        "Special cases aren't special enough to break the rules.", 
        "Although practicality beats purity.", 
        "Errors should never pass silently.", 
        "Unless explicitly silenced.", 
        "In the face of ambiguity, refuse the temptation to guess.", 
        "There should be one-- and preferably only one --obvious way to do it.", 
        "Although that way may not be obvious at first unless you're Dutch.", 
        "Now is better than never.", 
        "Although never is often better than *right* now.", 
        "If the implementation is hard to explain, it's a bad idea.", 
        "If the implementation is easy to explain, it may be a good idea.", 
        "Namespaces are one honking great idea -- let's do more of those!"
       ]
      }
     ], 
     "prompt_number": 167
    }, 
    {
     "cell_type": "code", 
     "collapsed": true, 
     "input": [
      "this??"
     ], 
     "language": "python", 
     "outputs": [], 
     "prompt_number": 169
    }, 
    {
     "cell_type": "code", 
     "collapsed": false, 
     "input": [
      "s = \"\"\"Gur Mra bs Clguba, ol Gvz Crgref", 
      "", 
      "Ornhgvshy vf orggre guna htyl.", 
      "Rkcyvpvg vf orggre guna vzcyvpvg.", 
      "Fvzcyr vf orggre guna pbzcyrk.", 
      "Pbzcyrk vf orggre guna pbzcyvpngrq.", 
      "Syng vf orggre guna arfgrq.", 
      "Fcnefr vf orggre guna qrafr.", 
      "Ernqnovyvgl pbhagf.", 
      "Fcrpvny pnfrf nera'g fcrpvny rabhtu gb oernx gur ehyrf.", 
      "Nygubhtu cenpgvpnyvgl orngf chevgl.", 
      "Reebef fubhyq arire cnff fvyragyl.", 
      "Hayrff rkcyvpvgyl fvyraprq.", 
      "Va gur snpr bs nzovthvgl, ershfr gur grzcgngvba gb thrff.", 
      "Gurer fubhyq or bar-- naq cersrenoyl bayl bar --boivbhf jnl gb qb vg.", 
      "Nygubhtu gung jnl znl abg or boivbhf ng svefg hayrff lbh'er Qhgpu.", 
      "Abj vf orggre guna arire.", 
      "Nygubhtu arire vf bsgra orggre guna *evtug* abj.", 
      "Vs gur vzcyrzragngvba vf uneq gb rkcynva, vg'f n onq vqrn.", 
      "Vs gur vzcyrzragngvba vf rnfl gb rkcynva, vg znl or n tbbq vqrn.", 
      "Anzrfcnprf ner bar ubaxvat terng vqrn -- yrg'f qb zber bs gubfr!\"\"\"", 
      "", 
      "d = {}", 
      "for c in (65, 97):", 
      "    for i in range(26):", 
      "        d[chr(i+c)] = chr((i+13) % 26 + c)", 
      "", 
      "print \"\".join([d.get(c, c) for c in s])"
     ], 
     "language": "python", 
     "outputs": [
      {
       "output_type": "stream", 
       "stream": "stdout", 
       "text": [
        "The Zen of Python, by Tim Peters", 
        "", 
        "Beautiful is better than ugly.", 
        "Explicit is better than implicit.", 
        "Simple is better than complex.", 
        "Complex is better than complicated.", 
        "Flat is better than nested.", 
        "Sparse is better than dense.", 
        "Readability counts.", 
        "Special cases aren't special enough to break the rules.", 
        "Although practicality beats purity.", 
        "Errors should never pass silently.", 
        "Unless explicitly silenced.", 
        "In the face of ambiguity, refuse the temptation to guess.", 
        "There should be one-- and preferably only one --obvious way to do it.", 
        "Although that way may not be obvious at first unless you're Dutch.", 
        "Now is better than never.", 
        "Although never is often better than *right* now.", 
        "If the implementation is hard to explain, it's a bad idea.", 
        "If the implementation is easy to explain, it may be a good idea.", 
        "Namespaces are one honking great idea -- let's do more of those!"
       ]
      }
     ], 
     "prompt_number": 170
    }, 
    {
     "cell_type": "code", 
     "collapsed": true, 
     "input": [
      "class Message:", 
      "    def __init__(self, msg):", 
      "        self.msg = msg", 
      "    def __repr__(self):", 
      "        return 'Message: %s' % self.msg"
     ], 
     "language": "python", 
     "outputs": [], 
     "prompt_number": 175
    }, 
    {
     "cell_type": "code", 
     "collapsed": true, 
     "input": [
      "x = Message('I have a secret')"
     ], 
     "language": "python", 
     "outputs": [], 
     "prompt_number": 176
    }, 
    {
     "cell_type": "code", 
     "collapsed": false, 
     "input": [
      "x"
     ], 
     "language": "python", 
     "outputs": [
      {
       "output_type": "pyout", 
       "prompt_number": 177, 
       "text": [
        "Message: I have a secret"
       ]
      }
     ], 
     "prompt_number": 177
    }, 
    {
     "cell_type": "code", 
     "collapsed": true, 
     "input": [], 
     "language": "python", 
     "outputs": []
    }
   ]
  }
 ]
}